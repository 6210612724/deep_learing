{
 "cells": [
  {
   "cell_type": "code",
   "execution_count": 59,
   "metadata": {
    "id": "dYr-_oZSyBAN"
   },
   "outputs": [],
   "source": [
    "# Import libraries and packages\n",
    "import matplotlib as plt\n",
    "import matplotlib.pyplot as plt\n",
    "plt.style.use('ggplot')\n",
    "%matplotlib inline\n",
    "from sklearn.preprocessing import LabelBinarizer\n",
    "from sklearn.model_selection import train_test_split\n",
    "from sklearn.metrics import classification_report\n",
    "from keras.models import Sequential\n",
    "from keras.layers.core import Dense\n",
    "from tensorflow.keras.optimizers import SGD\n",
    "from imutils import paths\n",
    "import matplotlib.pyplot as plt\n",
    "import numpy as np\n",
    "import random\n",
    "import pickle\n",
    "import cv2\n",
    "import os\n",
    "import time   # time1 = time.time(); print('Time taken: {:.1f} seconds'.format(time.time() - time1))\n",
    "import warnings\n",
    "warnings.filterwarnings(\"ignore\")\n",
    "SEED = 42   # set random seed"
   ]
  },
  {
   "cell_type": "code",
   "execution_count": 60,
   "metadata": {
    "id": "ed4VnxrW1uWH"
   },
   "outputs": [
    {
     "name": "stdout",
     "output_type": "stream",
     "text": [
      "[INFO] loading images...\n",
      "Time taken: 8.0 seconds\n",
      "done\n"
     ]
    }
   ],
   "source": [
    "# initialize the data and labels\n",
    "print(\"[INFO] loading images...\")\n",
    "time1 = time.time()   # to measure time taken\n",
    "data = []\n",
    "labels = []\n",
    "\n",
    "# grab the image paths and randomly shuffle them\n",
    "imagePaths = sorted(list(paths.list_images('C:/Users/thanawin/Desktop/Deep/detect/train')))   # data folder with 3 categorical folders\n",
    "random.seed(SEED)\n",
    "random.shuffle(imagePaths)\n",
    "\n",
    "# loop over the input images\n",
    "for imagePath in imagePaths:\n",
    "    # load the image, resize the image to be 32x32 pixels (ignoring aspect ratio), \n",
    "    # flatten the 32x32x3=3072 pixel image into a list, and store the image in the data list\n",
    "    image = cv2.imread(imagePath)\n",
    "    image = cv2.resize(image, (32, 32)).flatten()\n",
    "    data.append(image)\n",
    " \n",
    "    # extract the class label from the image path and update the labels list\n",
    "    label = imagePath.split(os.path.sep)[-2]\n",
    "    labels.append(label)\n",
    "\n",
    "# scale the raw pixel intensities to the range [0, 1]\n",
    "data = np.array(data, dtype=\"float\") / 255.0\n",
    "labels = np.array(labels)\n",
    "\n",
    "print('Time taken: {:.1f} seconds'.format(time.time() - time1))   # to measure time taken\n",
    "print(\"done\")"
   ]
  },
  {
   "cell_type": "code",
   "execution_count": 61,
   "metadata": {
    "id": "h4CTVRK012FJ"
   },
   "outputs": [],
   "source": [
    "# partition the data into 80% training and 20% validation\n",
    "(trainX, testX, trainY, testY) = train_test_split(data, labels, test_size=0.4, random_state=SEED)"
   ]
  },
  {
   "cell_type": "code",
   "execution_count": 62,
   "metadata": {
    "id": "b4ikhT4q14sz"
   },
   "outputs": [],
   "source": [
    "# convert the labels from integers/categories to vectors \n",
    "# (for 2-class, binary classification you should use Keras' to_categorical function instead)\n",
    "lb = LabelBinarizer()\n",
    "trainY = lb.fit_transform(trainY)   # fit_transform = find all unique class labels + transform into one-hot encoded labels\n",
    "testY = lb.transform(testY)         # transform = perform the one-hot encoding (unique class labels already found)\n",
    "\n",
    "# This is the categorical vector after transformation\n",
    "# [1, 0, 0] # corresponds to cat\n",
    "# [0, 1, 0] # corresponds to dog\n",
    "# [0, 0, 1] # corresponds to panda"
   ]
  },
  {
   "cell_type": "code",
   "execution_count": 63,
   "metadata": {
    "id": "eaLN5CSx17MT"
   },
   "outputs": [
    {
     "data": {
      "text/plain": [
       "array([[0, 0, 1, ..., 0, 0, 0],\n",
       "       [1, 0, 0, ..., 0, 0, 0],\n",
       "       [0, 0, 1, ..., 0, 0, 0],\n",
       "       ...,\n",
       "       [0, 0, 0, ..., 0, 0, 0],\n",
       "       [0, 0, 1, ..., 0, 0, 0],\n",
       "       [0, 0, 0, ..., 0, 0, 1]])"
      ]
     },
     "execution_count": 63,
     "metadata": {},
     "output_type": "execute_result"
    }
   ],
   "source": [
    "trainY"
   ]
  },
  {
   "cell_type": "code",
   "execution_count": 64,
   "metadata": {
    "id": "QRkY3xYM189y"
   },
   "outputs": [],
   "source": [
    "# define the 3072-1024-512-3 architecture using Keras\n",
    "\n",
    "model = Sequential()   # input layer 3072 as there are 32x32x3=3072 pixels in a flattened input image\n",
    "model.add(Dense(1024, input_shape=(3072,), activation=\"sigmoid\"))   # first hidden layer has 1024 nodes\n",
    "model.add(Dense(512, activation=\"sigmoid\"))                         # second hidden layer has 512 nodes\n",
    "model.add(Dense(len(lb.classes_), activation=\"softmax\"))            # output layer with number of possible class labels"
   ]
  },
  {
   "cell_type": "code",
   "execution_count": 65,
   "metadata": {
    "id": "r_NuSwW71-12"
   },
   "outputs": [
    {
     "name": "stdout",
     "output_type": "stream",
     "text": [
      "[INFO] training network...\n"
     ]
    }
   ],
   "source": [
    "# initialize our initial learning rate and # of epochs to train for\n",
    "INIT_LR = 0.01\n",
    "EPOCHS = 60\n",
    " \n",
    "# compile the model using SGD as our optimizer and categorical cross-entropy loss\n",
    "# (you'll want to use binary_crossentropy for 2-class classification)\n",
    "print(\"[INFO] training network...\")\n",
    "opt = SGD(lr=INIT_LR)   # Stochastic Gradient Descent (SGD) optimizer\n",
    "model.compile(loss=\"categorical_crossentropy\", optimizer=opt, metrics=[\"accuracy\"])"
   ]
  },
  {
   "cell_type": "code",
   "execution_count": 66,
   "metadata": {
    "id": "VVAwrGpT2AyG"
   },
   "outputs": [
    {
     "name": "stdout",
     "output_type": "stream",
     "text": [
      "Epoch 1/60\n",
      "384/384 [==============================] - 3s 6ms/step - loss: 1.9363 - accuracy: 0.1931 - val_loss: 1.9526 - val_accuracy: 0.1181\n",
      "Epoch 2/60\n",
      "384/384 [==============================] - 2s 5ms/step - loss: 1.9134 - accuracy: 0.2154 - val_loss: 1.9133 - val_accuracy: 0.2105\n",
      "Epoch 3/60\n",
      "384/384 [==============================] - 2s 5ms/step - loss: 1.8937 - accuracy: 0.2398 - val_loss: 1.9015 - val_accuracy: 0.2025\n",
      "Epoch 4/60\n",
      "384/384 [==============================] - 2s 5ms/step - loss: 1.8797 - accuracy: 0.2410 - val_loss: 1.8870 - val_accuracy: 0.2396\n",
      "Epoch 5/60\n",
      "384/384 [==============================] - 2s 5ms/step - loss: 1.8664 - accuracy: 0.2505 - val_loss: 1.8585 - val_accuracy: 0.2808\n",
      "Epoch 6/60\n",
      "384/384 [==============================] - 2s 5ms/step - loss: 1.8526 - accuracy: 0.2545 - val_loss: 1.8437 - val_accuracy: 0.2853\n",
      "Epoch 7/60\n",
      "384/384 [==============================] - 2s 5ms/step - loss: 1.8377 - accuracy: 0.2626 - val_loss: 1.8251 - val_accuracy: 0.2676\n",
      "Epoch 8/60\n",
      "384/384 [==============================] - 2s 5ms/step - loss: 1.8224 - accuracy: 0.2738 - val_loss: 1.8131 - val_accuracy: 0.2833\n",
      "Epoch 9/60\n",
      "384/384 [==============================] - 2s 5ms/step - loss: 1.8062 - accuracy: 0.2843 - val_loss: 1.7915 - val_accuracy: 0.2951\n",
      "Epoch 10/60\n",
      "384/384 [==============================] - 2s 5ms/step - loss: 1.7895 - accuracy: 0.2918 - val_loss: 1.7840 - val_accuracy: 0.3031\n",
      "Epoch 11/60\n",
      "384/384 [==============================] - 2s 5ms/step - loss: 1.7737 - accuracy: 0.3015 - val_loss: 1.7603 - val_accuracy: 0.3229\n",
      "Epoch 12/60\n",
      "384/384 [==============================] - 2s 5ms/step - loss: 1.7581 - accuracy: 0.3092 - val_loss: 1.7543 - val_accuracy: 0.3193\n",
      "Epoch 13/60\n",
      "384/384 [==============================] - 2s 5ms/step - loss: 1.7421 - accuracy: 0.3168 - val_loss: 1.7240 - val_accuracy: 0.3181\n",
      "Epoch 14/60\n",
      "384/384 [==============================] - 2s 5ms/step - loss: 1.7282 - accuracy: 0.3209 - val_loss: 1.7121 - val_accuracy: 0.3313\n",
      "Epoch 15/60\n",
      "384/384 [==============================] - 2s 5ms/step - loss: 1.7141 - accuracy: 0.3303 - val_loss: 1.7095 - val_accuracy: 0.3328\n",
      "Epoch 16/60\n",
      "384/384 [==============================] - 2s 5ms/step - loss: 1.7002 - accuracy: 0.3330 - val_loss: 1.7177 - val_accuracy: 0.3104\n",
      "Epoch 17/60\n",
      "384/384 [==============================] - 2s 5ms/step - loss: 1.6903 - accuracy: 0.3452 - val_loss: 1.6899 - val_accuracy: 0.3385\n",
      "Epoch 18/60\n",
      "384/384 [==============================] - 2s 5ms/step - loss: 1.6783 - accuracy: 0.3454 - val_loss: 1.6716 - val_accuracy: 0.3501\n",
      "Epoch 19/60\n",
      "384/384 [==============================] - 2s 5ms/step - loss: 1.6683 - accuracy: 0.3500 - val_loss: 1.6633 - val_accuracy: 0.3563\n",
      "Epoch 20/60\n",
      "384/384 [==============================] - 2s 5ms/step - loss: 1.6593 - accuracy: 0.3564 - val_loss: 1.6441 - val_accuracy: 0.3663\n",
      "Epoch 21/60\n",
      "384/384 [==============================] - 2s 5ms/step - loss: 1.6502 - accuracy: 0.3559 - val_loss: 1.6375 - val_accuracy: 0.3684\n",
      "Epoch 22/60\n",
      "384/384 [==============================] - 2s 5ms/step - loss: 1.6413 - accuracy: 0.3611 - val_loss: 1.6345 - val_accuracy: 0.3667\n",
      "Epoch 23/60\n",
      "384/384 [==============================] - 2s 5ms/step - loss: 1.6356 - accuracy: 0.3624 - val_loss: 1.6311 - val_accuracy: 0.3531\n",
      "Epoch 24/60\n",
      "384/384 [==============================] - 2s 5ms/step - loss: 1.6270 - accuracy: 0.3703 - val_loss: 1.6125 - val_accuracy: 0.3789\n",
      "Epoch 25/60\n",
      "384/384 [==============================] - 2s 5ms/step - loss: 1.6210 - accuracy: 0.3703 - val_loss: 1.6118 - val_accuracy: 0.3764\n",
      "Epoch 26/60\n",
      "384/384 [==============================] - 2s 5ms/step - loss: 1.6151 - accuracy: 0.3768 - val_loss: 1.6228 - val_accuracy: 0.3465\n",
      "Epoch 27/60\n",
      "384/384 [==============================] - 2s 5ms/step - loss: 1.6090 - accuracy: 0.3776 - val_loss: 1.6044 - val_accuracy: 0.3877\n",
      "Epoch 28/60\n",
      "384/384 [==============================] - 2s 5ms/step - loss: 1.6021 - accuracy: 0.3813 - val_loss: 1.6050 - val_accuracy: 0.3764\n",
      "Epoch 29/60\n",
      "384/384 [==============================] - 2s 5ms/step - loss: 1.5973 - accuracy: 0.3837 - val_loss: 1.6866 - val_accuracy: 0.3349\n",
      "Epoch 30/60\n",
      "384/384 [==============================] - 2s 5ms/step - loss: 1.5938 - accuracy: 0.3860 - val_loss: 1.5847 - val_accuracy: 0.3905\n",
      "Epoch 31/60\n",
      "384/384 [==============================] - 2s 5ms/step - loss: 1.5845 - accuracy: 0.3923 - val_loss: 1.5801 - val_accuracy: 0.4023\n",
      "Epoch 32/60\n",
      "384/384 [==============================] - 2s 5ms/step - loss: 1.5802 - accuracy: 0.3902 - val_loss: 1.5896 - val_accuracy: 0.3885\n",
      "Epoch 33/60\n",
      "384/384 [==============================] - 2s 5ms/step - loss: 1.5743 - accuracy: 0.3930 - val_loss: 1.5919 - val_accuracy: 0.3916\n",
      "Epoch 34/60\n",
      "384/384 [==============================] - 2s 5ms/step - loss: 1.5691 - accuracy: 0.4011 - val_loss: 1.5639 - val_accuracy: 0.3997\n",
      "Epoch 35/60\n",
      "384/384 [==============================] - 2s 5ms/step - loss: 1.5652 - accuracy: 0.3996 - val_loss: 1.5759 - val_accuracy: 0.3892\n",
      "Epoch 36/60\n",
      "384/384 [==============================] - 2s 5ms/step - loss: 1.5579 - accuracy: 0.4015 - val_loss: 1.6280 - val_accuracy: 0.3810\n",
      "Epoch 37/60\n",
      "384/384 [==============================] - 2s 5ms/step - loss: 1.5537 - accuracy: 0.4090 - val_loss: 1.5889 - val_accuracy: 0.3872\n",
      "Epoch 38/60\n",
      "384/384 [==============================] - 2s 5ms/step - loss: 1.5468 - accuracy: 0.4115 - val_loss: 1.5583 - val_accuracy: 0.4007\n",
      "Epoch 39/60\n",
      "384/384 [==============================] - 2s 5ms/step - loss: 1.5404 - accuracy: 0.4102 - val_loss: 1.5368 - val_accuracy: 0.4172\n",
      "Epoch 40/60\n",
      "384/384 [==============================] - 2s 5ms/step - loss: 1.5364 - accuracy: 0.4151 - val_loss: 1.5512 - val_accuracy: 0.4018\n",
      "Epoch 41/60\n",
      "384/384 [==============================] - 2s 5ms/step - loss: 1.5313 - accuracy: 0.4193 - val_loss: 1.5511 - val_accuracy: 0.3864\n",
      "Epoch 42/60\n",
      "384/384 [==============================] - 2s 5ms/step - loss: 1.5275 - accuracy: 0.4205 - val_loss: 1.5300 - val_accuracy: 0.4245\n",
      "Epoch 43/60\n",
      "384/384 [==============================] - 2s 5ms/step - loss: 1.5190 - accuracy: 0.4289 - val_loss: 1.5180 - val_accuracy: 0.4150\n",
      "Epoch 44/60\n",
      "384/384 [==============================] - 2s 5ms/step - loss: 1.5159 - accuracy: 0.4249 - val_loss: 1.5506 - val_accuracy: 0.4176\n",
      "Epoch 45/60\n",
      "384/384 [==============================] - 2s 5ms/step - loss: 1.5098 - accuracy: 0.4256 - val_loss: 1.5405 - val_accuracy: 0.4089\n",
      "Epoch 46/60\n",
      "384/384 [==============================] - 2s 5ms/step - loss: 1.5057 - accuracy: 0.4260 - val_loss: 1.5166 - val_accuracy: 0.4286\n",
      "Epoch 47/60\n",
      "384/384 [==============================] - 2s 5ms/step - loss: 1.5030 - accuracy: 0.4333 - val_loss: 1.5091 - val_accuracy: 0.4233\n",
      "Epoch 48/60\n",
      "384/384 [==============================] - 2s 6ms/step - loss: 1.4941 - accuracy: 0.4349 - val_loss: 1.5264 - val_accuracy: 0.4298\n",
      "Epoch 49/60\n",
      "384/384 [==============================] - 2s 5ms/step - loss: 1.4918 - accuracy: 0.4396 - val_loss: 1.5094 - val_accuracy: 0.4253\n",
      "Epoch 50/60\n",
      "384/384 [==============================] - 2s 5ms/step - loss: 1.4861 - accuracy: 0.4394 - val_loss: 1.4873 - val_accuracy: 0.4430\n",
      "Epoch 51/60\n",
      "384/384 [==============================] - 2s 5ms/step - loss: 1.4793 - accuracy: 0.4437 - val_loss: 1.5260 - val_accuracy: 0.4085\n",
      "Epoch 52/60\n",
      "384/384 [==============================] - 2s 5ms/step - loss: 1.4765 - accuracy: 0.4445 - val_loss: 1.5171 - val_accuracy: 0.4316\n",
      "Epoch 53/60\n",
      "384/384 [==============================] - 2s 5ms/step - loss: 1.4715 - accuracy: 0.4441 - val_loss: 1.5031 - val_accuracy: 0.4293\n",
      "Epoch 54/60\n",
      "384/384 [==============================] - 2s 5ms/step - loss: 1.4679 - accuracy: 0.4454 - val_loss: 1.4818 - val_accuracy: 0.4400\n",
      "Epoch 55/60\n",
      "384/384 [==============================] - 2s 5ms/step - loss: 1.4606 - accuracy: 0.4491 - val_loss: 1.5242 - val_accuracy: 0.4265\n",
      "Epoch 56/60\n",
      "384/384 [==============================] - 2s 5ms/step - loss: 1.4573 - accuracy: 0.4520 - val_loss: 1.4794 - val_accuracy: 0.4364\n",
      "Epoch 57/60\n",
      "384/384 [==============================] - 2s 5ms/step - loss: 1.4514 - accuracy: 0.4559 - val_loss: 1.4996 - val_accuracy: 0.4337\n",
      "Epoch 58/60\n"
     ]
    },
    {
     "name": "stdout",
     "output_type": "stream",
     "text": [
      "384/384 [==============================] - 2s 5ms/step - loss: 1.4500 - accuracy: 0.4526 - val_loss: 1.4658 - val_accuracy: 0.4531\n",
      "Epoch 59/60\n",
      "384/384 [==============================] - 2s 5ms/step - loss: 1.4450 - accuracy: 0.4562 - val_loss: 1.5558 - val_accuracy: 0.4056\n",
      "Epoch 60/60\n",
      "384/384 [==============================] - 2s 5ms/step - loss: 1.4416 - accuracy: 0.4636 - val_loss: 1.4855 - val_accuracy: 0.4393\n",
      "Time taken: 111.7 seconds\n"
     ]
    }
   ],
   "source": [
    "# train the neural network on training data set\n",
    "# batch_size (32) controls the size of each group of data to pass through the network. \n",
    "# Larger GPUs would be able to accommodate larger batch sizes (eg. 64)\n",
    "time1 = time.time()   # to measure time taken\n",
    "H = model.fit(trainX, trainY, validation_data=(testX, testY), epochs=EPOCHS, batch_size=32)\n",
    "print('Time taken: {:.1f} seconds'.format(time.time() - time1))   # to measure time taken"
   ]
  },
  {
   "cell_type": "code",
   "execution_count": 67,
   "metadata": {
    "id": "bvTPcSXd2D3q"
   },
   "outputs": [
    {
     "name": "stdout",
     "output_type": "stream",
     "text": [
      "[INFO] evaluating network...\n",
      "              precision    recall  f1-score   support\n",
      "\n",
      "       anger       0.36      0.35      0.35      1578\n",
      "     disgust       0.34      0.49      0.40      1006\n",
      "        fear       0.25      0.26      0.26       912\n",
      "    hapiness       0.51      0.87      0.64      1260\n",
      "     neutral       0.47      0.30      0.36       966\n",
      "         sad       0.46      0.12      0.19      1095\n",
      "    surprise       0.66      0.59      0.62      1364\n",
      "\n",
      "    accuracy                           0.44      8181\n",
      "   macro avg       0.43      0.42      0.40      8181\n",
      "weighted avg       0.44      0.44      0.42      8181\n",
      "\n"
     ]
    }
   ],
   "source": [
    "# evaluate the network\n",
    "print(\"[INFO] evaluating network...\")\n",
    "predictions = model.predict(testX, batch_size=32)\n",
    "print(classification_report(testY.argmax(axis=1), predictions.argmax(axis=1), target_names=lb.classes_))"
   ]
  },
  {
   "cell_type": "code",
   "execution_count": 68,
   "metadata": {
    "id": "CJYxvGv82FWE"
   },
   "outputs": [
    {
     "data": {
      "image/png": "[encoded data removed]",
      "text/plain": [
       "<Figure size 720x576 with 1 Axes>"
      ]
     },
     "metadata": {},
     "output_type": "display_data"
    }
   ],
   "source": [
    "# plot the training and validation loss\n",
    "N = np.arange(0, EPOCHS)\n",
    "plt.style.use(\"ggplot\")\n",
    "plt.figure(figsize = [10,8])\n",
    "plt.plot(N, H.history[\"loss\"], label=\"train_loss\")\n",
    "plt.plot(N, H.history[\"val_loss\"], label=\"val_loss\")\n",
    "plt.title(\"Training & Validation Loss (Simple NN)\")\n",
    "plt.xlabel(\"Epoch #\", weight=\"bold\")\n",
    "plt.ylabel(\"Loss\", weight=\"bold\")\n",
    "plt.legend()\n",
    "plt.show()"
   ]
  },
  {
   "cell_type": "code",
   "execution_count": 69,
   "metadata": {
    "id": "0I4TSg9A2HES",
    "scrolled": true
   },
   "outputs": [
    {
     "data": {
      "text/plain": [
       "<matplotlib.legend.Legend at 0x18a52458b80>"
      ]
     },
     "execution_count": 69,
     "metadata": {},
     "output_type": "execute_result"
    },
    {
     "data": {
      "image/png": "[encoded data removed]",
      "text/plain": [
       "<Figure size 648x432 with 1 Axes>"
      ]
     },
     "metadata": {},
     "output_type": "display_data"
    }
   ],
   "source": [
    "# plot the training and validation accuracy\n",
    "plt.figure(figsize=(9,6))\n",
    "plt.plot(H.history['accuracy'], label='Train accuracy')\n",
    "plt.plot(H.history['val_accuracy'], label='Validation accuracy')\n",
    "plt.ylabel('Value')\n",
    "plt.xlabel('No. epoch')\n",
    "plt.legend()"
   ]
  },
  {
   "cell_type": "code",
   "execution_count": 70,
   "metadata": {
    "id": "t4oHhi-42JHt"
   },
   "outputs": [
    {
     "name": "stdout",
     "output_type": "stream",
     "text": [
      "Model: \"sequential_4\"\n",
      "_________________________________________________________________\n",
      "Layer (type)                 Output Shape              Param #   \n",
      "=================================================================\n",
      "dense_17 (Dense)             (None, 1024)              3146752   \n",
      "_________________________________________________________________\n",
      "dense_18 (Dense)             (None, 512)               524800    \n",
      "_________________________________________________________________\n",
      "dense_19 (Dense)             (None, 7)                 3591      \n",
      "=================================================================\n",
      "Total params: 3,675,143\n",
      "Trainable params: 3,675,143\n",
      "Non-trainable params: 0\n",
      "_________________________________________________________________\n"
     ]
    }
   ],
   "source": [
    "model.summary()"
   ]
  },
  {
   "cell_type": "code",
   "execution_count": 71,
   "metadata": {
    "id": "JFx0akPL2Kk5"
   },
   "outputs": [
    {
     "name": "stdout",
     "output_type": "stream",
     "text": [
      "[INFO] serializing network and label binarizer...\n"
     ]
    }
   ],
   "source": [
    "# save the model and label binarizer to disk\n",
    "print(\"[INFO] serializing network and label binarizer...\")\n",
    "model.save('simple_NN_model.h5')\n",
    "f = open('simple_NN_label_bin', \"wb\")\n",
    "f.write(pickle.dumps(lb))\n",
    "f.close()"
   ]
  },
  {
   "cell_type": "code",
   "execution_count": 72,
   "metadata": {},
   "outputs": [
    {
     "data": {
      "text/plain": [
       "(12270, 3072)"
      ]
     },
     "execution_count": 72,
     "metadata": {},
     "output_type": "execute_result"
    }
   ],
   "source": [
    "trainX.shape"
   ]
  }
 ],
 "metadata": {
  "colab": {
   "collapsed_sections": [],
   "name": "Ann_ver1.ipynb",
   "provenance": []
  },
  "kernelspec": {
   "display_name": "Python 3 (ipykernel)",
   "language": "python",
   "name": "python3"
  },
  "language_info": {
   "codemirror_mode": {
    "name": "ipython",
    "version": 3
   },
   "file_extension": ".py",
   "mimetype": "text/x-python",
   "name": "python",
   "nbconvert_exporter": "python",
   "pygments_lexer": "ipython3",
   "version": "3.9.7"
  }
 },
 "nbformat": 4,
 "nbformat_minor": 1
}
