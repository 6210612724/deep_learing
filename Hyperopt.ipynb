{
 "cells": [
  {
   "cell_type": "code",
   "execution_count": 1,
   "id": "39a4deff",
   "metadata": {},
   "outputs": [],
   "source": [
    "import numpy as np\n",
    "import pandas as pd\n",
    "\n",
    "from lightgbm.sklearn import LGBMRegressor\n",
    "from sklearn.metrics import mean_squared_error\n",
    "\n",
    "%matplotlib inline\n",
    "\n",
    "import warnings                                  # `do not disturbe` mode\n",
    "warnings.filterwarnings('ignore')"
   ]
  },
  {
   "cell_type": "code",
   "execution_count": 2,
   "id": "0329a956",
   "metadata": {},
   "outputs": [],
   "source": [
    "import numpy as np\n",
    "import pandas as pd\n",
    "import matplotlib.pyplot as plt\n",
    "%matplotlib inline\n",
    "import time\n",
    "import random\n",
    "\n",
    "# For preprocessing\n",
    "from sklearn.preprocessing import MinMaxScaler\n",
    "from sklearn.model_selection import train_test_split \n",
    "\n",
    "# For LSTM model\n",
    "from keras.models import Sequential\n",
    "from keras.layers import Dense\n",
    "from keras.layers import LSTM\n",
    "from keras.layers import Dropout\n",
    "from keras.callbacks import EarlyStopping\n",
    "from tqdm.keras import TqdmCallback\n",
    "\n",
    "# For FOPDT model\n",
    "from scipy.integrate import odeint\n",
    "\n",
    "# For hyperopt (parameter optimization)\n",
    "# ! pip install hyperopt\n",
    "from hyperopt import Trials, STATUS_OK, tpe, fmin, hp"
   ]
  },
  {
   "cell_type": "code",
   "execution_count": null,
   "id": "29170195",
   "metadata": {},
   "outputs": [],
   "source": []
  },
  {
   "cell_type": "code",
   "execution_count": 3,
   "id": "ce9f7527",
   "metadata": {},
   "outputs": [
    {
     "name": "stdout",
     "output_type": "stream",
     "text": [
      "['0', '1', '2', '3', '4', '5', '6', '7']\n"
     ]
    }
   ],
   "source": [
    "import numpy as np # linear algebra\n",
    "import pandas as pd # data processing, CSV file I/O (e.g. pd.read_csv)\n",
    "import os,cv2\n",
    "import numpy as np\n",
    "import matplotlib.pyplot as plt\n",
    "import matplotlib.image as mpimg\n",
    "from pylab import rcParams\n",
    "rcParams['figure.figsize'] = 20, 10\n",
    "from sklearn.metrics import roc_curve, auc, roc_auc_score\n",
    "from sklearn.utils import shuffle\n",
    "from sklearn.model_selection import train_test_split\n",
    "from sklearn.metrics import roc_curve,auc\n",
    "from itertools import cycle\n",
    "import keras\n",
    "import seaborn as sns\n",
    "from sklearn.model_selection import KFold\n",
    "import pandas as pd\n",
    "from keras.utils import np_utils\n",
    "# Input data files are available in the \"../input/\" directory.\n",
    "# For example, running this (by clicking run or pressing Shift+Enter) will list the files in the input directory\n",
    "from keras.models import Sequential\n",
    "from keras.layers import Dense , Activation , Dropout ,Flatten\n",
    "from keras.layers.convolutional import Conv2D\n",
    "from keras.layers.convolutional import MaxPooling2D\n",
    "from keras.metrics import categorical_accuracy\n",
    "from keras.models import model_from_json\n",
    "from keras.callbacks import ModelCheckpoint\n",
    "from keras.optimizers import *\n",
    "from tensorflow.keras.layers import BatchNormalization\n",
    "import os\n",
    "from skimage import color\n",
    "print(os.listdir(r\"C:\\Users\\thanawin\\Desktop\\data\\final_detect\\train\"))"
   ]
  },
  {
   "cell_type": "code",
   "execution_count": 4,
   "id": "7b68a2b1",
   "metadata": {},
   "outputs": [],
   "source": [
    "# Import libraries and packages\n",
    "import matplotlib as plt\n",
    "import matplotlib.pyplot as plt\n",
    "plt.style.use('ggplot')\n",
    "%matplotlib inline\n",
    "from sklearn.preprocessing import LabelBinarizer\n",
    "from sklearn.model_selection import train_test_split\n",
    "from sklearn.metrics import classification_report\n",
    "from keras.models import Sequential\n",
    "from keras.layers.core import Dense\n",
    "from tensorflow.keras.optimizers import SGD\n",
    "from imutils import paths\n",
    "import matplotlib.pyplot as plt\n",
    "import numpy as np\n",
    "import random\n",
    "import pickle\n",
    "import cv2\n",
    "import os\n",
    "import time   # time1 = time.time(); print('Time taken: {:.1f} seconds'.format(time.time() - time1))\n",
    "import warnings\n",
    "warnings.filterwarnings(\"ignore\")\n",
    "SEED = 42   # set random seed"
   ]
  },
  {
   "cell_type": "code",
   "execution_count": 5,
   "id": "09e683aa",
   "metadata": {},
   "outputs": [],
   "source": [
    "from keras.wrappers.scikit_learn import KerasClassifier\n",
    "from sklearn.model_selection import cross_val_score, cross_val_predict\n",
    "from sklearn.datasets import make_classification\n",
    "from keras.callbacks import EarlyStopping, ModelCheckpoint, ReduceLROnPlateau"
   ]
  },
  {
   "cell_type": "code",
   "execution_count": 6,
   "id": "f646ca81",
   "metadata": {},
   "outputs": [
    {
     "name": "stdout",
     "output_type": "stream",
     "text": [
      "[INFO] loading images...\n",
      "Time taken: 354.7 seconds\n",
      "done\n"
     ]
    },
    {
     "data": {
      "text/plain": [
       "(23988, 1024)"
      ]
     },
     "execution_count": 6,
     "metadata": {},
     "output_type": "execute_result"
    }
   ],
   "source": [
    "# initialize the data and labels\n",
    "print(\"[INFO] loading images...\")\n",
    "time1 = time.time()   # to measure time taken\n",
    "data = []\n",
    "labels = []\n",
    "\n",
    "# grab the image paths and randomly shuffle them\n",
    "imagePaths = sorted(list(paths.list_images(r'C:\\Users\\thanawin\\Desktop\\data\\final_detect\\train')))   # data folder with 3 categorical folders\n",
    "random.seed(SEED)\n",
    "random.shuffle(imagePaths)\n",
    "\n",
    "# loop over the input images\n",
    "for imagePath in imagePaths:\n",
    "    # load the image, resize the image to be 32x32 pixels (ignoring aspect ratio), \n",
    "    # flatten the 32x32x3=3072 pixel image into a list, and store the image in the data list\n",
    "    image = cv2.imread(imagePath)\n",
    "    image = cv2.resize(image, (32, 32))\n",
    "    image = color.rgb2gray(image).flatten()\n",
    "    data.append(image)\n",
    " \n",
    "    # extract the class label from the image path and update the labels list\n",
    "    label = imagePath.split(os.path.sep)[-2]\n",
    "    labels.append(label)\n",
    "\n",
    "# scale the raw pixel intensities to the range [0, 1]\n",
    "\n",
    "data = np.array(data, dtype=\"float\") / 255.0\n",
    "labels = np.array(labels)\n",
    "\n",
    "print('Time taken: {:.1f} seconds'.format(time.time() - time1))   # to measure time taken\n",
    "print(\"done\")\n",
    "data.shape"
   ]
  },
  {
   "cell_type": "code",
   "execution_count": 7,
   "id": "c4c076f4",
   "metadata": {},
   "outputs": [
    {
     "ename": "NameError",
     "evalue": "name 'Y' is not defined",
     "output_type": "error",
     "traceback": [
      "\u001b[1;31m---------------------------------------------------------------------------\u001b[0m",
      "\u001b[1;31mNameError\u001b[0m                                 Traceback (most recent call last)",
      "\u001b[1;32mc:\\Users\\thanawin\\Desktop\\Deep-learing\\hyperopt_V2_complete3.ipynb Cell 8'\u001b[0m in \u001b[0;36m<cell line: 1>\u001b[1;34m()\u001b[0m\n\u001b[1;32m----> <a href='vscode-notebook-cell:/c%3A/Users/thanawin/Desktop/Deep-learing/hyperopt_V2_complete3.ipynb#ch0000007?line=0'>1</a>\u001b[0m Y\n",
      "\u001b[1;31mNameError\u001b[0m: name 'Y' is not defined"
     ]
    }
   ],
   "source": []
  },
  {
   "cell_type": "code",
   "execution_count": 9,
   "id": "b1f3ce38",
   "metadata": {},
   "outputs": [],
   "source": [
    "num_classes = 8\n",
    "Y = np_utils.to_categorical(labels, num_classes)\n",
    "\n",
    "#Shuffle the dataset\n",
    "data,targets = shuffle(data,Y, random_state=42)"
   ]
  },
  {
   "cell_type": "code",
   "execution_count": 10,
   "id": "2d987dcb",
   "metadata": {},
   "outputs": [
    {
     "data": {
      "text/plain": [
       "array([[0., 0., 0., ..., 0., 0., 0.],\n",
       "       [0., 1., 0., ..., 0., 0., 0.],\n",
       "       [0., 0., 0., ..., 0., 0., 0.],\n",
       "       ...,\n",
       "       [0., 0., 0., ..., 0., 0., 0.],\n",
       "       [0., 0., 0., ..., 1., 0., 0.],\n",
       "       [0., 0., 0., ..., 1., 0., 0.]], dtype=float32)"
      ]
     },
     "execution_count": 10,
     "metadata": {},
     "output_type": "execute_result"
    }
   ],
   "source": [
    "targets"
   ]
  },
  {
   "cell_type": "code",
   "execution_count": 11,
   "id": "ca867f71",
   "metadata": {},
   "outputs": [
    {
     "ename": "NameError",
     "evalue": "name 'y' is not defined",
     "output_type": "error",
     "traceback": [
      "\u001b[1;31m---------------------------------------------------------------------------\u001b[0m",
      "\u001b[1;31mNameError\u001b[0m                                 Traceback (most recent call last)",
      "\u001b[1;32mc:\\Users\\thanawin\\Desktop\\Deep-learing\\hyperopt_V2_complete3.ipynb Cell 11'\u001b[0m in \u001b[0;36m<cell line: 1>\u001b[1;34m()\u001b[0m\n\u001b[1;32m----> <a href='vscode-notebook-cell:/c%3A/Users/thanawin/Desktop/Deep-learing/hyperopt_V2_complete3.ipynb#ch0000010?line=0'>1</a>\u001b[0m y\u001b[39m.\u001b[39mshape\n",
      "\u001b[1;31mNameError\u001b[0m: name 'y' is not defined"
     ]
    }
   ],
   "source": [
    "y.shape"
   ]
  },
  {
   "cell_type": "code",
   "execution_count": 12,
   "id": "fd76aa89",
   "metadata": {},
   "outputs": [],
   "source": [
    "from sklearn.preprocessing import MultiLabelBinarizer"
   ]
  },
  {
   "cell_type": "code",
   "execution_count": 13,
   "id": "38b2b91c",
   "metadata": {},
   "outputs": [],
   "source": [
    "X = np.load(r'C:\\Users\\thanawin\\Desktop\\data\\Final_Feature_Extraction\\HOG_embreded.npy') \n",
    "y = np.load(r'C:\\Users\\thanawin\\Desktop\\data\\Final_Feature_Extraction\\labels_HOG.npy')"
   ]
  },
  {
   "cell_type": "code",
   "execution_count": 14,
   "id": "664a4a8b",
   "metadata": {},
   "outputs": [],
   "source": [
    "from sklearn.preprocessing import LabelEncoder\n",
    "label_encoder = LabelEncoder()\n",
    "y2 = label_encoder.fit_transform(y)"
   ]
  },
  {
   "cell_type": "code",
   "execution_count": null,
   "id": "1125f3a6",
   "metadata": {},
   "outputs": [],
   "source": [
    "y2.shape"
   ]
  },
  {
   "cell_type": "code",
   "execution_count": 15,
   "id": "23f2634d",
   "metadata": {},
   "outputs": [],
   "source": [
    "num_classes = 8\n",
    "Y = np_utils.to_categorical(y2, num_classes)\n",
    "\n",
    "#Shuffle the dataset\n",
    "X,y = shuffle(X,Y, random_state=42)"
   ]
  },
  {
   "cell_type": "code",
   "execution_count": 16,
   "id": "6fef8303",
   "metadata": {},
   "outputs": [],
   "source": [
    "Xtrain, Xtest, ytrain, ytest = train_test_split(data,targets,test_size=0.2,shuffle=False)   "
   ]
  },
  {
   "cell_type": "code",
   "execution_count": 12,
   "id": "5e74266c",
   "metadata": {},
   "outputs": [
    {
     "data": {
      "text/plain": [
       "array([[2.73740869e-03, 2.76816609e-03, 1.36870434e-03, ...,\n",
       "        1.44559785e-03, 1.46097655e-03, 1.86082276e-03],\n",
       "       [3.01422530e-03, 2.12226067e-03, 1.36870434e-03, ...,\n",
       "        2.02998847e-03, 1.93771626e-03, 1.04575163e-03],\n",
       "       [1.07650903e-03, 1.07650903e-03, 7.84313725e-04, ...,\n",
       "        1.83006536e-03, 1.75317186e-03, 1.72241446e-03],\n",
       "       ...,\n",
       "       [4.30603614e-04, 5.38254517e-04, 5.07497116e-04, ...,\n",
       "        1.70703576e-03, 6.15148020e-05, 1.69165705e-04],\n",
       "       [7.53556324e-04, 7.22798923e-04, 1.38408304e-03, ...,\n",
       "        1.78392926e-03, 1.78392926e-03, 1.76855056e-03],\n",
       "       [1.84544406e-04, 1.53787005e-04, 1.69165705e-04, ...,\n",
       "        1.19953864e-03, 1.84544406e-03, 1.89158016e-03]])"
      ]
     },
     "execution_count": 12,
     "metadata": {},
     "output_type": "execute_result"
    }
   ],
   "source": [
    "Xtrain"
   ]
  },
  {
   "cell_type": "code",
   "execution_count": 13,
   "id": "b9eb530e",
   "metadata": {},
   "outputs": [
    {
     "data": {
      "text/plain": [
       "array([[2.73740869e-03, 2.76816609e-03, 1.36870434e-03, ...,\n",
       "        1.44559785e-03, 1.46097655e-03, 1.86082276e-03],\n",
       "       [3.01422530e-03, 2.12226067e-03, 1.36870434e-03, ...,\n",
       "        2.02998847e-03, 1.93771626e-03, 1.04575163e-03],\n",
       "       [1.07650903e-03, 1.07650903e-03, 7.84313725e-04, ...,\n",
       "        1.83006536e-03, 1.75317186e-03, 1.72241446e-03],\n",
       "       ...,\n",
       "       [4.30603614e-04, 5.38254517e-04, 5.07497116e-04, ...,\n",
       "        1.70703576e-03, 6.15148020e-05, 1.69165705e-04],\n",
       "       [7.53556324e-04, 7.22798923e-04, 1.38408304e-03, ...,\n",
       "        1.78392926e-03, 1.78392926e-03, 1.76855056e-03],\n",
       "       [1.84544406e-04, 1.53787005e-04, 1.69165705e-04, ...,\n",
       "        1.19953864e-03, 1.84544406e-03, 1.89158016e-03]])"
      ]
     },
     "execution_count": 13,
     "metadata": {},
     "output_type": "execute_result"
    }
   ],
   "source": [
    "Xtrain"
   ]
  },
  {
   "cell_type": "code",
   "execution_count": 17,
   "id": "fc428ee9",
   "metadata": {},
   "outputs": [],
   "source": [
    "def forecast(Xtest,ytest,model):\n",
    "    Yr = ytest\n",
    "    Yp = model.predict(Xtest)\n",
    "    Yf = ytest.copy()\n",
    "    \n",
    "    return Yr, Yp, Yf"
   ]
  },
  {
   "cell_type": "code",
   "execution_count": 18,
   "id": "e42105cf",
   "metadata": {},
   "outputs": [
    {
     "data": {
      "text/plain": [
       "\"from hyperopt.pyll.base import scope #quniform returns float, some parameters require int; use this to force int\\n\\nspace = {'rate'       : hp.uniform('rate',0.01,0.5),\\n         'units'      : scope.int(hp.quniform('units',10,100,5)),\\n         'batch_size' : scope.int(hp.quniform('batch_size',100,250,25)),\\n         'layers'     : scope.int(hp.quniform('layers',1,6,1))\\n         'kernel'\\n        }\""
      ]
     },
     "execution_count": 18,
     "metadata": {},
     "output_type": "execute_result"
    }
   ],
   "source": [
    "'''from hyperopt.pyll.base import scope #quniform returns float, some parameters require int; use this to force int\n",
    "\n",
    "space = {'rate'       : hp.uniform('rate',0.01,0.5),\n",
    "         'units'      : scope.int(hp.quniform('units',10,100,5)),\n",
    "         'batch_size' : scope.int(hp.quniform('batch_size',100,250,25)),\n",
    "         'layers'     : scope.int(hp.quniform('layers',1,6,1))\n",
    "         'kernel'\n",
    "        }'''"
   ]
  },
  {
   "cell_type": "code",
   "execution_count": 111,
   "id": "f1426429",
   "metadata": {},
   "outputs": [],
   "source": [
    "from hyperopt.pyll.base import scope\n",
    "space = { 'choice': hp.choice('num_layers',[{'layers':'two', }]),\n",
    "            'units1': hp.uniform('units1', 10,100),\n",
    "            'units2': hp.uniform('units2', 10,100),\n",
    "            'dropout1': hp.uniform('dropout1', .01,.5),\n",
    "            'dropout2': hp.uniform('dropout2',  .01,.5),\n",
    "            'learn' : hp.uniform('learn1', .001,.1),\n",
    "            'momentun' : hp.uniform('momentun1', .1,.9),\n",
    "            'batch_size' : scope.int(hp.quniform('batch_size',25,200,25)),\n",
    "            'kernel1' : hp.choice('kernel1',['uniform', 'lecun_uniform', 'normal', 'zero', 'glorot_normal', 'glorot_uniform', 'he_normal', 'he_uniform']),\n",
    "            'kernel2' : hp.choice('kernel2',['uniform', 'lecun_uniform', 'normal', 'zero', 'glorot_normal', 'glorot_uniform', 'he_normal', 'he_uniform']),\n",
    "            'epochs' : 200,\n",
    "            'optimizer': hp.choice('optimizer1',[SGD]),\n",
    "            'activation1': hp.choice('activation1',['softmax','softsign','relu','elu','tanh','linear','swish','sigmoid','leaky_relu']),\n",
    "            'activation2': hp.choice('activation2',['softmax','softsign','relu','elu','tanh','linear','swish','sigmoid','leaky_relu']),\n",
    "        }"
   ]
  },
  {
   "cell_type": "code",
   "execution_count": 112,
   "id": "1e9fa6aa",
   "metadata": {},
   "outputs": [],
   "source": [
    "def f_nn(params):\n",
    "    # Generate data with given window\n",
    "    \n",
    "\n",
    "    model = Sequential()\n",
    "    \n",
    "    print ('Params testing: ', space)\n",
    "    model=keras.Sequential()\n",
    "    model.add(Dense(units=int(params['units1']),kernel_initializer=params['kernel1'],\n",
    "                                input_shape=(1024,),\n",
    "                                kernel_regularizer=keras.regularizers.l2(0.01)))\n",
    "    model.add(Dropout(params['dropout1']))\n",
    "    model.add(Activation(params['activation1']))\n",
    "    ##layer2\n",
    "    model.add(Dense(units=int(params['units2']),kernel_initializer=params['kernel2']))\n",
    "    model.add(Dropout(params['dropout2']))\n",
    "    model.add(Activation(params['activation2']))\n",
    "    model.add(Dense(7))\n",
    "    #\n",
    "    #optimizer = params['optimizer1']\n",
    "    #model.compile(loss='mean_squared_error',optimizer=optimizer)\n",
    "    model.compile(loss='mean_squared_error',optimizer=params['optimizer'])\n",
    "    es = EarlyStopping(monitor='val_loss',mode='min',verbose=1,patience=15)\n",
    "#\n",
    "    result = model.fit(Xtrain, ytrain, verbose=0, validation_split=0.1,\n",
    "                       batch_size=params['batch_size'],\n",
    "                       epochs=200,\n",
    "                       callbacks = [es,TqdmCallback(verbose=1)]\n",
    "                      )\n",
    "    \n",
    "    #get the lowest validation loss of the training epochs\n",
    "    validation_loss = np.amin(result.history['val_loss']) \n",
    "    print('Best validation loss of epoch:', validation_loss)\n",
    "    #val_length = int(0.2*len(ytest))\n",
    "    #Xval, yval = Xtrain[-val_length:], ytrain[-val_length:]\n",
    "    \n",
    "    # Evaluate forecast\n",
    "    #Yr, Yp, Yf = forecast(Xval,yval,model)\n",
    "    #mse = np.mean((Yr - Yf)**2)\n",
    "    #print('Best forecast loss of epoch:', mse)\n",
    "    \n",
    "    return {'loss': validation_loss, 'status': STATUS_OK, 'model': model, 'params': params}"
   ]
  },
  {
   "cell_type": "code",
   "execution_count": null,
   "id": "e877d4ea",
   "metadata": {},
   "outputs": [],
   "source": []
  },
  {
   "cell_type": "code",
   "execution_count": 113,
   "id": "47f3bcfd",
   "metadata": {
    "scrolled": true
   },
   "outputs": [
    {
     "name": "stdout",
     "output_type": "stream",
     "text": [
      "Params testing:                                       \n",
      "{'choice': <hyperopt.pyll.base.Apply object at 0x0000024B419A8700>, 'units1': <hyperopt.pyll.base.Apply object at 0x0000024B419A8880>, 'units2': <hyperopt.pyll.base.Apply object at 0x0000024B419A89A0>, 'dropout1': <hyperopt.pyll.base.Apply object at 0x0000024B419A8AC0>, 'dropout2': <hyperopt.pyll.base.Apply object at 0x0000024B419FCA60>, 'learn': <hyperopt.pyll.base.Apply object at 0x0000024B419FCB80>, 'momentun': <hyperopt.pyll.base.Apply object at 0x0000024B419FCCA0>, 'batch_size': <hyperopt.pyll.base.Apply object at 0x0000024B419FCE20>, 'kernel1': <hyperopt.pyll.base.Apply object at 0x0000024B419FCF10>, 'kernel2': <hyperopt.pyll.base.Apply object at 0x0000024B419FC490>, 'epochs': 200, 'optimizer': <hyperopt.pyll.base.Apply object at 0x0000024B41930C70>, 'activation1': <hyperopt.pyll.base.Apply object at 0x0000024B41930B20>, 'activation2': <hyperopt.pyll.base.Apply object at 0x0000024B417B63A0>}\n",
      "  0%|          | 0/10 [00:00<?, ?trial/s, best loss=?]"
     ]
    },
    {
     "name": "stderr",
     "output_type": "stream",
     "text": [
      "job exception: Could not interpret optimizer identifier: <class 'keras.optimizer_v2.gradient_descent.SGD'>\n",
      "\n"
     ]
    },
    {
     "name": "stdout",
     "output_type": "stream",
     "text": [
      "  0%|          | 0/10 [00:00<?, ?trial/s, best loss=?]\n"
     ]
    },
    {
     "ename": "ValueError",
     "evalue": "Could not interpret optimizer identifier: <class 'keras.optimizer_v2.gradient_descent.SGD'>",
     "output_type": "error",
     "traceback": [
      "\u001b[1;31m---------------------------------------------------------------------------\u001b[0m",
      "\u001b[1;31mValueError\u001b[0m                                Traceback (most recent call last)",
      "\u001b[1;32mc:\\Users\\thanawin\\Desktop\\Deep-learing\\hyperopt_V2_complete3.ipynb Cell 25'\u001b[0m in \u001b[0;36m<cell line: 2>\u001b[1;34m()\u001b[0m\n\u001b[0;32m      <a href='vscode-notebook-cell:/c%3A/Users/thanawin/Desktop/Deep-learing/hyperopt_V2_complete3.ipynb#ch0000024?line=0'>1</a>\u001b[0m trials \u001b[39m=\u001b[39m Trials()\n\u001b[1;32m----> <a href='vscode-notebook-cell:/c%3A/Users/thanawin/Desktop/Deep-learing/hyperopt_V2_complete3.ipynb#ch0000024?line=1'>2</a>\u001b[0m best \u001b[39m=\u001b[39m fmin(f_nn, space, algo\u001b[39m=\u001b[39;49mtpe\u001b[39m.\u001b[39;49msuggest, max_evals\u001b[39m=\u001b[39;49m\u001b[39m10\u001b[39;49m, trials\u001b[39m=\u001b[39;49mtrials)\n\u001b[0;32m      <a href='vscode-notebook-cell:/c%3A/Users/thanawin/Desktop/Deep-learing/hyperopt_V2_complete3.ipynb#ch0000024?line=3'>4</a>\u001b[0m best_model \u001b[39m=\u001b[39m trials\u001b[39m.\u001b[39mresults[np\u001b[39m.\u001b[39margmin([r[\u001b[39m'\u001b[39m\u001b[39mloss\u001b[39m\u001b[39m'\u001b[39m] \u001b[39mfor\u001b[39;00m r \u001b[39min\u001b[39;00m trials\u001b[39m.\u001b[39mresults])][\u001b[39m'\u001b[39m\u001b[39mmodel\u001b[39m\u001b[39m'\u001b[39m]\n\u001b[0;32m      <a href='vscode-notebook-cell:/c%3A/Users/thanawin/Desktop/Deep-learing/hyperopt_V2_complete3.ipynb#ch0000024?line=4'>5</a>\u001b[0m best_params \u001b[39m=\u001b[39m trials\u001b[39m.\u001b[39mresults[np\u001b[39m.\u001b[39margmin([r[\u001b[39m'\u001b[39m\u001b[39mloss\u001b[39m\u001b[39m'\u001b[39m] \u001b[39mfor\u001b[39;00m r \u001b[39min\u001b[39;00m trials\u001b[39m.\u001b[39mresults])][\u001b[39m'\u001b[39m\u001b[39mparams\u001b[39m\u001b[39m'\u001b[39m]\n",
      "File \u001b[1;32mc:\\Users\\thanawin\\.conda\\envs\\py2\\lib\\site-packages\\hyperopt\\fmin.py:540\u001b[0m, in \u001b[0;36mfmin\u001b[1;34m(fn, space, algo, max_evals, timeout, loss_threshold, trials, rstate, allow_trials_fmin, pass_expr_memo_ctrl, catch_eval_exceptions, verbose, return_argmin, points_to_evaluate, max_queue_len, show_progressbar, early_stop_fn, trials_save_file)\u001b[0m\n\u001b[0;32m    <a href='file:///c%3A/Users/thanawin/.conda/envs/py2/lib/site-packages/hyperopt/fmin.py?line=536'>537</a>\u001b[0m     fn \u001b[39m=\u001b[39m __objective_fmin_wrapper(fn)\n\u001b[0;32m    <a href='file:///c%3A/Users/thanawin/.conda/envs/py2/lib/site-packages/hyperopt/fmin.py?line=538'>539</a>\u001b[0m \u001b[39mif\u001b[39;00m allow_trials_fmin \u001b[39mand\u001b[39;00m \u001b[39mhasattr\u001b[39m(trials, \u001b[39m\"\u001b[39m\u001b[39mfmin\u001b[39m\u001b[39m\"\u001b[39m):\n\u001b[1;32m--> <a href='file:///c%3A/Users/thanawin/.conda/envs/py2/lib/site-packages/hyperopt/fmin.py?line=539'>540</a>\u001b[0m     \u001b[39mreturn\u001b[39;00m trials\u001b[39m.\u001b[39;49mfmin(\n\u001b[0;32m    <a href='file:///c%3A/Users/thanawin/.conda/envs/py2/lib/site-packages/hyperopt/fmin.py?line=540'>541</a>\u001b[0m         fn,\n\u001b[0;32m    <a href='file:///c%3A/Users/thanawin/.conda/envs/py2/lib/site-packages/hyperopt/fmin.py?line=541'>542</a>\u001b[0m         space,\n\u001b[0;32m    <a href='file:///c%3A/Users/thanawin/.conda/envs/py2/lib/site-packages/hyperopt/fmin.py?line=542'>543</a>\u001b[0m         algo\u001b[39m=\u001b[39;49malgo,\n\u001b[0;32m    <a href='file:///c%3A/Users/thanawin/.conda/envs/py2/lib/site-packages/hyperopt/fmin.py?line=543'>544</a>\u001b[0m         max_evals\u001b[39m=\u001b[39;49mmax_evals,\n\u001b[0;32m    <a href='file:///c%3A/Users/thanawin/.conda/envs/py2/lib/site-packages/hyperopt/fmin.py?line=544'>545</a>\u001b[0m         timeout\u001b[39m=\u001b[39;49mtimeout,\n\u001b[0;32m    <a href='file:///c%3A/Users/thanawin/.conda/envs/py2/lib/site-packages/hyperopt/fmin.py?line=545'>546</a>\u001b[0m         loss_threshold\u001b[39m=\u001b[39;49mloss_threshold,\n\u001b[0;32m    <a href='file:///c%3A/Users/thanawin/.conda/envs/py2/lib/site-packages/hyperopt/fmin.py?line=546'>547</a>\u001b[0m         max_queue_len\u001b[39m=\u001b[39;49mmax_queue_len,\n\u001b[0;32m    <a href='file:///c%3A/Users/thanawin/.conda/envs/py2/lib/site-packages/hyperopt/fmin.py?line=547'>548</a>\u001b[0m         rstate\u001b[39m=\u001b[39;49mrstate,\n\u001b[0;32m    <a href='file:///c%3A/Users/thanawin/.conda/envs/py2/lib/site-packages/hyperopt/fmin.py?line=548'>549</a>\u001b[0m         pass_expr_memo_ctrl\u001b[39m=\u001b[39;49mpass_expr_memo_ctrl,\n\u001b[0;32m    <a href='file:///c%3A/Users/thanawin/.conda/envs/py2/lib/site-packages/hyperopt/fmin.py?line=549'>550</a>\u001b[0m         verbose\u001b[39m=\u001b[39;49mverbose,\n\u001b[0;32m    <a href='file:///c%3A/Users/thanawin/.conda/envs/py2/lib/site-packages/hyperopt/fmin.py?line=550'>551</a>\u001b[0m         catch_eval_exceptions\u001b[39m=\u001b[39;49mcatch_eval_exceptions,\n\u001b[0;32m    <a href='file:///c%3A/Users/thanawin/.conda/envs/py2/lib/site-packages/hyperopt/fmin.py?line=551'>552</a>\u001b[0m         return_argmin\u001b[39m=\u001b[39;49mreturn_argmin,\n\u001b[0;32m    <a href='file:///c%3A/Users/thanawin/.conda/envs/py2/lib/site-packages/hyperopt/fmin.py?line=552'>553</a>\u001b[0m         show_progressbar\u001b[39m=\u001b[39;49mshow_progressbar,\n\u001b[0;32m    <a href='file:///c%3A/Users/thanawin/.conda/envs/py2/lib/site-packages/hyperopt/fmin.py?line=553'>554</a>\u001b[0m         early_stop_fn\u001b[39m=\u001b[39;49mearly_stop_fn,\n\u001b[0;32m    <a href='file:///c%3A/Users/thanawin/.conda/envs/py2/lib/site-packages/hyperopt/fmin.py?line=554'>555</a>\u001b[0m         trials_save_file\u001b[39m=\u001b[39;49mtrials_save_file,\n\u001b[0;32m    <a href='file:///c%3A/Users/thanawin/.conda/envs/py2/lib/site-packages/hyperopt/fmin.py?line=555'>556</a>\u001b[0m     )\n\u001b[0;32m    <a href='file:///c%3A/Users/thanawin/.conda/envs/py2/lib/site-packages/hyperopt/fmin.py?line=557'>558</a>\u001b[0m \u001b[39mif\u001b[39;00m trials \u001b[39mis\u001b[39;00m \u001b[39mNone\u001b[39;00m:\n\u001b[0;32m    <a href='file:///c%3A/Users/thanawin/.conda/envs/py2/lib/site-packages/hyperopt/fmin.py?line=558'>559</a>\u001b[0m     \u001b[39mif\u001b[39;00m os\u001b[39m.\u001b[39mpath\u001b[39m.\u001b[39mexists(trials_save_file):\n",
      "File \u001b[1;32mc:\\Users\\thanawin\\.conda\\envs\\py2\\lib\\site-packages\\hyperopt\\base.py:671\u001b[0m, in \u001b[0;36mTrials.fmin\u001b[1;34m(self, fn, space, algo, max_evals, timeout, loss_threshold, max_queue_len, rstate, verbose, pass_expr_memo_ctrl, catch_eval_exceptions, return_argmin, show_progressbar, early_stop_fn, trials_save_file)\u001b[0m\n\u001b[0;32m    <a href='file:///c%3A/Users/thanawin/.conda/envs/py2/lib/site-packages/hyperopt/base.py?line=665'>666</a>\u001b[0m \u001b[39m# -- Stop-gap implementation!\u001b[39;00m\n\u001b[0;32m    <a href='file:///c%3A/Users/thanawin/.conda/envs/py2/lib/site-packages/hyperopt/base.py?line=666'>667</a>\u001b[0m \u001b[39m#    fmin should have been a Trials method in the first place\u001b[39;00m\n\u001b[0;32m    <a href='file:///c%3A/Users/thanawin/.conda/envs/py2/lib/site-packages/hyperopt/base.py?line=667'>668</a>\u001b[0m \u001b[39m#    but for now it's still sitting in another file.\u001b[39;00m\n\u001b[0;32m    <a href='file:///c%3A/Users/thanawin/.conda/envs/py2/lib/site-packages/hyperopt/base.py?line=668'>669</a>\u001b[0m \u001b[39mfrom\u001b[39;00m \u001b[39m.\u001b[39;00m\u001b[39mfmin\u001b[39;00m \u001b[39mimport\u001b[39;00m fmin\n\u001b[1;32m--> <a href='file:///c%3A/Users/thanawin/.conda/envs/py2/lib/site-packages/hyperopt/base.py?line=670'>671</a>\u001b[0m \u001b[39mreturn\u001b[39;00m fmin(\n\u001b[0;32m    <a href='file:///c%3A/Users/thanawin/.conda/envs/py2/lib/site-packages/hyperopt/base.py?line=671'>672</a>\u001b[0m     fn,\n\u001b[0;32m    <a href='file:///c%3A/Users/thanawin/.conda/envs/py2/lib/site-packages/hyperopt/base.py?line=672'>673</a>\u001b[0m     space,\n\u001b[0;32m    <a href='file:///c%3A/Users/thanawin/.conda/envs/py2/lib/site-packages/hyperopt/base.py?line=673'>674</a>\u001b[0m     algo\u001b[39m=\u001b[39;49malgo,\n\u001b[0;32m    <a href='file:///c%3A/Users/thanawin/.conda/envs/py2/lib/site-packages/hyperopt/base.py?line=674'>675</a>\u001b[0m     max_evals\u001b[39m=\u001b[39;49mmax_evals,\n\u001b[0;32m    <a href='file:///c%3A/Users/thanawin/.conda/envs/py2/lib/site-packages/hyperopt/base.py?line=675'>676</a>\u001b[0m     timeout\u001b[39m=\u001b[39;49mtimeout,\n\u001b[0;32m    <a href='file:///c%3A/Users/thanawin/.conda/envs/py2/lib/site-packages/hyperopt/base.py?line=676'>677</a>\u001b[0m     loss_threshold\u001b[39m=\u001b[39;49mloss_threshold,\n\u001b[0;32m    <a href='file:///c%3A/Users/thanawin/.conda/envs/py2/lib/site-packages/hyperopt/base.py?line=677'>678</a>\u001b[0m     trials\u001b[39m=\u001b[39;49m\u001b[39mself\u001b[39;49m,\n\u001b[0;32m    <a href='file:///c%3A/Users/thanawin/.conda/envs/py2/lib/site-packages/hyperopt/base.py?line=678'>679</a>\u001b[0m     rstate\u001b[39m=\u001b[39;49mrstate,\n\u001b[0;32m    <a href='file:///c%3A/Users/thanawin/.conda/envs/py2/lib/site-packages/hyperopt/base.py?line=679'>680</a>\u001b[0m     verbose\u001b[39m=\u001b[39;49mverbose,\n\u001b[0;32m    <a href='file:///c%3A/Users/thanawin/.conda/envs/py2/lib/site-packages/hyperopt/base.py?line=680'>681</a>\u001b[0m     max_queue_len\u001b[39m=\u001b[39;49mmax_queue_len,\n\u001b[0;32m    <a href='file:///c%3A/Users/thanawin/.conda/envs/py2/lib/site-packages/hyperopt/base.py?line=681'>682</a>\u001b[0m     allow_trials_fmin\u001b[39m=\u001b[39;49m\u001b[39mFalse\u001b[39;49;00m,  \u001b[39m# -- prevent recursion\u001b[39;49;00m\n\u001b[0;32m    <a href='file:///c%3A/Users/thanawin/.conda/envs/py2/lib/site-packages/hyperopt/base.py?line=682'>683</a>\u001b[0m     pass_expr_memo_ctrl\u001b[39m=\u001b[39;49mpass_expr_memo_ctrl,\n\u001b[0;32m    <a href='file:///c%3A/Users/thanawin/.conda/envs/py2/lib/site-packages/hyperopt/base.py?line=683'>684</a>\u001b[0m     catch_eval_exceptions\u001b[39m=\u001b[39;49mcatch_eval_exceptions,\n\u001b[0;32m    <a href='file:///c%3A/Users/thanawin/.conda/envs/py2/lib/site-packages/hyperopt/base.py?line=684'>685</a>\u001b[0m     return_argmin\u001b[39m=\u001b[39;49mreturn_argmin,\n\u001b[0;32m    <a href='file:///c%3A/Users/thanawin/.conda/envs/py2/lib/site-packages/hyperopt/base.py?line=685'>686</a>\u001b[0m     show_progressbar\u001b[39m=\u001b[39;49mshow_progressbar,\n\u001b[0;32m    <a href='file:///c%3A/Users/thanawin/.conda/envs/py2/lib/site-packages/hyperopt/base.py?line=686'>687</a>\u001b[0m     early_stop_fn\u001b[39m=\u001b[39;49mearly_stop_fn,\n\u001b[0;32m    <a href='file:///c%3A/Users/thanawin/.conda/envs/py2/lib/site-packages/hyperopt/base.py?line=687'>688</a>\u001b[0m     trials_save_file\u001b[39m=\u001b[39;49mtrials_save_file,\n\u001b[0;32m    <a href='file:///c%3A/Users/thanawin/.conda/envs/py2/lib/site-packages/hyperopt/base.py?line=688'>689</a>\u001b[0m )\n",
      "File \u001b[1;32mc:\\Users\\thanawin\\.conda\\envs\\py2\\lib\\site-packages\\hyperopt\\fmin.py:586\u001b[0m, in \u001b[0;36mfmin\u001b[1;34m(fn, space, algo, max_evals, timeout, loss_threshold, trials, rstate, allow_trials_fmin, pass_expr_memo_ctrl, catch_eval_exceptions, verbose, return_argmin, points_to_evaluate, max_queue_len, show_progressbar, early_stop_fn, trials_save_file)\u001b[0m\n\u001b[0;32m    <a href='file:///c%3A/Users/thanawin/.conda/envs/py2/lib/site-packages/hyperopt/fmin.py?line=582'>583</a>\u001b[0m rval\u001b[39m.\u001b[39mcatch_eval_exceptions \u001b[39m=\u001b[39m catch_eval_exceptions\n\u001b[0;32m    <a href='file:///c%3A/Users/thanawin/.conda/envs/py2/lib/site-packages/hyperopt/fmin.py?line=584'>585</a>\u001b[0m \u001b[39m# next line is where the fmin is actually executed\u001b[39;00m\n\u001b[1;32m--> <a href='file:///c%3A/Users/thanawin/.conda/envs/py2/lib/site-packages/hyperopt/fmin.py?line=585'>586</a>\u001b[0m rval\u001b[39m.\u001b[39;49mexhaust()\n\u001b[0;32m    <a href='file:///c%3A/Users/thanawin/.conda/envs/py2/lib/site-packages/hyperopt/fmin.py?line=587'>588</a>\u001b[0m \u001b[39mif\u001b[39;00m return_argmin:\n\u001b[0;32m    <a href='file:///c%3A/Users/thanawin/.conda/envs/py2/lib/site-packages/hyperopt/fmin.py?line=588'>589</a>\u001b[0m     \u001b[39mif\u001b[39;00m \u001b[39mlen\u001b[39m(trials\u001b[39m.\u001b[39mtrials) \u001b[39m==\u001b[39m \u001b[39m0\u001b[39m:\n",
      "File \u001b[1;32mc:\\Users\\thanawin\\.conda\\envs\\py2\\lib\\site-packages\\hyperopt\\fmin.py:364\u001b[0m, in \u001b[0;36mFMinIter.exhaust\u001b[1;34m(self)\u001b[0m\n\u001b[0;32m    <a href='file:///c%3A/Users/thanawin/.conda/envs/py2/lib/site-packages/hyperopt/fmin.py?line=361'>362</a>\u001b[0m \u001b[39mdef\u001b[39;00m \u001b[39mexhaust\u001b[39m(\u001b[39mself\u001b[39m):\n\u001b[0;32m    <a href='file:///c%3A/Users/thanawin/.conda/envs/py2/lib/site-packages/hyperopt/fmin.py?line=362'>363</a>\u001b[0m     n_done \u001b[39m=\u001b[39m \u001b[39mlen\u001b[39m(\u001b[39mself\u001b[39m\u001b[39m.\u001b[39mtrials)\n\u001b[1;32m--> <a href='file:///c%3A/Users/thanawin/.conda/envs/py2/lib/site-packages/hyperopt/fmin.py?line=363'>364</a>\u001b[0m     \u001b[39mself\u001b[39;49m\u001b[39m.\u001b[39;49mrun(\u001b[39mself\u001b[39;49m\u001b[39m.\u001b[39;49mmax_evals \u001b[39m-\u001b[39;49m n_done, block_until_done\u001b[39m=\u001b[39;49m\u001b[39mself\u001b[39;49m\u001b[39m.\u001b[39;49masynchronous)\n\u001b[0;32m    <a href='file:///c%3A/Users/thanawin/.conda/envs/py2/lib/site-packages/hyperopt/fmin.py?line=364'>365</a>\u001b[0m     \u001b[39mself\u001b[39m\u001b[39m.\u001b[39mtrials\u001b[39m.\u001b[39mrefresh()\n\u001b[0;32m    <a href='file:///c%3A/Users/thanawin/.conda/envs/py2/lib/site-packages/hyperopt/fmin.py?line=365'>366</a>\u001b[0m     \u001b[39mreturn\u001b[39;00m \u001b[39mself\u001b[39m\n",
      "File \u001b[1;32mc:\\Users\\thanawin\\.conda\\envs\\py2\\lib\\site-packages\\hyperopt\\fmin.py:300\u001b[0m, in \u001b[0;36mFMinIter.run\u001b[1;34m(self, N, block_until_done)\u001b[0m\n\u001b[0;32m    <a href='file:///c%3A/Users/thanawin/.conda/envs/py2/lib/site-packages/hyperopt/fmin.py?line=296'>297</a>\u001b[0m     time\u001b[39m.\u001b[39msleep(\u001b[39mself\u001b[39m\u001b[39m.\u001b[39mpoll_interval_secs)\n\u001b[0;32m    <a href='file:///c%3A/Users/thanawin/.conda/envs/py2/lib/site-packages/hyperopt/fmin.py?line=297'>298</a>\u001b[0m \u001b[39melse\u001b[39;00m:\n\u001b[0;32m    <a href='file:///c%3A/Users/thanawin/.conda/envs/py2/lib/site-packages/hyperopt/fmin.py?line=298'>299</a>\u001b[0m     \u001b[39m# -- loop over trials and do the jobs directly\u001b[39;00m\n\u001b[1;32m--> <a href='file:///c%3A/Users/thanawin/.conda/envs/py2/lib/site-packages/hyperopt/fmin.py?line=299'>300</a>\u001b[0m     \u001b[39mself\u001b[39;49m\u001b[39m.\u001b[39;49mserial_evaluate()\n\u001b[0;32m    <a href='file:///c%3A/Users/thanawin/.conda/envs/py2/lib/site-packages/hyperopt/fmin.py?line=301'>302</a>\u001b[0m \u001b[39mself\u001b[39m\u001b[39m.\u001b[39mtrials\u001b[39m.\u001b[39mrefresh()\n\u001b[0;32m    <a href='file:///c%3A/Users/thanawin/.conda/envs/py2/lib/site-packages/hyperopt/fmin.py?line=302'>303</a>\u001b[0m \u001b[39mif\u001b[39;00m \u001b[39mself\u001b[39m\u001b[39m.\u001b[39mtrials_save_file \u001b[39m!=\u001b[39m \u001b[39m\"\u001b[39m\u001b[39m\"\u001b[39m:\n",
      "File \u001b[1;32mc:\\Users\\thanawin\\.conda\\envs\\py2\\lib\\site-packages\\hyperopt\\fmin.py:178\u001b[0m, in \u001b[0;36mFMinIter.serial_evaluate\u001b[1;34m(self, N)\u001b[0m\n\u001b[0;32m    <a href='file:///c%3A/Users/thanawin/.conda/envs/py2/lib/site-packages/hyperopt/fmin.py?line=175'>176</a>\u001b[0m ctrl \u001b[39m=\u001b[39m base\u001b[39m.\u001b[39mCtrl(\u001b[39mself\u001b[39m\u001b[39m.\u001b[39mtrials, current_trial\u001b[39m=\u001b[39mtrial)\n\u001b[0;32m    <a href='file:///c%3A/Users/thanawin/.conda/envs/py2/lib/site-packages/hyperopt/fmin.py?line=176'>177</a>\u001b[0m \u001b[39mtry\u001b[39;00m:\n\u001b[1;32m--> <a href='file:///c%3A/Users/thanawin/.conda/envs/py2/lib/site-packages/hyperopt/fmin.py?line=177'>178</a>\u001b[0m     result \u001b[39m=\u001b[39m \u001b[39mself\u001b[39;49m\u001b[39m.\u001b[39;49mdomain\u001b[39m.\u001b[39;49mevaluate(spec, ctrl)\n\u001b[0;32m    <a href='file:///c%3A/Users/thanawin/.conda/envs/py2/lib/site-packages/hyperopt/fmin.py?line=178'>179</a>\u001b[0m \u001b[39mexcept\u001b[39;00m \u001b[39mException\u001b[39;00m \u001b[39mas\u001b[39;00m e:\n\u001b[0;32m    <a href='file:///c%3A/Users/thanawin/.conda/envs/py2/lib/site-packages/hyperopt/fmin.py?line=179'>180</a>\u001b[0m     logger\u001b[39m.\u001b[39merror(\u001b[39m\"\u001b[39m\u001b[39mjob exception: \u001b[39m\u001b[39m%s\u001b[39;00m\u001b[39m\"\u001b[39m \u001b[39m%\u001b[39m \u001b[39mstr\u001b[39m(e))\n",
      "File \u001b[1;32mc:\\Users\\thanawin\\.conda\\envs\\py2\\lib\\site-packages\\hyperopt\\base.py:892\u001b[0m, in \u001b[0;36mDomain.evaluate\u001b[1;34m(self, config, ctrl, attach_attachments)\u001b[0m\n\u001b[0;32m    <a href='file:///c%3A/Users/thanawin/.conda/envs/py2/lib/site-packages/hyperopt/base.py?line=882'>883</a>\u001b[0m \u001b[39melse\u001b[39;00m:\n\u001b[0;32m    <a href='file:///c%3A/Users/thanawin/.conda/envs/py2/lib/site-packages/hyperopt/base.py?line=883'>884</a>\u001b[0m     \u001b[39m# -- the \"work\" of evaluating `config` can be written\u001b[39;00m\n\u001b[0;32m    <a href='file:///c%3A/Users/thanawin/.conda/envs/py2/lib/site-packages/hyperopt/base.py?line=884'>885</a>\u001b[0m     \u001b[39m#    either into the pyll part (self.expr)\u001b[39;00m\n\u001b[0;32m    <a href='file:///c%3A/Users/thanawin/.conda/envs/py2/lib/site-packages/hyperopt/base.py?line=885'>886</a>\u001b[0m     \u001b[39m#    or the normal Python part (self.fn)\u001b[39;00m\n\u001b[0;32m    <a href='file:///c%3A/Users/thanawin/.conda/envs/py2/lib/site-packages/hyperopt/base.py?line=886'>887</a>\u001b[0m     pyll_rval \u001b[39m=\u001b[39m pyll\u001b[39m.\u001b[39mrec_eval(\n\u001b[0;32m    <a href='file:///c%3A/Users/thanawin/.conda/envs/py2/lib/site-packages/hyperopt/base.py?line=887'>888</a>\u001b[0m         \u001b[39mself\u001b[39m\u001b[39m.\u001b[39mexpr,\n\u001b[0;32m    <a href='file:///c%3A/Users/thanawin/.conda/envs/py2/lib/site-packages/hyperopt/base.py?line=888'>889</a>\u001b[0m         memo\u001b[39m=\u001b[39mmemo,\n\u001b[0;32m    <a href='file:///c%3A/Users/thanawin/.conda/envs/py2/lib/site-packages/hyperopt/base.py?line=889'>890</a>\u001b[0m         print_node_on_error\u001b[39m=\u001b[39m\u001b[39mself\u001b[39m\u001b[39m.\u001b[39mrec_eval_print_node_on_error,\n\u001b[0;32m    <a href='file:///c%3A/Users/thanawin/.conda/envs/py2/lib/site-packages/hyperopt/base.py?line=890'>891</a>\u001b[0m     )\n\u001b[1;32m--> <a href='file:///c%3A/Users/thanawin/.conda/envs/py2/lib/site-packages/hyperopt/base.py?line=891'>892</a>\u001b[0m     rval \u001b[39m=\u001b[39m \u001b[39mself\u001b[39;49m\u001b[39m.\u001b[39;49mfn(pyll_rval)\n\u001b[0;32m    <a href='file:///c%3A/Users/thanawin/.conda/envs/py2/lib/site-packages/hyperopt/base.py?line=893'>894</a>\u001b[0m \u001b[39mif\u001b[39;00m \u001b[39misinstance\u001b[39m(rval, (\u001b[39mfloat\u001b[39m, \u001b[39mint\u001b[39m, np\u001b[39m.\u001b[39mnumber)):\n\u001b[0;32m    <a href='file:///c%3A/Users/thanawin/.conda/envs/py2/lib/site-packages/hyperopt/base.py?line=894'>895</a>\u001b[0m     dict_rval \u001b[39m=\u001b[39m {\u001b[39m\"\u001b[39m\u001b[39mloss\u001b[39m\u001b[39m\"\u001b[39m: \u001b[39mfloat\u001b[39m(rval), \u001b[39m\"\u001b[39m\u001b[39mstatus\u001b[39m\u001b[39m\"\u001b[39m: STATUS_OK}\n",
      "\u001b[1;32mc:\\Users\\thanawin\\Desktop\\Deep-learing\\hyperopt_V2_complete3.ipynb Cell 23'\u001b[0m in \u001b[0;36mf_nn\u001b[1;34m(params)\u001b[0m\n\u001b[0;32m     <a href='vscode-notebook-cell:/c%3A/Users/thanawin/Desktop/Deep-learing/hyperopt_V2_complete3.ipynb#ch0000022?line=17'>18</a>\u001b[0m     model\u001b[39m.\u001b[39madd(Dense(\u001b[39m7\u001b[39m))\n\u001b[0;32m     <a href='vscode-notebook-cell:/c%3A/Users/thanawin/Desktop/Deep-learing/hyperopt_V2_complete3.ipynb#ch0000022?line=18'>19</a>\u001b[0m     \u001b[39m#\u001b[39;00m\n\u001b[0;32m     <a href='vscode-notebook-cell:/c%3A/Users/thanawin/Desktop/Deep-learing/hyperopt_V2_complete3.ipynb#ch0000022?line=19'>20</a>\u001b[0m     \u001b[39m#optimizer = params['optimizer1']\u001b[39;00m\n\u001b[0;32m     <a href='vscode-notebook-cell:/c%3A/Users/thanawin/Desktop/Deep-learing/hyperopt_V2_complete3.ipynb#ch0000022?line=20'>21</a>\u001b[0m     \u001b[39m#model.compile(loss='mean_squared_error',optimizer=optimizer)\u001b[39;00m\n\u001b[1;32m---> <a href='vscode-notebook-cell:/c%3A/Users/thanawin/Desktop/Deep-learing/hyperopt_V2_complete3.ipynb#ch0000022?line=21'>22</a>\u001b[0m     model\u001b[39m.\u001b[39;49mcompile(loss\u001b[39m=\u001b[39;49m\u001b[39m'\u001b[39;49m\u001b[39mmean_squared_error\u001b[39;49m\u001b[39m'\u001b[39;49m,optimizer\u001b[39m=\u001b[39;49mparams[\u001b[39m'\u001b[39;49m\u001b[39moptimizer\u001b[39;49m\u001b[39m'\u001b[39;49m])\n\u001b[0;32m     <a href='vscode-notebook-cell:/c%3A/Users/thanawin/Desktop/Deep-learing/hyperopt_V2_complete3.ipynb#ch0000022?line=22'>23</a>\u001b[0m     es \u001b[39m=\u001b[39m EarlyStopping(monitor\u001b[39m=\u001b[39m\u001b[39m'\u001b[39m\u001b[39mval_loss\u001b[39m\u001b[39m'\u001b[39m,mode\u001b[39m=\u001b[39m\u001b[39m'\u001b[39m\u001b[39mmin\u001b[39m\u001b[39m'\u001b[39m,verbose\u001b[39m=\u001b[39m\u001b[39m1\u001b[39m,patience\u001b[39m=\u001b[39m\u001b[39m15\u001b[39m)\n\u001b[0;32m     <a href='vscode-notebook-cell:/c%3A/Users/thanawin/Desktop/Deep-learing/hyperopt_V2_complete3.ipynb#ch0000022?line=23'>24</a>\u001b[0m \u001b[39m#\u001b[39;00m\n",
      "File \u001b[1;32mc:\\Users\\thanawin\\.conda\\envs\\py2\\lib\\site-packages\\keras\\engine\\training.py:558\u001b[0m, in \u001b[0;36mModel.compile\u001b[1;34m(self, optimizer, loss, metrics, loss_weights, weighted_metrics, run_eagerly, steps_per_execution, **kwargs)\u001b[0m\n\u001b[0;32m    <a href='file:///c%3A/Users/thanawin/.conda/envs/py2/lib/site-packages/keras/engine/training.py?line=554'>555</a>\u001b[0m \u001b[39mself\u001b[39m\u001b[39m.\u001b[39m_validate_compile(optimizer, metrics, \u001b[39m*\u001b[39m\u001b[39m*\u001b[39mkwargs)\n\u001b[0;32m    <a href='file:///c%3A/Users/thanawin/.conda/envs/py2/lib/site-packages/keras/engine/training.py?line=555'>556</a>\u001b[0m \u001b[39mself\u001b[39m\u001b[39m.\u001b[39m_run_eagerly \u001b[39m=\u001b[39m run_eagerly\n\u001b[1;32m--> <a href='file:///c%3A/Users/thanawin/.conda/envs/py2/lib/site-packages/keras/engine/training.py?line=557'>558</a>\u001b[0m \u001b[39mself\u001b[39m\u001b[39m.\u001b[39moptimizer \u001b[39m=\u001b[39m \u001b[39mself\u001b[39;49m\u001b[39m.\u001b[39;49m_get_optimizer(optimizer)\n\u001b[0;32m    <a href='file:///c%3A/Users/thanawin/.conda/envs/py2/lib/site-packages/keras/engine/training.py?line=558'>559</a>\u001b[0m \u001b[39mself\u001b[39m\u001b[39m.\u001b[39mcompiled_loss \u001b[39m=\u001b[39m compile_utils\u001b[39m.\u001b[39mLossesContainer(\n\u001b[0;32m    <a href='file:///c%3A/Users/thanawin/.conda/envs/py2/lib/site-packages/keras/engine/training.py?line=559'>560</a>\u001b[0m     loss, loss_weights, output_names\u001b[39m=\u001b[39m\u001b[39mself\u001b[39m\u001b[39m.\u001b[39moutput_names)\n\u001b[0;32m    <a href='file:///c%3A/Users/thanawin/.conda/envs/py2/lib/site-packages/keras/engine/training.py?line=560'>561</a>\u001b[0m \u001b[39mself\u001b[39m\u001b[39m.\u001b[39mcompiled_metrics \u001b[39m=\u001b[39m compile_utils\u001b[39m.\u001b[39mMetricsContainer(\n\u001b[0;32m    <a href='file:///c%3A/Users/thanawin/.conda/envs/py2/lib/site-packages/keras/engine/training.py?line=561'>562</a>\u001b[0m     metrics, weighted_metrics, output_names\u001b[39m=\u001b[39m\u001b[39mself\u001b[39m\u001b[39m.\u001b[39moutput_names,\n\u001b[0;32m    <a href='file:///c%3A/Users/thanawin/.conda/envs/py2/lib/site-packages/keras/engine/training.py?line=562'>563</a>\u001b[0m     from_serialized\u001b[39m=\u001b[39mfrom_serialized)\n",
      "File \u001b[1;32mc:\\Users\\thanawin\\.conda\\envs\\py2\\lib\\site-packages\\keras\\engine\\training.py:596\u001b[0m, in \u001b[0;36mModel._get_optimizer\u001b[1;34m(self, optimizer)\u001b[0m\n\u001b[0;32m    <a href='file:///c%3A/Users/thanawin/.conda/envs/py2/lib/site-packages/keras/engine/training.py?line=592'>593</a>\u001b[0m       opt \u001b[39m=\u001b[39m lso\u001b[39m.\u001b[39mLossScaleOptimizerV1(opt, loss_scale)\n\u001b[0;32m    <a href='file:///c%3A/Users/thanawin/.conda/envs/py2/lib/site-packages/keras/engine/training.py?line=593'>594</a>\u001b[0m   \u001b[39mreturn\u001b[39;00m opt\n\u001b[1;32m--> <a href='file:///c%3A/Users/thanawin/.conda/envs/py2/lib/site-packages/keras/engine/training.py?line=595'>596</a>\u001b[0m \u001b[39mreturn\u001b[39;00m tf\u001b[39m.\u001b[39;49mnest\u001b[39m.\u001b[39;49mmap_structure(_get_single_optimizer, optimizer)\n",
      "File \u001b[1;32mc:\\Users\\thanawin\\.conda\\envs\\py2\\lib\\site-packages\\tensorflow\\python\\util\\nest.py:869\u001b[0m, in \u001b[0;36mmap_structure\u001b[1;34m(func, *structure, **kwargs)\u001b[0m\n\u001b[0;32m    <a href='file:///c%3A/Users/thanawin/.conda/envs/py2/lib/site-packages/tensorflow/python/util/nest.py?line=864'>865</a>\u001b[0m flat_structure \u001b[39m=\u001b[39m (flatten(s, expand_composites) \u001b[39mfor\u001b[39;00m s \u001b[39min\u001b[39;00m structure)\n\u001b[0;32m    <a href='file:///c%3A/Users/thanawin/.conda/envs/py2/lib/site-packages/tensorflow/python/util/nest.py?line=865'>866</a>\u001b[0m entries \u001b[39m=\u001b[39m \u001b[39mzip\u001b[39m(\u001b[39m*\u001b[39mflat_structure)\n\u001b[0;32m    <a href='file:///c%3A/Users/thanawin/.conda/envs/py2/lib/site-packages/tensorflow/python/util/nest.py?line=867'>868</a>\u001b[0m \u001b[39mreturn\u001b[39;00m pack_sequence_as(\n\u001b[1;32m--> <a href='file:///c%3A/Users/thanawin/.conda/envs/py2/lib/site-packages/tensorflow/python/util/nest.py?line=868'>869</a>\u001b[0m     structure[\u001b[39m0\u001b[39m], [func(\u001b[39m*\u001b[39mx) \u001b[39mfor\u001b[39;00m x \u001b[39min\u001b[39;00m entries],\n\u001b[0;32m    <a href='file:///c%3A/Users/thanawin/.conda/envs/py2/lib/site-packages/tensorflow/python/util/nest.py?line=869'>870</a>\u001b[0m     expand_composites\u001b[39m=\u001b[39mexpand_composites)\n",
      "File \u001b[1;32mc:\\Users\\thanawin\\.conda\\envs\\py2\\lib\\site-packages\\tensorflow\\python\\util\\nest.py:869\u001b[0m, in \u001b[0;36m<listcomp>\u001b[1;34m(.0)\u001b[0m\n\u001b[0;32m    <a href='file:///c%3A/Users/thanawin/.conda/envs/py2/lib/site-packages/tensorflow/python/util/nest.py?line=864'>865</a>\u001b[0m flat_structure \u001b[39m=\u001b[39m (flatten(s, expand_composites) \u001b[39mfor\u001b[39;00m s \u001b[39min\u001b[39;00m structure)\n\u001b[0;32m    <a href='file:///c%3A/Users/thanawin/.conda/envs/py2/lib/site-packages/tensorflow/python/util/nest.py?line=865'>866</a>\u001b[0m entries \u001b[39m=\u001b[39m \u001b[39mzip\u001b[39m(\u001b[39m*\u001b[39mflat_structure)\n\u001b[0;32m    <a href='file:///c%3A/Users/thanawin/.conda/envs/py2/lib/site-packages/tensorflow/python/util/nest.py?line=867'>868</a>\u001b[0m \u001b[39mreturn\u001b[39;00m pack_sequence_as(\n\u001b[1;32m--> <a href='file:///c%3A/Users/thanawin/.conda/envs/py2/lib/site-packages/tensorflow/python/util/nest.py?line=868'>869</a>\u001b[0m     structure[\u001b[39m0\u001b[39m], [func(\u001b[39m*\u001b[39;49mx) \u001b[39mfor\u001b[39;00m x \u001b[39min\u001b[39;00m entries],\n\u001b[0;32m    <a href='file:///c%3A/Users/thanawin/.conda/envs/py2/lib/site-packages/tensorflow/python/util/nest.py?line=869'>870</a>\u001b[0m     expand_composites\u001b[39m=\u001b[39mexpand_composites)\n",
      "File \u001b[1;32mc:\\Users\\thanawin\\.conda\\envs\\py2\\lib\\site-packages\\keras\\engine\\training.py:587\u001b[0m, in \u001b[0;36mModel._get_optimizer.<locals>._get_single_optimizer\u001b[1;34m(opt)\u001b[0m\n\u001b[0;32m    <a href='file:///c%3A/Users/thanawin/.conda/envs/py2/lib/site-packages/keras/engine/training.py?line=585'>586</a>\u001b[0m \u001b[39mdef\u001b[39;00m \u001b[39m_get_single_optimizer\u001b[39m(opt):\n\u001b[1;32m--> <a href='file:///c%3A/Users/thanawin/.conda/envs/py2/lib/site-packages/keras/engine/training.py?line=586'>587</a>\u001b[0m   opt \u001b[39m=\u001b[39m optimizers\u001b[39m.\u001b[39;49mget(opt)\n\u001b[0;32m    <a href='file:///c%3A/Users/thanawin/.conda/envs/py2/lib/site-packages/keras/engine/training.py?line=587'>588</a>\u001b[0m   \u001b[39mif\u001b[39;00m (loss_scale \u001b[39mis\u001b[39;00m \u001b[39mnot\u001b[39;00m \u001b[39mNone\u001b[39;00m \u001b[39mand\u001b[39;00m\n\u001b[0;32m    <a href='file:///c%3A/Users/thanawin/.conda/envs/py2/lib/site-packages/keras/engine/training.py?line=588'>589</a>\u001b[0m       \u001b[39mnot\u001b[39;00m \u001b[39misinstance\u001b[39m(opt, lso\u001b[39m.\u001b[39mLossScaleOptimizer)):\n\u001b[0;32m    <a href='file:///c%3A/Users/thanawin/.conda/envs/py2/lib/site-packages/keras/engine/training.py?line=589'>590</a>\u001b[0m     \u001b[39mif\u001b[39;00m loss_scale \u001b[39m==\u001b[39m \u001b[39m'\u001b[39m\u001b[39mdynamic\u001b[39m\u001b[39m'\u001b[39m:\n",
      "File \u001b[1;32mc:\\Users\\thanawin\\.conda\\envs\\py2\\lib\\site-packages\\keras\\optimizers.py:132\u001b[0m, in \u001b[0;36mget\u001b[1;34m(identifier)\u001b[0m\n\u001b[0;32m    <a href='file:///c%3A/Users/thanawin/.conda/envs/py2/lib/site-packages/keras/optimizers.py?line=129'>130</a>\u001b[0m   \u001b[39mreturn\u001b[39;00m deserialize(config)\n\u001b[0;32m    <a href='file:///c%3A/Users/thanawin/.conda/envs/py2/lib/site-packages/keras/optimizers.py?line=130'>131</a>\u001b[0m \u001b[39melse\u001b[39;00m:\n\u001b[1;32m--> <a href='file:///c%3A/Users/thanawin/.conda/envs/py2/lib/site-packages/keras/optimizers.py?line=131'>132</a>\u001b[0m   \u001b[39mraise\u001b[39;00m \u001b[39mValueError\u001b[39;00m(\n\u001b[0;32m    <a href='file:///c%3A/Users/thanawin/.conda/envs/py2/lib/site-packages/keras/optimizers.py?line=132'>133</a>\u001b[0m       \u001b[39m'\u001b[39m\u001b[39mCould not interpret optimizer identifier: \u001b[39m\u001b[39m{}\u001b[39;00m\u001b[39m'\u001b[39m\u001b[39m.\u001b[39mformat(identifier))\n",
      "\u001b[1;31mValueError\u001b[0m: Could not interpret optimizer identifier: <class 'keras.optimizer_v2.gradient_descent.SGD'>"
     ]
    }
   ],
   "source": [
    "trials = Trials()\n",
    "best = fmin(f_nn, space, algo=tpe.suggest, max_evals=10, trials=trials)\n",
    "\n",
    "best_model = trials.results[np.argmin([r['loss'] for r in trials.results])]['model']\n",
    "best_params = trials.results[np.argmin([r['loss'] for r in trials.results])]['params']\n",
    "\n",
    "worst_model = trials.results[np.argmax([r['loss'] for r in trials.results])]['model']\n",
    "worst_params = trials.results[np.argmax([r['loss'] for r in trials.results])]['params']"
   ]
  },
  {
   "cell_type": "code",
   "execution_count": 21,
   "id": "d740b960",
   "metadata": {},
   "outputs": [
    {
     "ename": "NameError",
     "evalue": "name 'best_model' is not defined",
     "output_type": "error",
     "traceback": [
      "\u001b[1;31m---------------------------------------------------------------------------\u001b[0m",
      "\u001b[1;31mNameError\u001b[0m                                 Traceback (most recent call last)",
      "Input \u001b[1;32mIn [21]\u001b[0m, in \u001b[0;36m<cell line: 1>\u001b[1;34m()\u001b[0m\n\u001b[1;32m----> 1\u001b[0m \u001b[43mbest_model\u001b[49m\n",
      "\u001b[1;31mNameError\u001b[0m: name 'best_model' is not defined"
     ]
    }
   ],
   "source": [
    "best_model"
   ]
  },
  {
   "cell_type": "code",
   "execution_count": null,
   "id": "03ec1be9",
   "metadata": {},
   "outputs": [],
   "source": [
    "best_params"
   ]
  },
  {
   "cell_type": "code",
   "execution_count": null,
   "id": "ee6155d9",
   "metadata": {},
   "outputs": [],
   "source": [
    "worst_params"
   ]
  },
  {
   "cell_type": "code",
   "execution_count": null,
   "id": "c5eca3ed",
   "metadata": {},
   "outputs": [],
   "source": []
  },
  {
   "cell_type": "code",
   "execution_count": null,
   "id": "cf9211a9",
   "metadata": {},
   "outputs": [],
   "source": [
    "best_model.get_config()"
   ]
  },
  {
   "cell_type": "code",
   "execution_count": null,
   "id": "ac5b5c8f",
   "metadata": {},
   "outputs": [],
   "source": [
    "best_model.summary()"
   ]
  },
  {
   "cell_type": "code",
   "execution_count": null,
   "id": "a7388b97",
   "metadata": {},
   "outputs": [],
   "source": [
    "trials.results"
   ]
  },
  {
   "cell_type": "code",
   "execution_count": null,
   "id": "0b5cf71b",
   "metadata": {},
   "outputs": [],
   "source": []
  }
 ],
 "metadata": {
  "interpreter": {
   "hash": "5b3daf717ab389b8c7721c430ef766f802d2a0bf1f220b2835fb1b9c99458c1a"
  },
  "kernelspec": {
   "display_name": "Python 3.9.7 ('py2')",
   "language": "python",
   "name": "python3"
  },
  "language_info": {
   "codemirror_mode": {
    "name": "ipython",
    "version": 3
   },
   "file_extension": ".py",
   "mimetype": "text/x-python",
   "name": "python",
   "nbconvert_exporter": "python",
   "pygments_lexer": "ipython3",
   "version": "3.9.7"
  }
 },
 "nbformat": 4,
 "nbformat_minor": 5
}
