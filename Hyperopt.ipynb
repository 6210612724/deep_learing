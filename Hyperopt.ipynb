{
 "cells": [
  {
   "cell_type": "code",
   "execution_count": 1,
   "id": "39a4deff",
   "metadata": {},
   "outputs": [],
   "source": [
    "import numpy as np\n",
    "import pandas as pd\n",
    "\n",
    "from lightgbm.sklearn import LGBMRegressor\n",
    "from sklearn.metrics import mean_squared_error\n",
    "\n",
    "%matplotlib inline\n",
    "\n",
    "import warnings                                  # `do not disturbe` mode\n",
    "warnings.filterwarnings('ignore')"
   ]
  },
  {
   "cell_type": "code",
   "execution_count": 2,
   "id": "0329a956",
   "metadata": {},
   "outputs": [],
   "source": [
    "import numpy as np\n",
    "import pandas as pd\n",
    "import matplotlib.pyplot as plt\n",
    "%matplotlib inline\n",
    "import time\n",
    "import random\n",
    "\n",
    "# For preprocessing\n",
    "from sklearn.preprocessing import MinMaxScaler\n",
    "from sklearn.model_selection import train_test_split \n",
    "\n",
    "# For LSTM model\n",
    "from keras.models import Sequential\n",
    "from keras.layers import Dense\n",
    "from keras.layers import LSTM\n",
    "from keras.layers import Dropout\n",
    "from keras.callbacks import EarlyStopping\n",
    "from tqdm.keras import TqdmCallback\n",
    "\n",
    "# For FOPDT model\n",
    "from scipy.integrate import odeint\n",
    "\n",
    "# For hyperopt (parameter optimization)\n",
    "# ! pip install hyperopt\n",
    "from hyperopt import Trials, STATUS_OK, tpe, fmin, hp"
   ]
  },
  {
   "cell_type": "code",
   "execution_count": 3,
   "id": "ce9f7527",
   "metadata": {},
   "outputs": [
    {
     "ename": "FileNotFoundError",
     "evalue": "[WinError 3] The system cannot find the path specified: 'C:\\\\Users\\\\boyki\\\\OneDrive\\\\Desktop\\\\final_detect\\\\train'",
     "output_type": "error",
     "traceback": [
      "\u001b[1;31m---------------------------------------------------------------------------\u001b[0m",
      "\u001b[1;31mFileNotFoundError\u001b[0m                         Traceback (most recent call last)",
      "\u001b[1;32mc:\\Users\\thanawin\\Desktop\\Deep-learing\\hyperopt_V2_complete4.ipynb Cell 3'\u001b[0m in \u001b[0;36m<cell line: 35>\u001b[1;34m()\u001b[0m\n\u001b[0;32m     <a href='vscode-notebook-cell:/c%3A/Users/thanawin/Desktop/Deep-learing/hyperopt_V2_complete4.ipynb#ch0000002?line=32'>33</a>\u001b[0m \u001b[39mimport\u001b[39;00m \u001b[39mos\u001b[39;00m\n\u001b[0;32m     <a href='vscode-notebook-cell:/c%3A/Users/thanawin/Desktop/Deep-learing/hyperopt_V2_complete4.ipynb#ch0000002?line=33'>34</a>\u001b[0m \u001b[39mfrom\u001b[39;00m \u001b[39mskimage\u001b[39;00m \u001b[39mimport\u001b[39;00m color\n\u001b[1;32m---> <a href='vscode-notebook-cell:/c%3A/Users/thanawin/Desktop/Deep-learing/hyperopt_V2_complete4.ipynb#ch0000002?line=34'>35</a>\u001b[0m \u001b[39mprint\u001b[39m(os\u001b[39m.\u001b[39;49mlistdir(\u001b[39mr\u001b[39;49m\u001b[39m\"\u001b[39;49m\u001b[39mC:\u001b[39;49m\u001b[39m\\\u001b[39;49m\u001b[39mUsers\u001b[39;49m\u001b[39m\\\u001b[39;49m\u001b[39mboyki\u001b[39;49m\u001b[39m\\\u001b[39;49m\u001b[39mOneDrive\u001b[39;49m\u001b[39m\\\u001b[39;49m\u001b[39mDesktop\u001b[39;49m\u001b[39m\\\u001b[39;49m\u001b[39mfinal_detect\u001b[39;49m\u001b[39m\\\u001b[39;49m\u001b[39mtrain\u001b[39;49m\u001b[39m\"\u001b[39;49m))\n",
      "\u001b[1;31mFileNotFoundError\u001b[0m: [WinError 3] The system cannot find the path specified: 'C:\\\\Users\\\\boyki\\\\OneDrive\\\\Desktop\\\\final_detect\\\\train'"
     ]
    }
   ],
   "source": [
    "import numpy as np # linear algebra\n",
    "import pandas as pd # data processing, CSV file I/O (e.g. pd.read_csv)\n",
    "import os,cv2\n",
    "import numpy as np\n",
    "import matplotlib.pyplot as plt\n",
    "import matplotlib.image as mpimg\n",
    "from pylab import rcParams\n",
    "rcParams['figure.figsize'] = 20, 10\n",
    "from sklearn.metrics import roc_curve, auc, roc_auc_score\n",
    "from sklearn.utils import shuffle\n",
    "from sklearn.model_selection import train_test_split\n",
    "from sklearn.metrics import roc_curve,auc\n",
    "from itertools import cycle\n",
    "import keras\n",
    "import seaborn as sns\n",
    "from sklearn.model_selection import KFold\n",
    "import pandas as pd\n",
    "from keras.utils import np_utils\n",
    "# Input data files are available in the \"../input/\" directory.\n",
    "# For example, running this (by clicking run or pressing Shift+Enter) will list the files in the input directory\n",
    "from keras.models import Sequential\n",
    "from keras.layers import Dense , Activation , Dropout ,Flatten\n",
    "from keras.layers.convolutional import Conv2D\n",
    "from keras.layers.convolutional import MaxPooling2D\n",
    "from keras.metrics import categorical_accuracy\n",
    "from keras.models import model_from_json\n",
    "from keras.callbacks import ModelCheckpoint\n",
    "# import all optimizer\n",
    "from keras.optimizers import *\n",
    "from tensorflow.keras.optimizers import *\n",
    "#[\"SGD\", \"RMSprop\", \"Adagrad\", \"Adadelta\", \"Adam\", \"Adamax\", \"Nadam\",\"Momentum\"]\n",
    "from tensorflow.keras.layers import BatchNormalization\n",
    "import os\n",
    "from skimage import color\n",
    "print(os.listdir(r\"C:\\Users\\boyki\\OneDrive\\Desktop\\final_detect\\train\"))"
   ]
  },
  {
   "cell_type": "code",
   "execution_count": null,
   "id": "7fb50e36",
   "metadata": {},
   "outputs": [
    {
     "name": "stdout",
     "output_type": "stream",
     "text": [
      "<keras.optimizer_v2.gradient_descent.SGD object at 0x00000246F47CBA00>\n",
      "<keras.optimizer_v2.rmsprop.RMSprop object at 0x00000246F47CB3A0>\n",
      "<keras.optimizer_v2.adagrad.Adagrad object at 0x00000246F47CBA00>\n",
      "<keras.optimizer_v2.adadelta.Adadelta object at 0x00000246F47CB3A0>\n",
      "<keras.optimizer_v2.adam.Adam object at 0x00000246F47CBA00>\n",
      "<keras.optimizer_v2.adamax.Adamax object at 0x00000246F47CB3A0>\n"
     ]
    }
   ],
   "source": [
    "print(SGD(0.01,0.5))\n",
    "print(RMSprop(0.01,0.5))\n",
    "print(Adagrad(0.01,0.5))\n",
    "print(Adadelta(0.01,0.5))\n",
    "print(Adam(0.01,0.5))\n",
    "print(Adamax(0.01,0.5))\n",
    "#ใช้ Momentum(0.01,0.5) ไม่ได้\n",
    "\n",
    "\n"
   ]
  },
  {
   "cell_type": "code",
   "execution_count": null,
   "id": "7b68a2b1",
   "metadata": {},
   "outputs": [],
   "source": [
    "# Import libraries and packages\n",
    "import matplotlib as plt\n",
    "import matplotlib.pyplot as plt\n",
    "plt.style.use('ggplot')\n",
    "%matplotlib inline\n",
    "from sklearn.preprocessing import LabelBinarizer\n",
    "from sklearn.model_selection import train_test_split\n",
    "from sklearn.metrics import classification_report\n",
    "from keras.models import Sequential\n",
    "from keras.layers.core import Dense\n",
    "# from tensorflow.keras.optimizers import SGD\n",
    "from imutils import paths\n",
    "import matplotlib.pyplot as plt\n",
    "import numpy as np\n",
    "import random\n",
    "import pickle\n",
    "import cv2\n",
    "import os\n",
    "import time   # time1 = time.time(); print('Time taken: {:.1f} seconds'.format(time.time() - time1))\n",
    "import warnings\n",
    "warnings.filterwarnings(\"ignore\")\n",
    "SEED = 42   # set random seed"
   ]
  },
  {
   "cell_type": "code",
   "execution_count": null,
   "id": "09e683aa",
   "metadata": {},
   "outputs": [],
   "source": [
    "from keras.wrappers.scikit_learn import KerasClassifier\n",
    "from sklearn.model_selection import cross_val_score, cross_val_predict\n",
    "from sklearn.datasets import make_classification\n",
    "from keras.callbacks import EarlyStopping, ModelCheckpoint, ReduceLROnPlateau"
   ]
  },
  {
   "cell_type": "code",
   "execution_count": null,
   "id": "f646ca81",
   "metadata": {},
   "outputs": [
    {
     "name": "stdout",
     "output_type": "stream",
     "text": [
      "[INFO] loading images...\n",
      "Time taken: 7.7 seconds\n",
      "done\n"
     ]
    },
    {
     "data": {
      "text/plain": [
       "(23988, 1024)"
      ]
     },
     "execution_count": 7,
     "metadata": {},
     "output_type": "execute_result"
    }
   ],
   "source": [
    "# initialize the data and labels\n",
    "print(\"[INFO] loading images...\")\n",
    "time1 = time.time()   # to measure time taken\n",
    "data = []\n",
    "labels = []\n",
    "\n",
    "# grab the image paths and randomly shuffle them\n",
    "imagePaths = sorted(list(paths.list_images(r'C:\\Users\\boyki\\OneDrive\\Desktop\\final_detect\\train')))   # data folder with 3 categorical folders\n",
    "random.seed(SEED)\n",
    "random.shuffle(imagePaths)\n",
    "\n",
    "# loop over the input images\n",
    "for imagePath in imagePaths:\n",
    "    # load the image, resize the image to be 32x32 pixels (ignoring aspect ratio), \n",
    "    # flatten the 32x32x3=3072 pixel image into a list, and store the image in the data list\n",
    "    image = cv2.imread(imagePath)\n",
    "    image = cv2.resize(image, (32, 32))\n",
    "    image = color.rgb2gray(image).flatten()\n",
    "    data.append(image)\n",
    " \n",
    "    # extract the class label from the image path and update the labels list\n",
    "    label = imagePath.split(os.path.sep)[-2]\n",
    "    labels.append(label)\n",
    "\n",
    "# scale the raw pixel intensities to the range [0, 1]\n",
    "\n",
    "data = np.array(data, dtype=\"float\") / 255.0\n",
    "labels = np.array(labels)\n",
    "\n",
    "print('Time taken: {:.1f} seconds'.format(time.time() - time1))   # to measure time taken\n",
    "print(\"done\")\n",
    "data.shape"
   ]
  },
  {
   "cell_type": "code",
   "execution_count": null,
   "id": "b1f3ce38",
   "metadata": {},
   "outputs": [],
   "source": [
    "num_classes = 8\n",
    "Y = np_utils.to_categorical(labels, num_classes)\n",
    "\n",
    "#Shuffle the dataset\n",
    "data,targets = shuffle(data,Y, random_state=42)"
   ]
  },
  {
   "cell_type": "code",
   "execution_count": null,
   "id": "2d987dcb",
   "metadata": {},
   "outputs": [
    {
     "data": {
      "text/plain": [
       "array([[0., 0., 0., ..., 0., 0., 0.],\n",
       "       [0., 1., 0., ..., 0., 0., 0.],\n",
       "       [0., 0., 0., ..., 0., 0., 0.],\n",
       "       ...,\n",
       "       [0., 0., 0., ..., 0., 0., 0.],\n",
       "       [0., 0., 0., ..., 1., 0., 0.],\n",
       "       [0., 0., 0., ..., 1., 0., 0.]], dtype=float32)"
      ]
     },
     "execution_count": 9,
     "metadata": {},
     "output_type": "execute_result"
    }
   ],
   "source": [
    "targets"
   ]
  },
  {
   "cell_type": "code",
   "execution_count": null,
   "id": "ca867f71",
   "metadata": {},
   "outputs": [],
   "source": []
  },
  {
   "cell_type": "code",
   "execution_count": null,
   "id": "fd76aa89",
   "metadata": {},
   "outputs": [],
   "source": [
    "from sklearn.preprocessing import MultiLabelBinarizer"
   ]
  },
  {
   "cell_type": "code",
   "execution_count": null,
   "id": "38b2b91c",
   "metadata": {},
   "outputs": [],
   "source": [
    "X = np.load(r'C:\\Users\\boyki\\OneDrive\\Desktop\\Final_Feature_Extraction\\HOG_embreded.npy') \n",
    "y = np.load(r'C:\\Users\\boyki\\OneDrive\\Desktop\\Final_Feature_Extraction\\labels_HOG.npy')"
   ]
  },
  {
   "cell_type": "code",
   "execution_count": null,
   "id": "664a4a8b",
   "metadata": {},
   "outputs": [],
   "source": [
    "from sklearn.preprocessing import LabelEncoder\n",
    "label_encoder = LabelEncoder()\n",
    "y2 = label_encoder.fit_transform(y)"
   ]
  },
  {
   "cell_type": "code",
   "execution_count": null,
   "id": "1125f3a6",
   "metadata": {},
   "outputs": [
    {
     "data": {
      "text/plain": [
       "(23988,)"
      ]
     },
     "execution_count": 13,
     "metadata": {},
     "output_type": "execute_result"
    }
   ],
   "source": [
    "y2.shape"
   ]
  },
  {
   "cell_type": "code",
   "execution_count": null,
   "id": "23f2634d",
   "metadata": {},
   "outputs": [],
   "source": [
    "num_classes = 8\n",
    "Y = np_utils.to_categorical(y2, num_classes)\n",
    "\n",
    "#Shuffle the dataset\n",
    "X,y = shuffle(X,Y, random_state=42)"
   ]
  },
  {
   "cell_type": "code",
   "execution_count": null,
   "id": "6fef8303",
   "metadata": {},
   "outputs": [],
   "source": [
    "Xtrain, Xtest, ytrain, ytest = train_test_split(data,targets,test_size=0.2,shuffle=False)   "
   ]
  },
  {
   "cell_type": "code",
   "execution_count": null,
   "id": "5e74266c",
   "metadata": {},
   "outputs": [
    {
     "data": {
      "text/plain": [
       "array([[3.92156863e-03, 3.89081123e-03, 3.92156863e-03, ...,\n",
       "        2.87581699e-03, 2.87581699e-03, 2.59900038e-03],\n",
       "       [2.69941561e-03, 1.79467128e-03, 2.05196924e-03, ...,\n",
       "        3.07588466e-03, 3.06050596e-03, 3.01436986e-03],\n",
       "       [4.15224913e-04, 3.99846213e-04, 3.84467512e-04, ...,\n",
       "        4.61361015e-05, 3.07574010e-05, 3.07574010e-05],\n",
       "       ...,\n",
       "       [1.33794694e-03, 1.64552095e-03, 2.10688197e-03, ...,\n",
       "        1.19953864e-03, 1.19953864e-03, 1.06113033e-03],\n",
       "       [1.46097655e-03, 1.76855056e-03, 2.16839677e-03, ...,\n",
       "        3.22952710e-04, 3.84467512e-04, 5.53633218e-04],\n",
       "       [1.59938485e-03, 1.07650903e-03, 1.06113033e-03, ...,\n",
       "        1.98385236e-03, 2.15301807e-03, 2.16839677e-03]])"
      ]
     },
     "execution_count": 16,
     "metadata": {},
     "output_type": "execute_result"
    }
   ],
   "source": [
    "Xtrain"
   ]
  },
  {
   "cell_type": "code",
   "execution_count": null,
   "id": "b9eb530e",
   "metadata": {},
   "outputs": [
    {
     "data": {
      "text/plain": [
       "array([[3.92156863e-03, 3.89081123e-03, 3.92156863e-03, ...,\n",
       "        2.87581699e-03, 2.87581699e-03, 2.59900038e-03],\n",
       "       [2.69941561e-03, 1.79467128e-03, 2.05196924e-03, ...,\n",
       "        3.07588466e-03, 3.06050596e-03, 3.01436986e-03],\n",
       "       [4.15224913e-04, 3.99846213e-04, 3.84467512e-04, ...,\n",
       "        4.61361015e-05, 3.07574010e-05, 3.07574010e-05],\n",
       "       ...,\n",
       "       [1.33794694e-03, 1.64552095e-03, 2.10688197e-03, ...,\n",
       "        1.19953864e-03, 1.19953864e-03, 1.06113033e-03],\n",
       "       [1.46097655e-03, 1.76855056e-03, 2.16839677e-03, ...,\n",
       "        3.22952710e-04, 3.84467512e-04, 5.53633218e-04],\n",
       "       [1.59938485e-03, 1.07650903e-03, 1.06113033e-03, ...,\n",
       "        1.98385236e-03, 2.15301807e-03, 2.16839677e-03]])"
      ]
     },
     "execution_count": 17,
     "metadata": {},
     "output_type": "execute_result"
    }
   ],
   "source": [
    "Xtrain"
   ]
  },
  {
   "cell_type": "code",
   "execution_count": null,
   "id": "fc428ee9",
   "metadata": {},
   "outputs": [],
   "source": [
    "def forecast(Xtest,ytest,model):\n",
    "    Yr = ytest\n",
    "    Yp = model.predict(Xtest)\n",
    "    Yf = ytest.copy()\n",
    "    \n",
    "    return Yr, Yp, Yf"
   ]
  },
  {
   "cell_type": "code",
   "execution_count": 19,
   "id": "e42105cf",
   "metadata": {},
   "outputs": [
    {
     "data": {
      "text/plain": [
       "\"from hyperopt.pyll.base import scope #quniform returns float, some parameters require int; use this to force int\\n\\nspace = {'rate'       : hp.uniform('rate',0.01,0.5),\\n         'units'      : scope.int(hp.quniform('units',10,100,5)),\\n         'batch_size' : scope.int(hp.quniform('batch_size',100,250,25)),\\n         'layers'     : scope.int(hp.quniform('layers',1,6,1))\\n         'kernel'\\n        }\""
      ]
     },
     "execution_count": 19,
     "metadata": {},
     "output_type": "execute_result"
    }
   ],
   "source": [
    "'''from hyperopt.pyll.base import scope #quniform returns float, some parameters require int; use this to force int\n",
    "\n",
    "space = {'rate'       : hp.uniform('rate',0.01,0.5),\n",
    "         'units'      : scope.int(hp.quniform('units',10,100,5)),\n",
    "         'batch_size' : scope.int(hp.quniform('batch_size',100,250,25)),\n",
    "         'layers'     : scope.int(hp.quniform('layers',1,6,1))\n",
    "         'kernel'\n",
    "        }'''"
   ]
  },
  {
   "cell_type": "code",
   "execution_count": 20,
   "id": "f1426429",
   "metadata": {},
   "outputs": [
    {
     "name": "stdout",
     "output_type": "stream",
     "text": [
      "0 switch\n",
      "1   hyperopt_param\n",
      "2     Literal{optimizer1}\n",
      "3     randint\n",
      "4       Literal{7}\n",
      "5   Literal{SGD}\n",
      "6   Literal{RMSprop}\n",
      "7   Literal{Adagrad}\n",
      "8   Literal{Adadelta}\n",
      "9   Literal{Adam}\n",
      "10   Literal{Adamax}\n",
      "11   Literal{Nadam}\n"
     ]
    }
   ],
   "source": [
    "from hyperopt.pyll.base import scope\n",
    "space = { 'choice': hp.choice('num_layers',[{'layers':'two', }]),\n",
    "            'units1': hp.uniform('units1', 10,100),\n",
    "            'units2': hp.uniform('units2', 10,100),\n",
    "            'dropout1': hp.uniform('dropout1', .01,.5),\n",
    "            'dropout2': hp.uniform('dropout2',  .01,.5),\n",
    "            'learn' : hp.uniform('learn1', .001,.1),\n",
    "            'momentun' : hp.uniform('momentun1', .1,.9),\n",
    "            'batch_size' : scope.int(hp.quniform('batch_size',25,200,25)),\n",
    "            'kernel1' : hp.choice('kernel1',['uniform', 'lecun_uniform', 'normal', 'zero', 'glorot_normal', 'glorot_uniform', 'he_normal', 'he_uniform']),\n",
    "            'kernel2' : hp.choice('kernel2',['uniform', 'lecun_uniform', 'normal', 'zero', 'glorot_normal', 'glorot_uniform', 'he_normal', 'he_uniform']),\n",
    "            'epochs' : 200,\n",
    "            'optimizer': hp.choice('optimizer1',[\"SGD\", \"RMSprop\", \"Adagrad\", \"Adadelta\", \"Adam\", \"Adamax\", \"Nadam\"]),\n",
    "            'activation1': hp.choice('activation1',['softmax','softsign','relu','elu','tanh','linear','swish','sigmoid','leaky_relu']),\n",
    "            'activation2': hp.choice('activation2',['softmax','softsign','relu','elu','tanh','linear','swish','sigmoid','leaky_relu']),\n",
    "        }\n",
    "\n",
    "print(space[\"optimizer\"])"
   ]
  },
  {
   "cell_type": "code",
   "execution_count": 21,
   "id": "1e9fa6aa",
   "metadata": {},
   "outputs": [],
   "source": [
    "def f_nn(params):\n",
    "    # Generate data with given window\n",
    "    \n",
    "    \n",
    "    model = Sequential()\n",
    "    \n",
    "    print ('Params testing: ', space)\n",
    "    model=keras.Sequential()\n",
    "    model.add(Dense(units=int(params['units1']),kernel_initializer=params['kernel1'],\n",
    "                                input_shape=(1024,),\n",
    "                                kernel_regularizer=keras.regularizers.l2(0.01)))\n",
    "    model.add(Dropout(params['dropout1']))\n",
    "    model.add(Activation(params['activation1']))\n",
    "    ##layer2\n",
    "    model.add(Dense(units=int(params['units2']),kernel_initializer=params['kernel2']))\n",
    "    model.add(Dropout(params['dropout2']))\n",
    "    model.add(Activation(params['activation2']))\n",
    "    model.add(Dense(8))\n",
    "    #\n",
    "    #optimizer = params['optimizer1']\n",
    "    #model.compile(loss='mean_squared_error',optimizer=optimizer)\n",
    "#     model.compile(loss='mean_squared_error',optimizer=params['optimizer'](lr=params['learn'], momentum = params['momentun']))\n",
    "    l_rate = params['learn']\n",
    "    moment = params['momentun']\n",
    "    \n",
    "    \n",
    "    if(params['optimizer'] == \"SGD\"):\n",
    "        model.compile(loss='mean_squared_error',optimizer=SGD(l_rate,moment))\n",
    "        \n",
    "    if(params['optimizer'] == \"RMSprop\"):\n",
    "        model.compile(loss='mean_squared_error',optimizer=RMSprop(l_rate,moment))\n",
    "        \n",
    "    if(params['optimizer'] == \"Adagrad\"):  \n",
    "        model.compile(loss='mean_squared_error',optimizer=Adagrad(l_rate,moment))\n",
    "        \n",
    "    if(params['optimizer'] == \"Adadelta\"):  \n",
    "        model.compile(loss='mean_squared_error',optimizer=Adadelta(l_rate,moment))\n",
    "        \n",
    "    if(params['optimizer'] == \"Adam\"):  \n",
    "        model.compile(loss='mean_squared_error',optimizer=Adam(l_rate,moment))\n",
    "        \n",
    "    if(params['optimizer'] == \"Adamax\"): \n",
    "        model.compile(loss='mean_squared_error',optimizer=Adamax(l_rate,moment))\n",
    "        \n",
    "    if(params['optimizer'] == \"Nadam\"):  \n",
    "        model.compile(loss='mean_squared_error',optimizer=Nadam(l_rate,moment))\n",
    "        \n",
    "    if(params['optimizer'] == \"Momentum\"):\n",
    "        model.compile(loss='mean_squared_error',optimizer=SGD(l_rate,moment))\n",
    "        \n",
    "#     model.compile(loss='mean_squared_error',optimizer=params['optimizer'](l_rate,moment))\n",
    "   \n",
    "    es = EarlyStopping(monitor='val_loss',mode='min',verbose=1,patience=15)\n",
    "#\n",
    "    result = model.fit(Xtrain, ytrain, verbose=0, validation_split=0.1,\n",
    "                       batch_size=params['batch_size'],\n",
    "                       epochs=200,\n",
    "                       callbacks = [es,TqdmCallback(verbose=1)]\n",
    "                      )\n",
    "    \n",
    "    #get the lowest validation loss of the training epochs\n",
    "    validation_loss = np.amin(result.history['val_loss']) \n",
    "    print('Best validation loss of epoch:', validation_loss)\n",
    "    #val_length = int(0.2*len(ytest))\n",
    "    #Xval, yval = Xtrain[-val_length:], ytrain[-val_length:]\n",
    "    \n",
    "    # Evaluate forecast\n",
    "    #Yr, Yp, Yf = forecast(Xval,yval,model)\n",
    "    #mse = np.mean((Yr - Yf)**2)\n",
    "    #print('Best forecast loss of epoch:', mse)\n",
    "    \n",
    "    return {'loss': validation_loss, 'status': STATUS_OK, 'model': model, 'params': params}"
   ]
  },
  {
   "cell_type": "code",
   "execution_count": 22,
   "id": "e877d4ea",
   "metadata": {},
   "outputs": [],
   "source": [
    "def f_nn_test(params):\n",
    "    print(f\"optimizer : {params['optimizer']} type : {type(params['optimizer'])}\")\n",
    "    print(f\"learn : {params['learn']} type : {type(params['learn'])}\")\n",
    "    print(f\"momentun : {params['momentun']} type : {type(params['momentun'])}\")\n",
    "    \n",
    "    print({params['optimizer']==\"Adam\"})\n",
    "\n",
    "    return {'loss': 0.99, 'status': STATUS_OK, 'model': \"test\", 'params': params}"
   ]
  },
  {
   "cell_type": "code",
   "execution_count": 23,
   "id": "96719045",
   "metadata": {},
   "outputs": [],
   "source": [
    "#params['optimizer'](l_rate,moment)\n",
    "#string(l_rate,moment)"
   ]
  },
  {
   "cell_type": "code",
   "execution_count": 24,
   "id": "47f3bcfd",
   "metadata": {
    "scrolled": true
   },
   "outputs": [
    {
     "name": "stdout",
     "output_type": "stream",
     "text": [
      "Params testing:                                       \n",
      "{'choice': <hyperopt.pyll.base.Apply object at 0x00000246F523CA90>, 'units1': <hyperopt.pyll.base.Apply object at 0x00000246F523CE80>, 'units2': <hyperopt.pyll.base.Apply object at 0x00000246F523CD60>, 'dropout1': <hyperopt.pyll.base.Apply object at 0x00000246F523CC40>, 'dropout2': <hyperopt.pyll.base.Apply object at 0x00000246F5245D30>, 'learn': <hyperopt.pyll.base.Apply object at 0x00000246F5245C10>, 'momentun': <hyperopt.pyll.base.Apply object at 0x00000246F5245AF0>, 'batch_size': <hyperopt.pyll.base.Apply object at 0x00000246F5245970>, 'kernel1': <hyperopt.pyll.base.Apply object at 0x00000246F5245880>, 'kernel2': <hyperopt.pyll.base.Apply object at 0x00000246F5245610>, 'epochs': 200, 'optimizer': <hyperopt.pyll.base.Apply object at 0x00000246F52453A0>, 'activation1': <hyperopt.pyll.base.Apply object at 0x00000246F523B730>, 'activation2': <hyperopt.pyll.base.Apply object at 0x00000246F522FF40>}\n",
      "  0%|          | 0/10 [00:00<?, ?trial/s, best loss=?]"
     ]
    },
    {
     "data": {
      "application/vnd.jupyter.widget-view+json": {
       "model_id": "40f7b562f4584c3e819d0408d99cceb5",
       "version_major": 2,
       "version_minor": 0
      },
      "text/plain": [
       "0epoch [00:00, ?epoch/s]"
      ]
     },
     "metadata": {},
     "output_type": "display_data"
    },
    {
     "data": {
      "application/vnd.jupyter.widget-view+json": {
       "model_id": "",
       "version_major": 2,
       "version_minor": 0
      },
      "text/plain": [
       "0batch [00:00, ?batch/s]"
      ]
     },
     "metadata": {},
     "output_type": "display_data"
    },
    {
     "name": "stdout",
     "output_type": "stream",
     "text": [
      "Epoch 00030: early stopping                           \n",
      "Best validation loss of epoch:                        \n",
      "0.10886359959840775                                   \n",
      "Params testing:                                                                  \n",
      "{'choice': <hyperopt.pyll.base.Apply object at 0x00000246F523CA90>, 'units1': <hyperopt.pyll.base.Apply object at 0x00000246F523CE80>, 'units2': <hyperopt.pyll.base.Apply object at 0x00000246F523CD60>, 'dropout1': <hyperopt.pyll.base.Apply object at 0x00000246F523CC40>, 'dropout2': <hyperopt.pyll.base.Apply object at 0x00000246F5245D30>, 'learn': <hyperopt.pyll.base.Apply object at 0x00000246F5245C10>, 'momentun': <hyperopt.pyll.base.Apply object at 0x00000246F5245AF0>, 'batch_size': <hyperopt.pyll.base.Apply object at 0x00000246F5245970>, 'kernel1': <hyperopt.pyll.base.Apply object at 0x00000246F5245880>, 'kernel2': <hyperopt.pyll.base.Apply object at 0x00000246F5245610>, 'epochs': 200, 'optimizer': <hyperopt.pyll.base.Apply object at 0x00000246F52453A0>, 'activation1': <hyperopt.pyll.base.Apply object at 0x00000246F523B730>, 'activation2': <hyperopt.pyll.base.Apply object at 0x00000246F522FF40>}\n",
      " 10%|█         | 1/10 [00:11<01:39, 11.02s/trial, best loss: 0.10886359959840775]"
     ]
    },
    {
     "data": {
      "application/vnd.jupyter.widget-view+json": {
       "model_id": "bd0233eba61d4b53a6315e60fc93c8ca",
       "version_major": 2,
       "version_minor": 0
      },
      "text/plain": [
       "0epoch [00:00, ?epoch/s]"
      ]
     },
     "metadata": {},
     "output_type": "display_data"
    },
    {
     "data": {
      "application/vnd.jupyter.widget-view+json": {
       "model_id": "",
       "version_major": 2,
       "version_minor": 0
      },
      "text/plain": [
       "0batch [00:00, ?batch/s]"
      ]
     },
     "metadata": {},
     "output_type": "display_data"
    },
    {
     "name": "stdout",
     "output_type": "stream",
     "text": [
      "Epoch 00032: early stopping                                                      \n",
      "Best validation loss of epoch:                                                   \n",
      "0.17503714561462402                                                              \n",
      "Params testing:                                                                  \n",
      "{'choice': <hyperopt.pyll.base.Apply object at 0x00000246F523CA90>, 'units1': <hyperopt.pyll.base.Apply object at 0x00000246F523CE80>, 'units2': <hyperopt.pyll.base.Apply object at 0x00000246F523CD60>, 'dropout1': <hyperopt.pyll.base.Apply object at 0x00000246F523CC40>, 'dropout2': <hyperopt.pyll.base.Apply object at 0x00000246F5245D30>, 'learn': <hyperopt.pyll.base.Apply object at 0x00000246F5245C10>, 'momentun': <hyperopt.pyll.base.Apply object at 0x00000246F5245AF0>, 'batch_size': <hyperopt.pyll.base.Apply object at 0x00000246F5245970>, 'kernel1': <hyperopt.pyll.base.Apply object at 0x00000246F5245880>, 'kernel2': <hyperopt.pyll.base.Apply object at 0x00000246F5245610>, 'epochs': 200, 'optimizer': <hyperopt.pyll.base.Apply object at 0x00000246F52453A0>, 'activation1': <hyperopt.pyll.base.Apply object at 0x00000246F523B730>, 'activation2': <hyperopt.pyll.base.Apply object at 0x00000246F522FF40>}\n",
      " 20%|██        | 2/10 [00:21<01:26, 10.82s/trial, best loss: 0.10886359959840775]"
     ]
    },
    {
     "data": {
      "application/vnd.jupyter.widget-view+json": {
       "model_id": "552bfc30690048a5886642566f12f923",
       "version_major": 2,
       "version_minor": 0
      },
      "text/plain": [
       "0epoch [00:00, ?epoch/s]"
      ]
     },
     "metadata": {},
     "output_type": "display_data"
    },
    {
     "data": {
      "application/vnd.jupyter.widget-view+json": {
       "model_id": "",
       "version_major": 2,
       "version_minor": 0
      },
      "text/plain": [
       "0batch [00:00, ?batch/s]"
      ]
     },
     "metadata": {},
     "output_type": "display_data"
    },
    {
     "name": "stdout",
     "output_type": "stream",
     "text": [
      "Epoch 00016: early stopping                                                      \n",
      "Best validation loss of epoch:                                                   \n",
      "0.10895341634750366                                                              \n",
      "Params testing:                                                                  \n",
      "{'choice': <hyperopt.pyll.base.Apply object at 0x00000246F523CA90>, 'units1': <hyperopt.pyll.base.Apply object at 0x00000246F523CE80>, 'units2': <hyperopt.pyll.base.Apply object at 0x00000246F523CD60>, 'dropout1': <hyperopt.pyll.base.Apply object at 0x00000246F523CC40>, 'dropout2': <hyperopt.pyll.base.Apply object at 0x00000246F5245D30>, 'learn': <hyperopt.pyll.base.Apply object at 0x00000246F5245C10>, 'momentun': <hyperopt.pyll.base.Apply object at 0x00000246F5245AF0>, 'batch_size': <hyperopt.pyll.base.Apply object at 0x00000246F5245970>, 'kernel1': <hyperopt.pyll.base.Apply object at 0x00000246F5245880>, 'kernel2': <hyperopt.pyll.base.Apply object at 0x00000246F5245610>, 'epochs': 200, 'optimizer': <hyperopt.pyll.base.Apply object at 0x00000246F52453A0>, 'activation1': <hyperopt.pyll.base.Apply object at 0x00000246F523B730>, 'activation2': <hyperopt.pyll.base.Apply object at 0x00000246F522FF40>}\n",
      " 30%|███       | 3/10 [00:32<01:17, 11.01s/trial, best loss: 0.10886359959840775]"
     ]
    },
    {
     "data": {
      "application/vnd.jupyter.widget-view+json": {
       "model_id": "63b9c704d1cc44a2bc1603fe3b7b80e1",
       "version_major": 2,
       "version_minor": 0
      },
      "text/plain": [
       "0epoch [00:00, ?epoch/s]"
      ]
     },
     "metadata": {},
     "output_type": "display_data"
    },
    {
     "data": {
      "application/vnd.jupyter.widget-view+json": {
       "model_id": "",
       "version_major": 2,
       "version_minor": 0
      },
      "text/plain": [
       "0batch [00:00, ?batch/s]"
      ]
     },
     "metadata": {},
     "output_type": "display_data"
    },
    {
     "name": "stdout",
     "output_type": "stream",
     "text": [
      "Epoch 00052: early stopping                                                      \n",
      "Best validation loss of epoch:                                                   \n",
      "0.7721126675605774                                                               \n",
      "Params testing:                                                                  \n",
      "{'choice': <hyperopt.pyll.base.Apply object at 0x00000246F523CA90>, 'units1': <hyperopt.pyll.base.Apply object at 0x00000246F523CE80>, 'units2': <hyperopt.pyll.base.Apply object at 0x00000246F523CD60>, 'dropout1': <hyperopt.pyll.base.Apply object at 0x00000246F523CC40>, 'dropout2': <hyperopt.pyll.base.Apply object at 0x00000246F5245D30>, 'learn': <hyperopt.pyll.base.Apply object at 0x00000246F5245C10>, 'momentun': <hyperopt.pyll.base.Apply object at 0x00000246F5245AF0>, 'batch_size': <hyperopt.pyll.base.Apply object at 0x00000246F5245970>, 'kernel1': <hyperopt.pyll.base.Apply object at 0x00000246F5245880>, 'kernel2': <hyperopt.pyll.base.Apply object at 0x00000246F5245610>, 'epochs': 200, 'optimizer': <hyperopt.pyll.base.Apply object at 0x00000246F52453A0>, 'activation1': <hyperopt.pyll.base.Apply object at 0x00000246F523B730>, 'activation2': <hyperopt.pyll.base.Apply object at 0x00000246F522FF40>}\n",
      " 40%|████      | 4/10 [01:04<01:54, 19.03s/trial, best loss: 0.10886359959840775]"
     ]
    },
    {
     "data": {
      "application/vnd.jupyter.widget-view+json": {
       "model_id": "e66de66d4cde4273aaceb9f19a85d1bd",
       "version_major": 2,
       "version_minor": 0
      },
      "text/plain": [
       "0epoch [00:00, ?epoch/s]"
      ]
     },
     "metadata": {},
     "output_type": "display_data"
    },
    {
     "data": {
      "application/vnd.jupyter.widget-view+json": {
       "model_id": "",
       "version_major": 2,
       "version_minor": 0
      },
      "text/plain": [
       "0batch [00:00, ?batch/s]"
      ]
     },
     "metadata": {},
     "output_type": "display_data"
    },
    {
     "name": "stdout",
     "output_type": "stream",
     "text": [
      "Epoch 00025: early stopping                                                      \n",
      "Best validation loss of epoch:                                                   \n",
      "1.1110304594039917                                                               \n",
      "Params testing:                                                                  \n",
      "{'choice': <hyperopt.pyll.base.Apply object at 0x00000246F523CA90>, 'units1': <hyperopt.pyll.base.Apply object at 0x00000246F523CE80>, 'units2': <hyperopt.pyll.base.Apply object at 0x00000246F523CD60>, 'dropout1': <hyperopt.pyll.base.Apply object at 0x00000246F523CC40>, 'dropout2': <hyperopt.pyll.base.Apply object at 0x00000246F5245D30>, 'learn': <hyperopt.pyll.base.Apply object at 0x00000246F5245C10>, 'momentun': <hyperopt.pyll.base.Apply object at 0x00000246F5245AF0>, 'batch_size': <hyperopt.pyll.base.Apply object at 0x00000246F5245970>, 'kernel1': <hyperopt.pyll.base.Apply object at 0x00000246F5245880>, 'kernel2': <hyperopt.pyll.base.Apply object at 0x00000246F5245610>, 'epochs': 200, 'optimizer': <hyperopt.pyll.base.Apply object at 0x00000246F52453A0>, 'activation1': <hyperopt.pyll.base.Apply object at 0x00000246F523B730>, 'activation2': <hyperopt.pyll.base.Apply object at 0x00000246F522FF40>}\n",
      " 50%|█████     | 5/10 [01:16<01:23, 16.74s/trial, best loss: 0.10886359959840775]"
     ]
    },
    {
     "data": {
      "application/vnd.jupyter.widget-view+json": {
       "model_id": "fde98043e578461c956fbbb2461d0b18",
       "version_major": 2,
       "version_minor": 0
      },
      "text/plain": [
       "0epoch [00:00, ?epoch/s]"
      ]
     },
     "metadata": {},
     "output_type": "display_data"
    },
    {
     "data": {
      "application/vnd.jupyter.widget-view+json": {
       "model_id": "",
       "version_major": 2,
       "version_minor": 0
      },
      "text/plain": [
       "0batch [00:00, ?batch/s]"
      ]
     },
     "metadata": {},
     "output_type": "display_data"
    },
    {
     "name": "stdout",
     "output_type": "stream",
     "text": [
      "Epoch 00168: early stopping                                                      \n",
      "Best validation loss of epoch:                                                   \n",
      "0.10886629670858383                                                              \n",
      "Params testing:                                                                  \n",
      "{'choice': <hyperopt.pyll.base.Apply object at 0x00000246F523CA90>, 'units1': <hyperopt.pyll.base.Apply object at 0x00000246F523CE80>, 'units2': <hyperopt.pyll.base.Apply object at 0x00000246F523CD60>, 'dropout1': <hyperopt.pyll.base.Apply object at 0x00000246F523CC40>, 'dropout2': <hyperopt.pyll.base.Apply object at 0x00000246F5245D30>, 'learn': <hyperopt.pyll.base.Apply object at 0x00000246F5245C10>, 'momentun': <hyperopt.pyll.base.Apply object at 0x00000246F5245AF0>, 'batch_size': <hyperopt.pyll.base.Apply object at 0x00000246F5245970>, 'kernel1': <hyperopt.pyll.base.Apply object at 0x00000246F5245880>, 'kernel2': <hyperopt.pyll.base.Apply object at 0x00000246F5245610>, 'epochs': 200, 'optimizer': <hyperopt.pyll.base.Apply object at 0x00000246F52453A0>, 'activation1': <hyperopt.pyll.base.Apply object at 0x00000246F523B730>, 'activation2': <hyperopt.pyll.base.Apply object at 0x00000246F522FF40>}\n",
      " 60%|██████    | 6/10 [02:15<02:03, 30.93s/trial, best loss: 0.10886359959840775]"
     ]
    },
    {
     "data": {
      "application/vnd.jupyter.widget-view+json": {
       "model_id": "7a1ae92e08cc4c65b16a1e47bb9fabf1",
       "version_major": 2,
       "version_minor": 0
      },
      "text/plain": [
       "0epoch [00:00, ?epoch/s]"
      ]
     },
     "metadata": {},
     "output_type": "display_data"
    },
    {
     "data": {
      "application/vnd.jupyter.widget-view+json": {
       "model_id": "",
       "version_major": 2,
       "version_minor": 0
      },
      "text/plain": [
       "0batch [00:00, ?batch/s]"
      ]
     },
     "metadata": {},
     "output_type": "display_data"
    },
    {
     "name": "stdout",
     "output_type": "stream",
     "text": [
      "Epoch 00018: early stopping                                                      \n",
      "Best validation loss of epoch:                                                   \n",
      "0.10892005264759064                                                              \n",
      "Params testing:                                                                  \n",
      "{'choice': <hyperopt.pyll.base.Apply object at 0x00000246F523CA90>, 'units1': <hyperopt.pyll.base.Apply object at 0x00000246F523CE80>, 'units2': <hyperopt.pyll.base.Apply object at 0x00000246F523CD60>, 'dropout1': <hyperopt.pyll.base.Apply object at 0x00000246F523CC40>, 'dropout2': <hyperopt.pyll.base.Apply object at 0x00000246F5245D30>, 'learn': <hyperopt.pyll.base.Apply object at 0x00000246F5245C10>, 'momentun': <hyperopt.pyll.base.Apply object at 0x00000246F5245AF0>, 'batch_size': <hyperopt.pyll.base.Apply object at 0x00000246F5245970>, 'kernel1': <hyperopt.pyll.base.Apply object at 0x00000246F5245880>, 'kernel2': <hyperopt.pyll.base.Apply object at 0x00000246F5245610>, 'epochs': 200, 'optimizer': <hyperopt.pyll.base.Apply object at 0x00000246F52453A0>, 'activation1': <hyperopt.pyll.base.Apply object at 0x00000246F523B730>, 'activation2': <hyperopt.pyll.base.Apply object at 0x00000246F522FF40>}\n",
      " 70%|███████   | 7/10 [02:23<01:09, 23.33s/trial, best loss: 0.10886359959840775]"
     ]
    },
    {
     "data": {
      "application/vnd.jupyter.widget-view+json": {
       "model_id": "0087e39d9984441f9909df66e4f5d7c3",
       "version_major": 2,
       "version_minor": 0
      },
      "text/plain": [
       "0epoch [00:00, ?epoch/s]"
      ]
     },
     "metadata": {},
     "output_type": "display_data"
    },
    {
     "data": {
      "application/vnd.jupyter.widget-view+json": {
       "model_id": "",
       "version_major": 2,
       "version_minor": 0
      },
      "text/plain": [
       "0batch [00:00, ?batch/s]"
      ]
     },
     "metadata": {},
     "output_type": "display_data"
    },
    {
     "name": "stdout",
     "output_type": "stream",
     "text": [
      "Epoch 00049: early stopping                                                      \n",
      "Best validation loss of epoch:                                                   \n",
      "0.10883070528507233                                                              \n",
      "Params testing:                                                                  \n",
      "{'choice': <hyperopt.pyll.base.Apply object at 0x00000246F523CA90>, 'units1': <hyperopt.pyll.base.Apply object at 0x00000246F523CE80>, 'units2': <hyperopt.pyll.base.Apply object at 0x00000246F523CD60>, 'dropout1': <hyperopt.pyll.base.Apply object at 0x00000246F523CC40>, 'dropout2': <hyperopt.pyll.base.Apply object at 0x00000246F5245D30>, 'learn': <hyperopt.pyll.base.Apply object at 0x00000246F5245C10>, 'momentun': <hyperopt.pyll.base.Apply object at 0x00000246F5245AF0>, 'batch_size': <hyperopt.pyll.base.Apply object at 0x00000246F5245970>, 'kernel1': <hyperopt.pyll.base.Apply object at 0x00000246F5245880>, 'kernel2': <hyperopt.pyll.base.Apply object at 0x00000246F5245610>, 'epochs': 200, 'optimizer': <hyperopt.pyll.base.Apply object at 0x00000246F52453A0>, 'activation1': <hyperopt.pyll.base.Apply object at 0x00000246F523B730>, 'activation2': <hyperopt.pyll.base.Apply object at 0x00000246F522FF40>}\n",
      " 80%|████████  | 8/10 [02:55<00:52, 26.27s/trial, best loss: 0.10883070528507233]"
     ]
    },
    {
     "data": {
      "application/vnd.jupyter.widget-view+json": {
       "model_id": "00684165c8b84acba0ad2621580d25b2",
       "version_major": 2,
       "version_minor": 0
      },
      "text/plain": [
       "0epoch [00:00, ?epoch/s]"
      ]
     },
     "metadata": {},
     "output_type": "display_data"
    },
    {
     "data": {
      "application/vnd.jupyter.widget-view+json": {
       "model_id": "",
       "version_major": 2,
       "version_minor": 0
      },
      "text/plain": [
       "0batch [00:00, ?batch/s]"
      ]
     },
     "metadata": {},
     "output_type": "display_data"
    },
    {
     "name": "stdout",
     "output_type": "stream",
     "text": [
      "Epoch 00017: early stopping                                                      \n",
      "Best validation loss of epoch:                                                   \n",
      "0.32531464099884033                                                              \n",
      "Params testing:                                                                  \n",
      "{'choice': <hyperopt.pyll.base.Apply object at 0x00000246F523CA90>, 'units1': <hyperopt.pyll.base.Apply object at 0x00000246F523CE80>, 'units2': <hyperopt.pyll.base.Apply object at 0x00000246F523CD60>, 'dropout1': <hyperopt.pyll.base.Apply object at 0x00000246F523CC40>, 'dropout2': <hyperopt.pyll.base.Apply object at 0x00000246F5245D30>, 'learn': <hyperopt.pyll.base.Apply object at 0x00000246F5245C10>, 'momentun': <hyperopt.pyll.base.Apply object at 0x00000246F5245AF0>, 'batch_size': <hyperopt.pyll.base.Apply object at 0x00000246F5245970>, 'kernel1': <hyperopt.pyll.base.Apply object at 0x00000246F5245880>, 'kernel2': <hyperopt.pyll.base.Apply object at 0x00000246F5245610>, 'epochs': 200, 'optimizer': <hyperopt.pyll.base.Apply object at 0x00000246F52453A0>, 'activation1': <hyperopt.pyll.base.Apply object at 0x00000246F523B730>, 'activation2': <hyperopt.pyll.base.Apply object at 0x00000246F522FF40>}\n",
      " 90%|█████████ | 9/10 [03:07<00:21, 21.90s/trial, best loss: 0.10883070528507233]"
     ]
    },
    {
     "data": {
      "application/vnd.jupyter.widget-view+json": {
       "model_id": "6655fc1da0ce41b28453071d37f84f68",
       "version_major": 2,
       "version_minor": 0
      },
      "text/plain": [
       "0epoch [00:00, ?epoch/s]"
      ]
     },
     "metadata": {},
     "output_type": "display_data"
    },
    {
     "data": {
      "application/vnd.jupyter.widget-view+json": {
       "model_id": "",
       "version_major": 2,
       "version_minor": 0
      },
      "text/plain": [
       "0batch [00:00, ?batch/s]"
      ]
     },
     "metadata": {},
     "output_type": "display_data"
    },
    {
     "name": "stdout",
     "output_type": "stream",
     "text": [
      "Epoch 00021: early stopping                                                      \n",
      "Best validation loss of epoch:                                                   \n",
      "0.5720084309577942                                                               \n",
      "100%|██████████| 10/10 [03:26<00:00, 20.66s/trial, best loss: 0.10883070528507233]\n"
     ]
    }
   ],
   "source": [
    "trials = Trials()\n",
    "best = fmin(f_nn, space, algo=tpe.suggest, max_evals=10, trials=trials)\n",
    "# best = fmin(f_nn_test, space, algo=tpe.suggest, max_evals=10, trials=trials)\n",
    "\n",
    "best_model = trials.results[np.argmin([r['loss'] for r in trials.results])]['model']\n",
    "best_params = trials.results[np.argmin([r['loss'] for r in trials.results])]['params']\n",
    "\n",
    "worst_model = trials.results[np.argmax([r['loss'] for r in trials.results])]['model']\n",
    "worst_params = trials.results[np.argmax([r['loss'] for r in trials.results])]['params']"
   ]
  },
  {
   "cell_type": "code",
   "execution_count": 25,
   "id": "d740b960",
   "metadata": {},
   "outputs": [
    {
     "data": {
      "text/plain": [
       "<keras.engine.sequential.Sequential at 0x247c4b916a0>"
      ]
     },
     "execution_count": 25,
     "metadata": {},
     "output_type": "execute_result"
    }
   ],
   "source": [
    "best_model"
   ]
  },
  {
   "cell_type": "code",
   "execution_count": 26,
   "id": "03ec1be9",
   "metadata": {},
   "outputs": [
    {
     "data": {
      "text/plain": [
       "{'activation1': 'sigmoid',\n",
       " 'activation2': 'relu',\n",
       " 'batch_size': 75,\n",
       " 'choice': {'layers': 'two'},\n",
       " 'dropout1': 0.2654696876692751,\n",
       " 'dropout2': 0.19483177761582668,\n",
       " 'epochs': 200,\n",
       " 'kernel1': 'glorot_uniform',\n",
       " 'kernel2': 'normal',\n",
       " 'learn': 0.02640453377018645,\n",
       " 'momentun': 0.485917692406713,\n",
       " 'optimizer': 'SGD',\n",
       " 'units1': 62.48986710845938,\n",
       " 'units2': 14.939704364263257}"
      ]
     },
     "execution_count": 26,
     "metadata": {},
     "output_type": "execute_result"
    }
   ],
   "source": [
    "best_params"
   ]
  },
  {
   "cell_type": "code",
   "execution_count": 27,
   "id": "ee6155d9",
   "metadata": {},
   "outputs": [
    {
     "data": {
      "text/plain": [
       "{'activation1': 'linear',\n",
       " 'activation2': 'relu',\n",
       " 'batch_size': 150,\n",
       " 'choice': {'layers': 'two'},\n",
       " 'dropout1': 0.27822843242058104,\n",
       " 'dropout2': 0.2770304703827432,\n",
       " 'epochs': 200,\n",
       " 'kernel1': 'normal',\n",
       " 'kernel2': 'glorot_normal',\n",
       " 'learn': 0.06384701700040496,\n",
       " 'momentun': 0.23988325191078597,\n",
       " 'optimizer': 'RMSprop',\n",
       " 'units1': 96.31109220887708,\n",
       " 'units2': 51.423603628147745}"
      ]
     },
     "execution_count": 27,
     "metadata": {},
     "output_type": "execute_result"
    }
   ],
   "source": [
    "worst_params"
   ]
  },
  {
   "cell_type": "code",
   "execution_count": null,
   "id": "c5eca3ed",
   "metadata": {},
   "outputs": [],
   "source": []
  },
  {
   "cell_type": "code",
   "execution_count": 28,
   "id": "cf9211a9",
   "metadata": {},
   "outputs": [
    {
     "data": {
      "text/plain": [
       "{'name': 'sequential_15',\n",
       " 'layers': [{'class_name': 'InputLayer',\n",
       "   'config': {'batch_input_shape': (None, 1024),\n",
       "    'dtype': 'float32',\n",
       "    'sparse': False,\n",
       "    'ragged': False,\n",
       "    'name': 'dense_21_input'}},\n",
       "  {'class_name': 'Dense',\n",
       "   'config': {'name': 'dense_21',\n",
       "    'trainable': True,\n",
       "    'batch_input_shape': (None, 1024),\n",
       "    'dtype': 'float32',\n",
       "    'units': 62,\n",
       "    'activation': 'linear',\n",
       "    'use_bias': True,\n",
       "    'kernel_initializer': {'class_name': 'GlorotUniform',\n",
       "     'config': {'seed': None}},\n",
       "    'bias_initializer': {'class_name': 'Zeros', 'config': {}},\n",
       "    'kernel_regularizer': {'class_name': 'L2',\n",
       "     'config': {'l2': 0.009999999776482582}},\n",
       "    'bias_regularizer': None,\n",
       "    'activity_regularizer': None,\n",
       "    'kernel_constraint': None,\n",
       "    'bias_constraint': None}},\n",
       "  {'class_name': 'Dropout',\n",
       "   'config': {'name': 'dropout_14',\n",
       "    'trainable': True,\n",
       "    'dtype': 'float32',\n",
       "    'rate': 0.2654696876692751,\n",
       "    'noise_shape': None,\n",
       "    'seed': None}},\n",
       "  {'class_name': 'Activation',\n",
       "   'config': {'name': 'activation_14',\n",
       "    'trainable': True,\n",
       "    'dtype': 'float32',\n",
       "    'activation': 'sigmoid'}},\n",
       "  {'class_name': 'Dense',\n",
       "   'config': {'name': 'dense_22',\n",
       "    'trainable': True,\n",
       "    'dtype': 'float32',\n",
       "    'units': 14,\n",
       "    'activation': 'linear',\n",
       "    'use_bias': True,\n",
       "    'kernel_initializer': {'class_name': 'RandomNormal',\n",
       "     'config': {'mean': 0.0, 'stddev': 0.05, 'seed': None}},\n",
       "    'bias_initializer': {'class_name': 'Zeros', 'config': {}},\n",
       "    'kernel_regularizer': None,\n",
       "    'bias_regularizer': None,\n",
       "    'activity_regularizer': None,\n",
       "    'kernel_constraint': None,\n",
       "    'bias_constraint': None}},\n",
       "  {'class_name': 'Dropout',\n",
       "   'config': {'name': 'dropout_15',\n",
       "    'trainable': True,\n",
       "    'dtype': 'float32',\n",
       "    'rate': 0.19483177761582668,\n",
       "    'noise_shape': None,\n",
       "    'seed': None}},\n",
       "  {'class_name': 'Activation',\n",
       "   'config': {'name': 'activation_15',\n",
       "    'trainable': True,\n",
       "    'dtype': 'float32',\n",
       "    'activation': 'relu'}},\n",
       "  {'class_name': 'Dense',\n",
       "   'config': {'name': 'dense_23',\n",
       "    'trainable': True,\n",
       "    'dtype': 'float32',\n",
       "    'units': 8,\n",
       "    'activation': 'linear',\n",
       "    'use_bias': True,\n",
       "    'kernel_initializer': {'class_name': 'GlorotUniform',\n",
       "     'config': {'seed': None}},\n",
       "    'bias_initializer': {'class_name': 'Zeros', 'config': {}},\n",
       "    'kernel_regularizer': None,\n",
       "    'bias_regularizer': None,\n",
       "    'activity_regularizer': None,\n",
       "    'kernel_constraint': None,\n",
       "    'bias_constraint': None}}]}"
      ]
     },
     "execution_count": 28,
     "metadata": {},
     "output_type": "execute_result"
    }
   ],
   "source": [
    "best_model.get_config()"
   ]
  },
  {
   "cell_type": "code",
   "execution_count": 29,
   "id": "ac5b5c8f",
   "metadata": {},
   "outputs": [
    {
     "name": "stdout",
     "output_type": "stream",
     "text": [
      "Model: \"sequential_15\"\n",
      "_________________________________________________________________\n",
      "Layer (type)                 Output Shape              Param #   \n",
      "=================================================================\n",
      "dense_21 (Dense)             (None, 62)                63550     \n",
      "_________________________________________________________________\n",
      "dropout_14 (Dropout)         (None, 62)                0         \n",
      "_________________________________________________________________\n",
      "activation_14 (Activation)   (None, 62)                0         \n",
      "_________________________________________________________________\n",
      "dense_22 (Dense)             (None, 14)                882       \n",
      "_________________________________________________________________\n",
      "dropout_15 (Dropout)         (None, 14)                0         \n",
      "_________________________________________________________________\n",
      "activation_15 (Activation)   (None, 14)                0         \n",
      "_________________________________________________________________\n",
      "dense_23 (Dense)             (None, 8)                 120       \n",
      "=================================================================\n",
      "Total params: 64,552\n",
      "Trainable params: 64,552\n",
      "Non-trainable params: 0\n",
      "_________________________________________________________________\n"
     ]
    }
   ],
   "source": [
    "best_model.summary()"
   ]
  },
  {
   "cell_type": "code",
   "execution_count": 30,
   "id": "a7388b97",
   "metadata": {},
   "outputs": [
    {
     "data": {
      "text/plain": [
       "[{'loss': 0.10886359959840775,\n",
       "  'status': 'ok',\n",
       "  'model': <keras.engine.sequential.Sequential at 0x246ff2f3820>,\n",
       "  'params': {'activation1': 'swish',\n",
       "   'activation2': 'relu',\n",
       "   'batch_size': 175,\n",
       "   'choice': {'layers': 'two'},\n",
       "   'dropout1': 0.19416762738382926,\n",
       "   'dropout2': 0.02541842346659238,\n",
       "   'epochs': 200,\n",
       "   'kernel1': 'zero',\n",
       "   'kernel2': 'uniform',\n",
       "   'learn': 0.013904367785872618,\n",
       "   'momentun': 0.8383557582853876,\n",
       "   'optimizer': 'Adagrad',\n",
       "   'units1': 85.06633449481355,\n",
       "   'units2': 50.412127464570666}},\n",
       " {'loss': 0.17503714561462402,\n",
       "  'status': 'ok',\n",
       "  'model': <keras.engine.sequential.Sequential at 0x246ff2f3760>,\n",
       "  'params': {'activation1': 'relu',\n",
       "   'activation2': 'softmax',\n",
       "   'batch_size': 175,\n",
       "   'choice': {'layers': 'two'},\n",
       "   'dropout1': 0.04510136485202499,\n",
       "   'dropout2': 0.4566294357745887,\n",
       "   'epochs': 200,\n",
       "   'kernel1': 'glorot_normal',\n",
       "   'kernel2': 'normal',\n",
       "   'learn': 0.07201322892687506,\n",
       "   'momentun': 0.27932184273219995,\n",
       "   'optimizer': 'Adam',\n",
       "   'units1': 72.83310163965245,\n",
       "   'units2': 56.98046437147105}},\n",
       " {'loss': 0.10895341634750366,\n",
       "  'status': 'ok',\n",
       "  'model': <keras.engine.sequential.Sequential at 0x246fe2291c0>,\n",
       "  'params': {'activation1': 'tanh',\n",
       "   'activation2': 'leaky_relu',\n",
       "   'batch_size': 75,\n",
       "   'choice': {'layers': 'two'},\n",
       "   'dropout1': 0.34215931035712555,\n",
       "   'dropout2': 0.2461301372846511,\n",
       "   'epochs': 200,\n",
       "   'kernel1': 'normal',\n",
       "   'kernel2': 'normal',\n",
       "   'learn': 0.030154093141595822,\n",
       "   'momentun': 0.5014078457343445,\n",
       "   'optimizer': 'Adamax',\n",
       "   'units1': 50.309022132836645,\n",
       "   'units2': 11.546147524506967}},\n",
       " {'loss': 0.7721126675605774,\n",
       "  'status': 'ok',\n",
       "  'model': <keras.engine.sequential.Sequential at 0x247d8268fd0>,\n",
       "  'params': {'activation1': 'softmax',\n",
       "   'activation2': 'relu',\n",
       "   'batch_size': 125,\n",
       "   'choice': {'layers': 'two'},\n",
       "   'dropout1': 0.2303368605079346,\n",
       "   'dropout2': 0.17155171889356,\n",
       "   'epochs': 200,\n",
       "   'kernel1': 'he_normal',\n",
       "   'kernel2': 'lecun_uniform',\n",
       "   'learn': 0.05422458534573331,\n",
       "   'momentun': 0.6758062602116709,\n",
       "   'optimizer': 'RMSprop',\n",
       "   'units1': 88.09492093116044,\n",
       "   'units2': 78.52361224845517}},\n",
       " {'loss': 1.1110304594039917,\n",
       "  'status': 'ok',\n",
       "  'model': <keras.engine.sequential.Sequential at 0x247c2af1c40>,\n",
       "  'params': {'activation1': 'linear',\n",
       "   'activation2': 'relu',\n",
       "   'batch_size': 150,\n",
       "   'choice': {'layers': 'two'},\n",
       "   'dropout1': 0.27822843242058104,\n",
       "   'dropout2': 0.2770304703827432,\n",
       "   'epochs': 200,\n",
       "   'kernel1': 'normal',\n",
       "   'kernel2': 'glorot_normal',\n",
       "   'learn': 0.06384701700040496,\n",
       "   'momentun': 0.23988325191078597,\n",
       "   'optimizer': 'RMSprop',\n",
       "   'units1': 96.31109220887708,\n",
       "   'units2': 51.423603628147745}},\n",
       " {'loss': 0.10886629670858383,\n",
       "  'status': 'ok',\n",
       "  'model': <keras.engine.sequential.Sequential at 0x247c2f1d070>,\n",
       "  'params': {'activation1': 'elu',\n",
       "   'activation2': 'tanh',\n",
       "   'batch_size': 150,\n",
       "   'choice': {'layers': 'two'},\n",
       "   'dropout1': 0.29392305118347306,\n",
       "   'dropout2': 0.4542451000362325,\n",
       "   'epochs': 200,\n",
       "   'kernel1': 'normal',\n",
       "   'kernel2': 'lecun_uniform',\n",
       "   'learn': 0.03385432760113392,\n",
       "   'momentun': 0.38598209070613076,\n",
       "   'optimizer': 'Adadelta',\n",
       "   'units1': 78.75933967391606,\n",
       "   'units2': 13.042587884046938}},\n",
       " {'loss': 0.10892005264759064,\n",
       "  'status': 'ok',\n",
       "  'model': <keras.engine.sequential.Sequential at 0x247c2b19820>,\n",
       "  'params': {'activation1': 'tanh',\n",
       "   'activation2': 'leaky_relu',\n",
       "   'batch_size': 125,\n",
       "   'choice': {'layers': 'two'},\n",
       "   'dropout1': 0.4947732698343197,\n",
       "   'dropout2': 0.23062893240460045,\n",
       "   'epochs': 200,\n",
       "   'kernel1': 'glorot_uniform',\n",
       "   'kernel2': 'zero',\n",
       "   'learn': 0.018538614002468194,\n",
       "   'momentun': 0.8246459523293797,\n",
       "   'optimizer': 'Adam',\n",
       "   'units1': 26.636059366024618,\n",
       "   'units2': 19.803967118326945}},\n",
       " {'loss': 0.10883070528507233,\n",
       "  'status': 'ok',\n",
       "  'model': <keras.engine.sequential.Sequential at 0x247c4b916a0>,\n",
       "  'params': {'activation1': 'sigmoid',\n",
       "   'activation2': 'relu',\n",
       "   'batch_size': 75,\n",
       "   'choice': {'layers': 'two'},\n",
       "   'dropout1': 0.2654696876692751,\n",
       "   'dropout2': 0.19483177761582668,\n",
       "   'epochs': 200,\n",
       "   'kernel1': 'glorot_uniform',\n",
       "   'kernel2': 'normal',\n",
       "   'learn': 0.02640453377018645,\n",
       "   'momentun': 0.485917692406713,\n",
       "   'optimizer': 'SGD',\n",
       "   'units1': 62.48986710845938,\n",
       "   'units2': 14.939704364263257}},\n",
       " {'loss': 0.32531464099884033,\n",
       "  'status': 'ok',\n",
       "  'model': <keras.engine.sequential.Sequential at 0x247c4fde520>,\n",
       "  'params': {'activation1': 'leaky_relu',\n",
       "   'activation2': 'tanh',\n",
       "   'batch_size': 150,\n",
       "   'choice': {'layers': 'two'},\n",
       "   'dropout1': 0.39000820718988816,\n",
       "   'dropout2': 0.269333476380578,\n",
       "   'epochs': 200,\n",
       "   'kernel1': 'glorot_normal',\n",
       "   'kernel2': 'uniform',\n",
       "   'learn': 0.07547196502273992,\n",
       "   'momentun': 0.6489651949267393,\n",
       "   'optimizer': 'Nadam',\n",
       "   'units1': 55.5361330113003,\n",
       "   'units2': 92.12877690779402}},\n",
       " {'loss': 0.5720084309577942,\n",
       "  'status': 'ok',\n",
       "  'model': <keras.engine.sequential.Sequential at 0x247c35f4b80>,\n",
       "  'params': {'activation1': 'softsign',\n",
       "   'activation2': 'swish',\n",
       "   'batch_size': 75,\n",
       "   'choice': {'layers': 'two'},\n",
       "   'dropout1': 0.1561861490621271,\n",
       "   'dropout2': 0.2814414022582346,\n",
       "   'epochs': 200,\n",
       "   'kernel1': 'lecun_uniform',\n",
       "   'kernel2': 'glorot_uniform',\n",
       "   'learn': 0.04955437549782835,\n",
       "   'momentun': 0.46873987217011615,\n",
       "   'optimizer': 'RMSprop',\n",
       "   'units1': 76.76778858792288,\n",
       "   'units2': 36.24266622040409}}]"
      ]
     },
     "execution_count": 30,
     "metadata": {},
     "output_type": "execute_result"
    }
   ],
   "source": [
    "trials.results"
   ]
  },
  {
   "cell_type": "code",
   "execution_count": null,
   "id": "0b5cf71b",
   "metadata": {},
   "outputs": [],
   "source": []
  },
  {
   "cell_type": "code",
   "execution_count": null,
   "id": "b38c0643",
   "metadata": {},
   "outputs": [],
   "source": []
  }
 ],
 "metadata": {
  "interpreter": {
   "hash": "5b3daf717ab389b8c7721c430ef766f802d2a0bf1f220b2835fb1b9c99458c1a"
  },
  "kernelspec": {
   "display_name": "Python 3.9.7 ('py2')",
   "language": "python",
   "name": "python3"
  },
  "language_info": {
   "codemirror_mode": {
    "name": "ipython",
    "version": 3
   },
   "file_extension": ".py",
   "mimetype": "text/x-python",
   "name": "python",
   "nbconvert_exporter": "python",
   "pygments_lexer": "ipython3",
   "version": "3.9.7"
  }
 },
 "nbformat": 4,
 "nbformat_minor": 5
}
