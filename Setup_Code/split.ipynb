{
 "cells": [
  {
   "cell_type": "code",
   "execution_count": 1,
   "id": "b0490114",
   "metadata": {},
   "outputs": [
    {
     "name": "stdout",
     "output_type": "stream",
     "text": [
      "144244443\n"
     ]
    }
   ],
   "source": [
    "print(144244443)"
   ]
  },
  {
   "cell_type": "code",
   "execution_count": 12,
   "id": "d311f79d",
   "metadata": {},
   "outputs": [
    {
     "name": "stdout",
     "output_type": "stream",
     "text": [
      "Total images:  4330\n",
      "Training:  3897\n",
      "Testing:  866\n",
      "Val:  0\n"
     ]
    }
   ],
   "source": [
    "import os\n",
    "import numpy as np\n",
    "import shutil\n",
    "import random\n",
    "root_dir = 'D:/save/detect/anger' \n",
    "test_ratio = 0.1\n",
    "val_ratio = 0.1\n",
    "photo_number = len(allFileNames)\n",
    "split_val = int(photo_number * (1 - 0.1))\n",
    "split_test = int(photo_number * (1 - 0.1))\n",
    "\n",
    "\n",
    "# Creating partitions of the data after shuffeling\n",
    "src = root_dir # Folder to copy images from\n",
    "\n",
    "allFileNames = os.listdir(src)\n",
    "np.random.shuffle(allFileNames)\n",
    "train_FileNames,val_FileNames , test_FileNames = np.split(np.array(allFileNames),\n",
    "                                                          [split_val, split_test])\n",
    "\n",
    "train_FileNames = [src+'/'+ name for name in train_FileNames.tolist()]\n",
    "val_FileNames = [src+'/' + name for name in val_FileNames.tolist()]\n",
    "test_FileNames = [src+'/' + name for name in test_FileNames.tolist()]\n",
    "\n",
    "print('Total images: ', len(allFileNames))\n",
    "print('Training: ', len(train_FileNames))\n",
    "print('Testing: ', len(test_FileNames))\n",
    "print('Val: ', len(val_FileNames))\n",
    "\n",
    "\n",
    "# Copy-pasting images\n",
    "for name in train_FileNames:\n",
    "    shutil.copy(name, 'D:/save/split/anger/train')\n",
    "for name in test_FileNames:\n",
    "    shutil.copy(name,'D:/save/split/anger/test')\n",
    "    \n",
    "for name in val_FileNames:\n",
    "    shutil.copy(name,'D:/save/split/anger/validate')\n"
   ]
  },
  {
   "cell_type": "code",
   "execution_count": 9,
   "id": "ce9ed9c7",
   "metadata": {},
   "outputs": [
    {
     "name": "stderr",
     "output_type": "stream",
     "text": [
      "Copying files: 22727 files [01:14, 306.12 files/s]\n"
     ]
    }
   ],
   "source": [
    "import splitfolders  # or import split_folders\n",
    "\n",
    "input_folder = 'D:/Class/CN240/NEW_DATA/SAVE/detect/'\n",
    "splitfolders.ratio(input_folder, output=\"D:/Class/CN240/NEW_DATA/SAVE/split/\", \n",
    "                   seed=42, ratio=(.8, .1, .1), \n",
    "                   group_prefix=None) "
   ]
  }
 ],
 "metadata": {
  "kernelspec": {
   "display_name": "Python 3 (ipykernel)",
   "language": "python",
   "name": "python3"
  },
  "language_info": {
   "codemirror_mode": {
    "name": "ipython",
    "version": 3
   },
   "file_extension": ".py",
   "mimetype": "text/x-python",
   "name": "python",
   "nbconvert_exporter": "python",
   "pygments_lexer": "ipython3",
   "version": "3.10.2"
  }
 },
 "nbformat": 4,
 "nbformat_minor": 5
}
