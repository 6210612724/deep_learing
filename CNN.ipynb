{
 "cells": [
  {
   "cell_type": "code",
   "execution_count": 2,
   "metadata": {},
   "outputs": [
    {
     "name": "stdout",
     "output_type": "stream",
     "text": [
      "[PhysicalDevice(name='/physical_device:CPU:0', device_type='CPU'), PhysicalDevice(name='/physical_device:GPU:0', device_type='GPU')]\n"
     ]
    },
    {
     "data": {
      "text/plain": [
       "[PhysicalDevice(name='/physical_device:CPU:0', device_type='CPU'),\n",
       " PhysicalDevice(name='/physical_device:GPU:0', device_type='GPU')]"
      ]
     },
     "execution_count": 2,
     "metadata": {},
     "output_type": "execute_result"
    }
   ],
   "source": [
    "import tensorflow as tf\n",
    "print(tf.config.list_physical_devices())\n",
    "tf.config.experimental.list_physical_devices()"
   ]
  },
  {
   "cell_type": "code",
   "execution_count": 3,
   "metadata": {
    "id": "3G-M61LPnuRB"
   },
   "outputs": [],
   "source": [
    "# smallvggnet.py\n",
    "\n",
    "# import the necessary packages\n",
    "import keras\n",
    "from keras.models import Sequential\n",
    "from tensorflow.keras.layers import BatchNormalization\n",
    "from keras.layers.convolutional import Conv2D\n",
    "from keras.layers.convolutional import MaxPooling2D\n",
    "from keras.layers.core import Activation\n",
    "from keras.layers.core import Flatten\n",
    "from keras.layers.core import Dropout\n",
    "from keras.layers.core import Dense\n",
    "from keras import backend as K\n",
    "import time \n",
    "# define our SmallVGGNet class and the build method\n",
    "# Should I use \"ELU\" for hidden layer as better for image classification?\n",
    "class SmallVGGNet:\n",
    "    @staticmethod\n",
    "    def build(width, height, depth, classes):\n",
    "        # initialize the model along with the input shape to be \"channels last\" and the channels dimension/depth itself\n",
    "        model = Sequential()   # (i.e. TensorFlow ordering)\n",
    "        inputShape = (height, width, depth)\n",
    "        chanDim = -1\n",
    "\n",
    "        # if we are using \"channels first\", update the input shape and channels dimension\n",
    "        if K.image_data_format() == \"channels_first\":   # (i.e. Theano ordering)\n",
    "            inputShape = (depth, height, width)\n",
    "            chanDim = 1\n",
    "\n",
    "        # CONV => RELU => POOL layer set              # first CONV layer has 32 filters of size 3x3\n",
    "        model.add(Conv2D(32, (3, 3), padding=\"same\", input_shape=inputShape))\n",
    "        model.add(Activation(\"relu\"))                 # ReLU (Rectified Linear Unit) activation function\n",
    "        model.add(BatchNormalization(axis=chanDim))   # normalize activations of input volume before passing to next layer\n",
    "        model.add(MaxPooling2D(pool_size=(2, 2)))     # progressively reduce spatial size (width and height) of input \n",
    "        model.add(Dropout(0.25))                      # disconnecting random neurons between layers, reduce overfitting\n",
    "\n",
    "        # (CONV => RELU) * 2 => POOL layer set          # filter dimensions remain the same (3x3)\n",
    "        model.add(Conv2D(64, (3, 3), padding=\"same\"))   # increase total number of filters learned (from 32 to 64)\n",
    "        model.add(Activation(\"relu\"))\n",
    "        model.add(BatchNormalization(axis=chanDim))\n",
    "        model.add(Conv2D(64, (3, 3), padding=\"same\"))\n",
    "        model.add(Activation(\"relu\"))\n",
    "        model.add(BatchNormalization(axis=chanDim))\n",
    "        model.add(MaxPooling2D(pool_size=(2, 2)))\n",
    "        model.add(Dropout(0.25))\n",
    "\n",
    "        # (CONV => RELU) * 3 => POOL layer set\n",
    "        model.add(Conv2D(128, (3, 3), padding=\"same\"))   # total number of filters learned by CONV layers has doubled (128)\n",
    "        model.add(Activation(\"relu\"))\n",
    "        model.add(BatchNormalization(axis=chanDim))\n",
    "        model.add(Conv2D(128, (3, 3), padding=\"same\"))\n",
    "        model.add(Activation(\"relu\"))\n",
    "        model.add(BatchNormalization(axis=chanDim))\n",
    "        model.add(Conv2D(128, (3, 3), padding=\"same\"))\n",
    "        model.add(Activation(\"relu\"))\n",
    "        model.add(BatchNormalization(axis=chanDim))\n",
    "        model.add(MaxPooling2D(pool_size=(2, 2)))\n",
    "        model.add(Dropout(0.25))\n",
    "\n",
    "        # first (and only) set of fully connected layer (FC) => RELU layers\n",
    "        model.add(Flatten())\n",
    "        model.add(Dense(512))\n",
    "        model.add(Activation(\"relu\"))\n",
    "        model.add(BatchNormalization())\n",
    "        model.add(Dropout(0.5))\n",
    "\n",
    "        # softmax classifier\n",
    "        model.add(Dense(classes))\n",
    "        model.add(Activation(\"softmax\"))\n",
    "\n",
    "        # return the constructed network architecture\n",
    "        return model"
   ]
  },
  {
   "cell_type": "code",
   "execution_count": 4,
   "metadata": {
    "id": "nIGpoZNYnyQo"
   },
   "outputs": [],
   "source": [
    "# import the necessary packages\n",
    "# from pyimagesearch.smallvggnet import SmallVGGNet   # \"smallvggnet.py\" file is in \"pyimagesearch\" folder\n",
    "from sklearn.preprocessing import LabelBinarizer\n",
    "from sklearn.model_selection import train_test_split\n",
    "from sklearn.metrics import classification_report\n",
    "from keras.preprocessing.image import ImageDataGenerator\n",
    "from tensorflow.keras.optimizers import SGD\n",
    "from imutils import paths\n",
    "import matplotlib as plt\n",
    "import matplotlib.pyplot as plt\n",
    "%matplotlib inline\n",
    "import numpy as np\n",
    "import random\n",
    "import pickle\n",
    "import cv2\n",
    "import os\n",
    "import warnings\n",
    "warnings.filterwarnings(\"ignore\")"
   ]
  },
  {
   "cell_type": "code",
   "execution_count": 5,
   "metadata": {
    "colab": {
     "base_uri": "https://localhost:8080/",
     "height": 270
    },
    "id": "IFX4uPW4nzys",
    "outputId": "ab3364e0-f2f2-4d64-ea4c-0bcb34a9ae1f"
   },
   "outputs": [
    {
     "name": "stdout",
     "output_type": "stream",
     "text": [
      "[INFO] loading images...\n",
      "done\n"
     ]
    }
   ],
   "source": [
    "# initialize the data and labels\n",
    "print(\"[INFO] loading images...\")\n",
    "images = []\n",
    "labels = []\n",
    "\n",
    "# grab the image paths and randomly shuffle them\n",
    "imagePaths = sorted(list(paths.list_images('C:/Users/thanawin/Desktop/Deep/detect/train')))\n",
    "random.seed(42)\n",
    "random.shuffle(imagePaths)\n",
    "\n",
    "# loop over the input images\n",
    "for imagePath in imagePaths:\n",
    "    # load the image, resize it to 64x64 pixels (the required input spatial dimensions of SmallVGGNet), \n",
    "    # and store the image in the data list\n",
    "    image = cv2.imread(imagePath)\n",
    "    image = cv2.resize(image, (64, 64))   # we are not flattening our data for neural network, because it is convolutional\n",
    "    images.append(image)\n",
    "\n",
    "    # extract the class label from the image path and update the labels list\n",
    "    label = imagePath.split(os.path.sep)[-2]\n",
    "    labels.append(label)\n",
    "\n",
    "# scale the raw pixel intensities to the range [0, 1]\n",
    "images = np.array(images, dtype=\"float\") / 255.0\n",
    "labels = np.array(labels)\n",
    "\n",
    "print('done')"
   ]
  },
  {
   "cell_type": "code",
   "execution_count": 6,
   "metadata": {
    "colab": {
     "base_uri": "https://localhost:8080/",
     "height": 381
    },
    "id": "C3W-CXG8n1-0",
    "outputId": "e8fe9621-b568-491d-c6ef-378339e32eee"
   },
   "outputs": [
    {
     "data": {
      "text/plain": [
       "array(['surprise', 'anger', 'surprise', ..., 'hapiness', 'fear',\n",
       "       'surprise'], dtype='<U8')"
      ]
     },
     "execution_count": 6,
     "metadata": {},
     "output_type": "execute_result"
    }
   ],
   "source": [
    "# partition the data into 75% training and 25% validation, try 80/20 later\n",
    "(trainX, testX, trainY, testY) = train_test_split(images,labels, test_size=0.2, random_state=42)\n",
    "\n",
    "# before transformation\n",
    "trainY"
   ]
  },
  {
   "cell_type": "code",
   "execution_count": 7,
   "metadata": {
    "colab": {
     "base_uri": "https://localhost:8080/"
    },
    "id": "NzQlxGJUn3oM",
    "outputId": "93fae926-bc7d-44d8-c180-594ceb5c5097"
   },
   "outputs": [
    {
     "data": {
      "text/plain": [
       "array([[0, 0, 0, ..., 0, 0, 1],\n",
       "       [1, 0, 0, ..., 0, 0, 0],\n",
       "       [0, 0, 0, ..., 0, 0, 1],\n",
       "       ...,\n",
       "       [0, 0, 0, ..., 0, 0, 0],\n",
       "       [0, 0, 1, ..., 0, 0, 0],\n",
       "       [0, 0, 0, ..., 0, 0, 1]])"
      ]
     },
     "execution_count": 7,
     "metadata": {},
     "output_type": "execute_result"
    }
   ],
   "source": [
    "# convert the labels from integers to vectors \n",
    "# (for 2-class, binary classification you should use Keras' to_categorical function)\n",
    "lb = LabelBinarizer()\n",
    "trainY = lb.fit_transform(trainY)\n",
    "testY = lb.transform(testY)\n",
    "\n",
    "# after transformation\n",
    "trainY"
   ]
  },
  {
   "cell_type": "code",
   "execution_count": 8,
   "metadata": {
    "colab": {
     "base_uri": "https://localhost:8080/"
    },
    "id": "zpg9HhuFn6W4",
    "outputId": "9f2a741c-be95-4ad6-db3f-eb2442359b38"
   },
   "outputs": [
    {
     "name": "stdout",
     "output_type": "stream",
     "text": [
      "[INFO] training network...\n"
     ]
    }
   ],
   "source": [
    "import tensorflow as tf\n",
    "# Construct & initialize the image data generator for data augmentation\n",
    "# Image augmentation allows us to construct “additional” training data from our existing training data \n",
    "# by randomly rotating, shifting, shearing, zooming, and flipping. This is to avoid overfitting.\n",
    "aug = ImageDataGenerator(rotation_range=30, width_shift_range=0.1,\n",
    "                         height_shift_range=0.1, shear_range=0.2, zoom_range=0.2,\n",
    "                         horizontal_flip=True, fill_mode=\"nearest\")\n",
    "\n",
    "# initialize our VGG-like Convolutional Neural Network\n",
    "model = SmallVGGNet.build(width=64, height=64, depth=3, classes=len(lb.classes_))\n",
    "\n",
    "# compile & train model\n",
    "# initialize our initial learning rate, # of epochs to train for, and batch size\n",
    "INIT_LR = 0.01\n",
    "EPOCHS = 75\n",
    "BS = 32\n",
    "\n",
    "# initialize the model and optimizer (you'll want to use binary_crossentropy for 2-class classification)\n",
    "print(\"[INFO] training network...\")\n",
    "opt = SGD(lr=INIT_LR, decay=INIT_LR / EPOCHS)\n",
    "model.compile(loss=\"categorical_crossentropy\", optimizer=opt, metrics=[\"accuracy\"])\n",
    "\n"
   ]
  },
  {
   "cell_type": "code",
   "execution_count": 9,
   "metadata": {
    "colab": {
     "base_uri": "https://localhost:8080/"
    },
    "id": "lPlnTOQ_oBG0",
    "outputId": "909a404b-b067-4f25-cafd-7943c4885965"
   },
   "outputs": [
    {
     "name": "stdout",
     "output_type": "stream",
     "text": [
      "Model: \"sequential\"\n",
      "_________________________________________________________________\n",
      "Layer (type)                 Output Shape              Param #   \n",
      "=================================================================\n",
      "conv2d (Conv2D)              (None, 64, 64, 32)        896       \n",
      "_________________________________________________________________\n",
      "activation (Activation)      (None, 64, 64, 32)        0         \n",
      "_________________________________________________________________\n",
      "batch_normalization (BatchNo (None, 64, 64, 32)        128       \n",
      "_________________________________________________________________\n",
      "max_pooling2d (MaxPooling2D) (None, 32, 32, 32)        0         \n",
      "_________________________________________________________________\n",
      "dropout (Dropout)            (None, 32, 32, 32)        0         \n",
      "_________________________________________________________________\n",
      "conv2d_1 (Conv2D)            (None, 32, 32, 64)        18496     \n",
      "_________________________________________________________________\n",
      "activation_1 (Activation)    (None, 32, 32, 64)        0         \n",
      "_________________________________________________________________\n",
      "batch_normalization_1 (Batch (None, 32, 32, 64)        256       \n",
      "_________________________________________________________________\n",
      "conv2d_2 (Conv2D)            (None, 32, 32, 64)        36928     \n",
      "_________________________________________________________________\n",
      "activation_2 (Activation)    (None, 32, 32, 64)        0         \n",
      "_________________________________________________________________\n",
      "batch_normalization_2 (Batch (None, 32, 32, 64)        256       \n",
      "_________________________________________________________________\n",
      "max_pooling2d_1 (MaxPooling2 (None, 16, 16, 64)        0         \n",
      "_________________________________________________________________\n",
      "dropout_1 (Dropout)          (None, 16, 16, 64)        0         \n",
      "_________________________________________________________________\n",
      "conv2d_3 (Conv2D)            (None, 16, 16, 128)       73856     \n",
      "_________________________________________________________________\n",
      "activation_3 (Activation)    (None, 16, 16, 128)       0         \n",
      "_________________________________________________________________\n",
      "batch_normalization_3 (Batch (None, 16, 16, 128)       512       \n",
      "_________________________________________________________________\n",
      "conv2d_4 (Conv2D)            (None, 16, 16, 128)       147584    \n",
      "_________________________________________________________________\n",
      "activation_4 (Activation)    (None, 16, 16, 128)       0         \n",
      "_________________________________________________________________\n",
      "batch_normalization_4 (Batch (None, 16, 16, 128)       512       \n",
      "_________________________________________________________________\n",
      "conv2d_5 (Conv2D)            (None, 16, 16, 128)       147584    \n",
      "_________________________________________________________________\n",
      "activation_5 (Activation)    (None, 16, 16, 128)       0         \n",
      "_________________________________________________________________\n",
      "batch_normalization_5 (Batch (None, 16, 16, 128)       512       \n",
      "_________________________________________________________________\n",
      "max_pooling2d_2 (MaxPooling2 (None, 8, 8, 128)         0         \n",
      "_________________________________________________________________\n",
      "dropout_2 (Dropout)          (None, 8, 8, 128)         0         \n",
      "_________________________________________________________________\n",
      "flatten (Flatten)            (None, 8192)              0         \n",
      "_________________________________________________________________\n",
      "dense (Dense)                (None, 512)               4194816   \n",
      "_________________________________________________________________\n",
      "activation_6 (Activation)    (None, 512)               0         \n",
      "_________________________________________________________________\n",
      "batch_normalization_6 (Batch (None, 512)               2048      \n",
      "_________________________________________________________________\n",
      "dropout_3 (Dropout)          (None, 512)               0         \n",
      "_________________________________________________________________\n",
      "dense_1 (Dense)              (None, 7)                 3591      \n",
      "_________________________________________________________________\n",
      "activation_7 (Activation)    (None, 7)                 0         \n",
      "=================================================================\n",
      "Total params: 4,627,975\n",
      "Trainable params: 4,625,863\n",
      "Non-trainable params: 2,112\n",
      "_________________________________________________________________\n"
     ]
    }
   ],
   "source": [
    "model.summary()"
   ]
  },
  {
   "cell_type": "code",
   "execution_count": 10,
   "metadata": {
    "colab": {
     "base_uri": "https://localhost:8080/",
     "height": 415
    },
    "id": "AQVp11Sxn9_U",
    "outputId": "021ce845-3ec3-4c87-e889-1856164247bf"
   },
   "outputs": [
    {
     "name": "stdout",
     "output_type": "stream",
     "text": [
      "Epoch 1/75\n",
      "511/511 [==============================] - 41s 37ms/step - loss: 2.2436 - accuracy: 0.2534 - val_loss: 2.0548 - val_accuracy: 0.2601\n",
      "Epoch 2/75\n",
      "511/511 [==============================] - 18s 36ms/step - loss: 1.7723 - accuracy: 0.3255 - val_loss: 1.6090 - val_accuracy: 0.3843\n",
      "Epoch 3/75\n",
      "511/511 [==============================] - 18s 35ms/step - loss: 1.6437 - accuracy: 0.3654 - val_loss: 1.4597 - val_accuracy: 0.4468\n",
      "Epoch 4/75\n",
      "511/511 [==============================] - 18s 35ms/step - loss: 1.5752 - accuracy: 0.3971 - val_loss: 1.4510 - val_accuracy: 0.4520\n",
      "Epoch 5/75\n",
      "511/511 [==============================] - 18s 35ms/step - loss: 1.5250 - accuracy: 0.4124 - val_loss: 1.3956 - val_accuracy: 0.4833\n",
      "Epoch 6/75\n",
      "511/511 [==============================] - 18s 35ms/step - loss: 1.4827 - accuracy: 0.4255 - val_loss: 1.2946 - val_accuracy: 0.5045\n",
      "Epoch 7/75\n",
      "511/511 [==============================] - 18s 35ms/step - loss: 1.4491 - accuracy: 0.4455 - val_loss: 1.2818 - val_accuracy: 0.5187\n",
      "Epoch 8/75\n",
      "511/511 [==============================] - 18s 35ms/step - loss: 1.4037 - accuracy: 0.4636 - val_loss: 1.2127 - val_accuracy: 0.5392\n",
      "Epoch 9/75\n",
      "511/511 [==============================] - 18s 35ms/step - loss: 1.3884 - accuracy: 0.4742 - val_loss: 1.1602 - val_accuracy: 0.5615\n",
      "Epoch 10/75\n",
      "511/511 [==============================] - 18s 34ms/step - loss: 1.3757 - accuracy: 0.4772 - val_loss: 1.2169 - val_accuracy: 0.5383\n",
      "Epoch 11/75\n",
      "511/511 [==============================] - 18s 35ms/step - loss: 1.3402 - accuracy: 0.4917 - val_loss: 1.2605 - val_accuracy: 0.5343\n",
      "Epoch 12/75\n",
      "511/511 [==============================] - 20s 38ms/step - loss: 1.3235 - accuracy: 0.4988 - val_loss: 1.1082 - val_accuracy: 0.5835\n",
      "Epoch 13/75\n",
      "511/511 [==============================] - 18s 36ms/step - loss: 1.3031 - accuracy: 0.5077 - val_loss: 1.0759 - val_accuracy: 0.5940\n",
      "Epoch 14/75\n",
      "511/511 [==============================] - 18s 35ms/step - loss: 1.2948 - accuracy: 0.5129 - val_loss: 1.1146 - val_accuracy: 0.5769\n",
      "Epoch 15/75\n",
      "511/511 [==============================] - 19s 37ms/step - loss: 1.2680 - accuracy: 0.5187 - val_loss: 1.0743 - val_accuracy: 0.5906\n",
      "Epoch 16/75\n",
      "511/511 [==============================] - 18s 36ms/step - loss: 1.2601 - accuracy: 0.5254 - val_loss: 1.1154 - val_accuracy: 0.5761\n",
      "Epoch 17/75\n",
      "511/511 [==============================] - 18s 36ms/step - loss: 1.2522 - accuracy: 0.5290 - val_loss: 1.2127 - val_accuracy: 0.5510\n",
      "Epoch 18/75\n",
      "511/511 [==============================] - 18s 36ms/step - loss: 1.2360 - accuracy: 0.5369 - val_loss: 1.0486 - val_accuracy: 0.5984\n",
      "Epoch 19/75\n",
      "511/511 [==============================] - 18s 36ms/step - loss: 1.2374 - accuracy: 0.5328 - val_loss: 1.1926 - val_accuracy: 0.5449\n",
      "Epoch 20/75\n",
      "511/511 [==============================] - 18s 36ms/step - loss: 1.2243 - accuracy: 0.5410 - val_loss: 1.0482 - val_accuracy: 0.6043\n",
      "Epoch 21/75\n",
      "511/511 [==============================] - 18s 35ms/step - loss: 1.2081 - accuracy: 0.5406 - val_loss: 1.1685 - val_accuracy: 0.5713\n",
      "Epoch 22/75\n",
      "511/511 [==============================] - 18s 36ms/step - loss: 1.1937 - accuracy: 0.5505 - val_loss: 1.0218 - val_accuracy: 0.6109\n",
      "Epoch 23/75\n",
      "511/511 [==============================] - 18s 35ms/step - loss: 1.1959 - accuracy: 0.5517 - val_loss: 1.0207 - val_accuracy: 0.6094\n",
      "Epoch 24/75\n",
      "511/511 [==============================] - 18s 35ms/step - loss: 1.1790 - accuracy: 0.5531 - val_loss: 1.0210 - val_accuracy: 0.6052\n",
      "Epoch 25/75\n",
      "511/511 [==============================] - 18s 36ms/step - loss: 1.1748 - accuracy: 0.5584 - val_loss: 1.0263 - val_accuracy: 0.6138\n",
      "Epoch 26/75\n",
      "511/511 [==============================] - 18s 36ms/step - loss: 1.1566 - accuracy: 0.5630 - val_loss: 0.9651 - val_accuracy: 0.6355\n",
      "Epoch 27/75\n",
      "511/511 [==============================] - 18s 35ms/step - loss: 1.1546 - accuracy: 0.5646 - val_loss: 1.1898 - val_accuracy: 0.5788\n",
      "Epoch 28/75\n",
      "511/511 [==============================] - 19s 37ms/step - loss: 1.1500 - accuracy: 0.5676 - val_loss: 0.9170 - val_accuracy: 0.6571\n",
      "Epoch 29/75\n",
      "511/511 [==============================] - 18s 36ms/step - loss: 1.1417 - accuracy: 0.5687 - val_loss: 1.1714 - val_accuracy: 0.5813\n",
      "Epoch 30/75\n",
      "511/511 [==============================] - 18s 36ms/step - loss: 1.1404 - accuracy: 0.5689 - val_loss: 0.9588 - val_accuracy: 0.6331\n",
      "Epoch 31/75\n",
      "511/511 [==============================] - 18s 35ms/step - loss: 1.1237 - accuracy: 0.5753 - val_loss: 0.9793 - val_accuracy: 0.6324\n",
      "Epoch 32/75\n",
      "511/511 [==============================] - 18s 35ms/step - loss: 1.1269 - accuracy: 0.5807 - val_loss: 0.9237 - val_accuracy: 0.6490\n",
      "\n",
      "Epoch 00032: ReduceLROnPlateau reducing learning rate to 0.004999999888241291.\n",
      "Epoch 33/75\n",
      "511/511 [==============================] - 18s 36ms/step - loss: 1.1111 - accuracy: 0.5815 - val_loss: 1.0484 - val_accuracy: 0.5991\n",
      "Epoch 34/75\n",
      "511/511 [==============================] - 18s 35ms/step - loss: 1.1035 - accuracy: 0.5843 - val_loss: 0.8931 - val_accuracy: 0.6617\n",
      "Epoch 35/75\n",
      "511/511 [==============================] - 18s 36ms/step - loss: 1.1015 - accuracy: 0.5865 - val_loss: 0.9422 - val_accuracy: 0.6571\n",
      "Epoch 36/75\n",
      "511/511 [==============================] - 18s 36ms/step - loss: 1.0945 - accuracy: 0.5926 - val_loss: 0.8974 - val_accuracy: 0.6661\n",
      "Epoch 37/75\n",
      "511/511 [==============================] - 18s 36ms/step - loss: 1.0859 - accuracy: 0.5941 - val_loss: 1.0613 - val_accuracy: 0.6150\n",
      "Epoch 38/75\n",
      "511/511 [==============================] - 18s 35ms/step - loss: 1.0873 - accuracy: 0.5906 - val_loss: 0.8796 - val_accuracy: 0.6627\n",
      "Epoch 39/75\n",
      "511/511 [==============================] - 18s 35ms/step - loss: 1.0916 - accuracy: 0.5911 - val_loss: 0.9064 - val_accuracy: 0.6619\n",
      "Epoch 40/75\n",
      "511/511 [==============================] - 18s 36ms/step - loss: 1.0794 - accuracy: 0.5960 - val_loss: 0.9574 - val_accuracy: 0.6358\n",
      "Epoch 41/75\n",
      "511/511 [==============================] - 18s 35ms/step - loss: 1.0785 - accuracy: 0.5946 - val_loss: 0.9139 - val_accuracy: 0.6605\n",
      "Epoch 42/75\n",
      "511/511 [==============================] - 18s 36ms/step - loss: 1.0805 - accuracy: 0.5936 - val_loss: 0.8757 - val_accuracy: 0.6725\n",
      "Epoch 43/75\n",
      "511/511 [==============================] - 18s 35ms/step - loss: 1.0811 - accuracy: 0.5933 - val_loss: 0.9016 - val_accuracy: 0.6573\n",
      "Epoch 44/75\n",
      "511/511 [==============================] - 18s 36ms/step - loss: 1.0682 - accuracy: 0.6021 - val_loss: 0.9093 - val_accuracy: 0.6624\n",
      "Epoch 45/75\n",
      "511/511 [==============================] - 18s 36ms/step - loss: 1.0731 - accuracy: 0.6033 - val_loss: 0.9309 - val_accuracy: 0.6544\n",
      "Epoch 46/75\n",
      "511/511 [==============================] - 18s 36ms/step - loss: 1.0642 - accuracy: 0.6040 - val_loss: 0.9649 - val_accuracy: 0.6492\n",
      "\n",
      "Epoch 00046: ReduceLROnPlateau reducing learning rate to 0.0024999999441206455.\n",
      "Epoch 47/75\n",
      "511/511 [==============================] - 18s 35ms/step - loss: 1.0635 - accuracy: 0.6028 - val_loss: 0.8601 - val_accuracy: 0.6783\n",
      "Epoch 48/75\n",
      "511/511 [==============================] - 18s 35ms/step - loss: 1.0700 - accuracy: 0.5973 - val_loss: 0.8950 - val_accuracy: 0.6678\n",
      "Epoch 49/75\n",
      "511/511 [==============================] - 18s 36ms/step - loss: 1.0630 - accuracy: 0.6045 - val_loss: 0.8824 - val_accuracy: 0.6710\n",
      "Epoch 50/75\n",
      "511/511 [==============================] - 18s 36ms/step - loss: 1.0688 - accuracy: 0.5998 - val_loss: 0.8474 - val_accuracy: 0.6795\n",
      "Epoch 51/75\n",
      "511/511 [==============================] - 18s 36ms/step - loss: 1.0556 - accuracy: 0.6044 - val_loss: 0.9380 - val_accuracy: 0.6541\n",
      "Epoch 52/75\n",
      "511/511 [==============================] - 18s 36ms/step - loss: 1.0614 - accuracy: 0.6062 - val_loss: 0.8906 - val_accuracy: 0.6668\n",
      "Epoch 53/75\n",
      "511/511 [==============================] - 18s 36ms/step - loss: 1.0454 - accuracy: 0.6074 - val_loss: 0.8642 - val_accuracy: 0.6666\n",
      "Epoch 54/75\n",
      "511/511 [==============================] - 18s 35ms/step - loss: 1.0537 - accuracy: 0.6051 - val_loss: 0.9024 - val_accuracy: 0.6673\n",
      "\n",
      "Epoch 00054: ReduceLROnPlateau reducing learning rate to 0.0012499999720603228.\n",
      "Epoch 55/75\n"
     ]
    },
    {
     "name": "stdout",
     "output_type": "stream",
     "text": [
      "511/511 [==============================] - 18s 35ms/step - loss: 1.0568 - accuracy: 0.6097 - val_loss: 0.8624 - val_accuracy: 0.6788\n",
      "Epoch 56/75\n",
      "511/511 [==============================] - 18s 35ms/step - loss: 1.0552 - accuracy: 0.6093 - val_loss: 0.8537 - val_accuracy: 0.6795\n",
      "Epoch 57/75\n",
      "511/511 [==============================] - 18s 35ms/step - loss: 1.0524 - accuracy: 0.6124 - val_loss: 0.8857 - val_accuracy: 0.6729\n",
      "Epoch 58/75\n",
      "511/511 [==============================] - 18s 35ms/step - loss: 1.0467 - accuracy: 0.6085 - val_loss: 0.8494 - val_accuracy: 0.6820\n",
      "\n",
      "Epoch 00058: ReduceLROnPlateau reducing learning rate to 0.0006249999860301614.\n",
      "Epoch 59/75\n",
      "511/511 [==============================] - 18s 35ms/step - loss: 1.0499 - accuracy: 0.6074 - val_loss: 0.8591 - val_accuracy: 0.6788\n",
      "Epoch 60/75\n",
      "511/511 [==============================] - 18s 35ms/step - loss: 1.0424 - accuracy: 0.6120 - val_loss: 0.8568 - val_accuracy: 0.6798\n",
      "Epoch 61/75\n",
      "511/511 [==============================] - 18s 35ms/step - loss: 1.0531 - accuracy: 0.6072 - val_loss: 0.8450 - val_accuracy: 0.6805\n",
      "Epoch 62/75\n",
      "511/511 [==============================] - 18s 35ms/step - loss: 1.0467 - accuracy: 0.6098 - val_loss: 0.8636 - val_accuracy: 0.6769\n",
      "Epoch 63/75\n",
      "511/511 [==============================] - 18s 35ms/step - loss: 1.0448 - accuracy: 0.6085 - val_loss: 0.8671 - val_accuracy: 0.6771\n",
      "Epoch 64/75\n",
      "511/511 [==============================] - 18s 35ms/step - loss: 1.0441 - accuracy: 0.6058 - val_loss: 0.8512 - val_accuracy: 0.6798\n",
      "Epoch 65/75\n",
      "511/511 [==============================] - 18s 35ms/step - loss: 1.0447 - accuracy: 0.6086 - val_loss: 0.8574 - val_accuracy: 0.6810\n",
      "\n",
      "Epoch 00065: ReduceLROnPlateau reducing learning rate to 0.0003124999930150807.\n",
      "Epoch 66/75\n",
      "511/511 [==============================] - 18s 36ms/step - loss: 1.0421 - accuracy: 0.6099 - val_loss: 0.8562 - val_accuracy: 0.6800\n",
      "Epoch 67/75\n",
      "511/511 [==============================] - 18s 35ms/step - loss: 1.0413 - accuracy: 0.6112 - val_loss: 0.8763 - val_accuracy: 0.6764\n",
      "Epoch 68/75\n",
      "511/511 [==============================] - 18s 35ms/step - loss: 1.0411 - accuracy: 0.6078 - val_loss: 0.8630 - val_accuracy: 0.6791\n",
      "Epoch 69/75\n",
      "511/511 [==============================] - 18s 35ms/step - loss: 1.0427 - accuracy: 0.6099 - val_loss: 0.8502 - val_accuracy: 0.6839\n",
      "\n",
      "Epoch 00069: ReduceLROnPlateau reducing learning rate to 0.00015624999650754035.\n",
      "Epoch 70/75\n",
      "511/511 [==============================] - 18s 35ms/step - loss: 1.0400 - accuracy: 0.6088 - val_loss: 0.8585 - val_accuracy: 0.6800\n",
      "Epoch 71/75\n",
      "511/511 [==============================] - 18s 35ms/step - loss: 1.0423 - accuracy: 0.6145 - val_loss: 0.8602 - val_accuracy: 0.6813\n",
      "Epoch 72/75\n",
      "511/511 [==============================] - 18s 35ms/step - loss: 1.0354 - accuracy: 0.6136 - val_loss: 0.8676 - val_accuracy: 0.6795\n",
      "Restoring model weights from the end of the best epoch.\n",
      "Epoch 00072: early stopping\n"
     ]
    }
   ],
   "source": [
    "# train the network\n",
    "H = model.fit_generator( aug.flow(trainX, trainY, batch_size=BS),\n",
    "                        validation_data=(testX, testY), steps_per_epoch=len(trainX) // BS, epochs=EPOCHS,\n",
    "                        callbacks=[keras.callbacks.EarlyStopping(patience=11, verbose=1, restore_best_weights=True),\n",
    "                                   keras.callbacks.ReduceLROnPlateau(factor=.5, patience=4, verbose=1)] )"
   ]
  },
  {
   "cell_type": "code",
   "execution_count": 11,
   "metadata": {
    "id": "GicBR9TXpv0X"
   },
   "outputs": [
    {
     "name": "stdout",
     "output_type": "stream",
     "text": [
      "Epoch 1/75\n",
      "512/512 [==============================] - 11s 21ms/step - loss: 0.9137 - accuracy: 0.6639 - val_loss: 0.8657 - val_accuracy: 0.6773\n",
      "Epoch 2/75\n",
      "512/512 [==============================] - 10s 20ms/step - loss: 0.9144 - accuracy: 0.6612 - val_loss: 0.8635 - val_accuracy: 0.6798\n",
      "Epoch 3/75\n",
      "512/512 [==============================] - 10s 20ms/step - loss: 0.9088 - accuracy: 0.6647 - val_loss: 0.8577 - val_accuracy: 0.6786\n",
      "Epoch 4/75\n",
      "512/512 [==============================] - 10s 20ms/step - loss: 0.9065 - accuracy: 0.6666 - val_loss: 0.8585 - val_accuracy: 0.6800\n",
      "Epoch 5/75\n",
      "512/512 [==============================] - 10s 20ms/step - loss: 0.9000 - accuracy: 0.6714 - val_loss: 0.8523 - val_accuracy: 0.6820\n",
      "Epoch 6/75\n",
      "512/512 [==============================] - 10s 20ms/step - loss: 0.9028 - accuracy: 0.6649 - val_loss: 0.8488 - val_accuracy: 0.6837\n",
      "Epoch 7/75\n",
      "512/512 [==============================] - 10s 20ms/step - loss: 0.9020 - accuracy: 0.6699 - val_loss: 0.8512 - val_accuracy: 0.6839\n",
      "Epoch 8/75\n",
      "512/512 [==============================] - 10s 20ms/step - loss: 0.9023 - accuracy: 0.6685 - val_loss: 0.8496 - val_accuracy: 0.6849\n",
      "Epoch 9/75\n",
      "512/512 [==============================] - 10s 20ms/step - loss: 0.8983 - accuracy: 0.6706 - val_loss: 0.8467 - val_accuracy: 0.6857\n",
      "Epoch 10/75\n",
      "512/512 [==============================] - 10s 20ms/step - loss: 0.8976 - accuracy: 0.6702 - val_loss: 0.8417 - val_accuracy: 0.6874\n",
      "Epoch 11/75\n",
      "512/512 [==============================] - 10s 20ms/step - loss: 0.9037 - accuracy: 0.6684 - val_loss: 0.8424 - val_accuracy: 0.6881\n",
      "Epoch 12/75\n",
      "512/512 [==============================] - 10s 20ms/step - loss: 0.8990 - accuracy: 0.6705 - val_loss: 0.8450 - val_accuracy: 0.6869\n",
      "Epoch 13/75\n",
      "512/512 [==============================] - 10s 20ms/step - loss: 0.8971 - accuracy: 0.6688 - val_loss: 0.8434 - val_accuracy: 0.6871\n",
      "Epoch 14/75\n",
      "512/512 [==============================] - 11s 21ms/step - loss: 0.8896 - accuracy: 0.6762 - val_loss: 0.8397 - val_accuracy: 0.6893\n",
      "Epoch 15/75\n",
      "512/512 [==============================] - 10s 20ms/step - loss: 0.8935 - accuracy: 0.6696 - val_loss: 0.8413 - val_accuracy: 0.6876\n",
      "Epoch 16/75\n",
      "512/512 [==============================] - 10s 20ms/step - loss: 0.8905 - accuracy: 0.6715 - val_loss: 0.8370 - val_accuracy: 0.6896\n",
      "Epoch 17/75\n",
      "512/512 [==============================] - 10s 20ms/step - loss: 0.8974 - accuracy: 0.6719 - val_loss: 0.8368 - val_accuracy: 0.6910\n",
      "Epoch 18/75\n",
      "512/512 [==============================] - 10s 20ms/step - loss: 0.9014 - accuracy: 0.6710 - val_loss: 0.8336 - val_accuracy: 0.6930\n",
      "Epoch 19/75\n",
      "512/512 [==============================] - 10s 20ms/step - loss: 0.8845 - accuracy: 0.6771 - val_loss: 0.8336 - val_accuracy: 0.6918\n",
      "Epoch 20/75\n",
      "512/512 [==============================] - 10s 20ms/step - loss: 0.8906 - accuracy: 0.6741 - val_loss: 0.8316 - val_accuracy: 0.6925\n",
      "Epoch 21/75\n",
      "512/512 [==============================] - 10s 20ms/step - loss: 0.8945 - accuracy: 0.6655 - val_loss: 0.8372 - val_accuracy: 0.6905\n",
      "Epoch 22/75\n",
      "512/512 [==============================] - 10s 20ms/step - loss: 0.8853 - accuracy: 0.6729 - val_loss: 0.8322 - val_accuracy: 0.6913\n",
      "Epoch 23/75\n",
      "512/512 [==============================] - 10s 20ms/step - loss: 0.8935 - accuracy: 0.6722 - val_loss: 0.8309 - val_accuracy: 0.6910\n",
      "Epoch 24/75\n",
      "512/512 [==============================] - 10s 20ms/step - loss: 0.8922 - accuracy: 0.6704 - val_loss: 0.8288 - val_accuracy: 0.6937\n",
      "Epoch 25/75\n",
      "512/512 [==============================] - 10s 20ms/step - loss: 0.8852 - accuracy: 0.6778 - val_loss: 0.8297 - val_accuracy: 0.6952\n",
      "Epoch 26/75\n",
      "512/512 [==============================] - 10s 20ms/step - loss: 0.8915 - accuracy: 0.6715 - val_loss: 0.8284 - val_accuracy: 0.6937\n",
      "Epoch 27/75\n",
      "512/512 [==============================] - 10s 20ms/step - loss: 0.8878 - accuracy: 0.6727 - val_loss: 0.8264 - val_accuracy: 0.6932\n",
      "Epoch 28/75\n",
      "512/512 [==============================] - 10s 20ms/step - loss: 0.8841 - accuracy: 0.6738 - val_loss: 0.8260 - val_accuracy: 0.6954\n",
      "Epoch 29/75\n",
      "512/512 [==============================] - 10s 20ms/step - loss: 0.8897 - accuracy: 0.6744 - val_loss: 0.8278 - val_accuracy: 0.6915\n",
      "Epoch 30/75\n",
      "512/512 [==============================] - 10s 20ms/step - loss: 0.8912 - accuracy: 0.6706 - val_loss: 0.8276 - val_accuracy: 0.6945\n",
      "Epoch 31/75\n",
      "512/512 [==============================] - 10s 20ms/step - loss: 0.8801 - accuracy: 0.6751 - val_loss: 0.8244 - val_accuracy: 0.6947\n",
      "Epoch 32/75\n",
      "512/512 [==============================] - 10s 20ms/step - loss: 0.8835 - accuracy: 0.6749 - val_loss: 0.8218 - val_accuracy: 0.6964\n",
      "Epoch 33/75\n",
      "512/512 [==============================] - 10s 20ms/step - loss: 0.8792 - accuracy: 0.6790 - val_loss: 0.8215 - val_accuracy: 0.6957\n",
      "Epoch 34/75\n",
      "512/512 [==============================] - 10s 20ms/step - loss: 0.8844 - accuracy: 0.6750 - val_loss: 0.8237 - val_accuracy: 0.6935\n",
      "Epoch 35/75\n",
      "512/512 [==============================] - 10s 20ms/step - loss: 0.8858 - accuracy: 0.6756 - val_loss: 0.8202 - val_accuracy: 0.6945\n",
      "Epoch 36/75\n",
      "512/512 [==============================] - 10s 20ms/step - loss: 0.8772 - accuracy: 0.6764 - val_loss: 0.8226 - val_accuracy: 0.6959\n",
      "Epoch 37/75\n",
      "512/512 [==============================] - 10s 20ms/step - loss: 0.8807 - accuracy: 0.6776 - val_loss: 0.8186 - val_accuracy: 0.6954\n",
      "Epoch 38/75\n",
      "512/512 [==============================] - 10s 20ms/step - loss: 0.8814 - accuracy: 0.6719 - val_loss: 0.8199 - val_accuracy: 0.6974\n",
      "Epoch 39/75\n",
      "512/512 [==============================] - 10s 20ms/step - loss: 0.8810 - accuracy: 0.6780 - val_loss: 0.8193 - val_accuracy: 0.6969\n",
      "Epoch 40/75\n",
      "512/512 [==============================] - 10s 20ms/step - loss: 0.8765 - accuracy: 0.6788 - val_loss: 0.8183 - val_accuracy: 0.6964\n",
      "Epoch 41/75\n",
      "512/512 [==============================] - 10s 20ms/step - loss: 0.8832 - accuracy: 0.6726 - val_loss: 0.8166 - val_accuracy: 0.6969\n",
      "Epoch 42/75\n",
      "512/512 [==============================] - 10s 20ms/step - loss: 0.8775 - accuracy: 0.6765 - val_loss: 0.8153 - val_accuracy: 0.6969\n",
      "Epoch 43/75\n",
      "512/512 [==============================] - 10s 20ms/step - loss: 0.8769 - accuracy: 0.6802 - val_loss: 0.8171 - val_accuracy: 0.6984\n",
      "Epoch 44/75\n",
      "512/512 [==============================] - 10s 20ms/step - loss: 0.8755 - accuracy: 0.6776 - val_loss: 0.8146 - val_accuracy: 0.6964\n",
      "Epoch 45/75\n",
      "512/512 [==============================] - 10s 20ms/step - loss: 0.8742 - accuracy: 0.6741 - val_loss: 0.8148 - val_accuracy: 0.6984\n",
      "Epoch 46/75\n",
      "512/512 [==============================] - 10s 20ms/step - loss: 0.8772 - accuracy: 0.6763 - val_loss: 0.8150 - val_accuracy: 0.6964\n",
      "Epoch 47/75\n",
      "512/512 [==============================] - 10s 20ms/step - loss: 0.8738 - accuracy: 0.6775 - val_loss: 0.8170 - val_accuracy: 0.6954\n",
      "Epoch 48/75\n",
      "512/512 [==============================] - 10s 20ms/step - loss: 0.8721 - accuracy: 0.6799 - val_loss: 0.8147 - val_accuracy: 0.6981\n",
      "Epoch 49/75\n",
      "512/512 [==============================] - 10s 20ms/step - loss: 0.8690 - accuracy: 0.6790 - val_loss: 0.8114 - val_accuracy: 0.6984\n",
      "Epoch 50/75\n",
      "512/512 [==============================] - 10s 20ms/step - loss: 0.8800 - accuracy: 0.6771 - val_loss: 0.8113 - val_accuracy: 0.6974\n",
      "Epoch 51/75\n",
      "512/512 [==============================] - 10s 20ms/step - loss: 0.8736 - accuracy: 0.6803 - val_loss: 0.8124 - val_accuracy: 0.6979\n",
      "Epoch 52/75\n",
      "512/512 [==============================] - 10s 20ms/step - loss: 0.8701 - accuracy: 0.6811 - val_loss: 0.8128 - val_accuracy: 0.6986\n",
      "Epoch 53/75\n",
      "512/512 [==============================] - 11s 21ms/step - loss: 0.8763 - accuracy: 0.6789 - val_loss: 0.8120 - val_accuracy: 0.6989\n",
      "Epoch 54/75\n",
      "512/512 [==============================] - 10s 20ms/step - loss: 0.8750 - accuracy: 0.6729 - val_loss: 0.8127 - val_accuracy: 0.6984\n",
      "Epoch 55/75\n",
      "512/512 [==============================] - 10s 20ms/step - loss: 0.8658 - accuracy: 0.6803 - val_loss: 0.8112 - val_accuracy: 0.6991\n",
      "Epoch 56/75\n",
      "512/512 [==============================] - 11s 21ms/step - loss: 0.8761 - accuracy: 0.6795 - val_loss: 0.8055 - val_accuracy: 0.6993\n",
      "Epoch 57/75\n"
     ]
    },
    {
     "name": "stdout",
     "output_type": "stream",
     "text": [
      "512/512 [==============================] - 11s 21ms/step - loss: 0.8697 - accuracy: 0.6809 - val_loss: 0.8135 - val_accuracy: 0.6981\n",
      "Epoch 58/75\n",
      "512/512 [==============================] - 10s 20ms/step - loss: 0.8684 - accuracy: 0.6815 - val_loss: 0.8108 - val_accuracy: 0.6984\n",
      "Epoch 59/75\n",
      "512/512 [==============================] - 10s 20ms/step - loss: 0.8763 - accuracy: 0.6768 - val_loss: 0.8095 - val_accuracy: 0.6991\n",
      "Epoch 60/75\n",
      "512/512 [==============================] - 10s 20ms/step - loss: 0.8719 - accuracy: 0.6781 - val_loss: 0.8086 - val_accuracy: 0.6991\n",
      "Epoch 61/75\n",
      "512/512 [==============================] - 10s 20ms/step - loss: 0.8733 - accuracy: 0.6796 - val_loss: 0.8066 - val_accuracy: 0.6998\n",
      "Epoch 62/75\n",
      "512/512 [==============================] - 10s 20ms/step - loss: 0.8791 - accuracy: 0.6777 - val_loss: 0.8071 - val_accuracy: 0.7003\n",
      "Epoch 63/75\n",
      "512/512 [==============================] - 10s 20ms/step - loss: 0.8689 - accuracy: 0.6796 - val_loss: 0.8080 - val_accuracy: 0.7003\n",
      "Epoch 64/75\n",
      "512/512 [==============================] - 10s 20ms/step - loss: 0.8702 - accuracy: 0.6815 - val_loss: 0.8061 - val_accuracy: 0.7003\n",
      "Epoch 65/75\n",
      "512/512 [==============================] - 11s 21ms/step - loss: 0.8653 - accuracy: 0.6800 - val_loss: 0.8065 - val_accuracy: 0.6991\n",
      "Epoch 66/75\n",
      "512/512 [==============================] - 10s 20ms/step - loss: 0.8745 - accuracy: 0.6759 - val_loss: 0.8046 - val_accuracy: 0.7015\n",
      "Epoch 67/75\n",
      "512/512 [==============================] - 11s 21ms/step - loss: 0.8755 - accuracy: 0.6802 - val_loss: 0.8056 - val_accuracy: 0.7008\n",
      "Epoch 68/75\n",
      "512/512 [==============================] - 11s 21ms/step - loss: 0.8691 - accuracy: 0.6823 - val_loss: 0.8068 - val_accuracy: 0.6991\n",
      "Epoch 69/75\n",
      "512/512 [==============================] - 10s 20ms/step - loss: 0.8740 - accuracy: 0.6790 - val_loss: 0.8050 - val_accuracy: 0.7003\n",
      "Epoch 70/75\n",
      "512/512 [==============================] - 10s 20ms/step - loss: 0.8725 - accuracy: 0.6800 - val_loss: 0.8044 - val_accuracy: 0.7003\n",
      "Epoch 71/75\n",
      "512/512 [==============================] - 10s 20ms/step - loss: 0.8729 - accuracy: 0.6779 - val_loss: 0.8019 - val_accuracy: 0.7015\n",
      "Epoch 72/75\n",
      "512/512 [==============================] - 10s 20ms/step - loss: 0.8697 - accuracy: 0.6804 - val_loss: 0.8043 - val_accuracy: 0.7003\n",
      "Epoch 73/75\n",
      "512/512 [==============================] - 10s 20ms/step - loss: 0.8663 - accuracy: 0.6808 - val_loss: 0.8002 - val_accuracy: 0.7025\n",
      "Epoch 74/75\n",
      "512/512 [==============================] - 10s 20ms/step - loss: 0.8672 - accuracy: 0.6782 - val_loss: 0.8062 - val_accuracy: 0.7011\n",
      "Epoch 75/75\n",
      "512/512 [==============================] - 10s 20ms/step - loss: 0.8713 - accuracy: 0.6785 - val_loss: 0.8034 - val_accuracy: 0.7015\n",
      "Time taken: 780.4 seconds\n"
     ]
    }
   ],
   "source": [
    "# train the neural network on training data set\n",
    "# batch_size (32) controls the size of each group of data to pass through the network. \n",
    "# Larger GPUs would be able to accommodate larger batch sizes (eg. 64)\n",
    "time1 = time.time()   # to measure time taken\n",
    "H = model.fit(trainX, trainY, validation_data=(testX, testY), epochs=EPOCHS, batch_size=BS)\n",
    "print('Time taken: {:.1f} seconds'.format(time.time() - time1))   # to measure time taken"
   ]
  },
  {
   "cell_type": "code",
   "execution_count": 12,
   "metadata": {
    "id": "xUjwrZDfoFyU"
   },
   "outputs": [
    {
     "name": "stdout",
     "output_type": "stream",
     "text": [
      "[INFO] evaluating network...\n",
      "              precision    recall  f1-score   support\n",
      "\n",
      "       anger       0.60      0.61      0.61       793\n",
      "     disgust       0.68      0.72      0.70       485\n",
      "        fear       0.64      0.32      0.42       464\n",
      "    hapiness       0.89      0.92      0.90       642\n",
      "     neutral       0.63      0.87      0.73       476\n",
      "         sad       0.62      0.53      0.57       555\n",
      "    surprise       0.79      0.88      0.83       676\n",
      "\n",
      "    accuracy                           0.70      4091\n",
      "   macro avg       0.69      0.69      0.68      4091\n",
      "weighted avg       0.70      0.70      0.69      4091\n",
      "\n"
     ]
    }
   ],
   "source": [
    "# evaluate the network\n",
    "print(\"[INFO] evaluating network...\")\n",
    "predictions = model.predict(testX, batch_size=32)\n",
    "print(classification_report(testY.argmax(axis=1), predictions.argmax(axis=1), target_names=lb.classes_))"
   ]
  },
  {
   "cell_type": "code",
   "execution_count": 13,
   "metadata": {
    "id": "I1VYqExsoOMA",
    "scrolled": true
   },
   "outputs": [
    {
     "ename": "ValueError",
     "evalue": "Classification metrics can't handle a mix of multilabel-indicator and continuous-multioutput targets",
     "output_type": "error",
     "traceback": [
      "\u001b[1;31m---------------------------------------------------------------------------\u001b[0m",
      "\u001b[1;31mValueError\u001b[0m                                Traceback (most recent call last)",
      "Input \u001b[1;32mIn [13]\u001b[0m, in \u001b[0;36m<cell line: 2>\u001b[1;34m()\u001b[0m\n\u001b[0;32m      1\u001b[0m \u001b[38;5;28;01mfrom\u001b[39;00m \u001b[38;5;21;01msklearn\u001b[39;00m\u001b[38;5;21;01m.\u001b[39;00m\u001b[38;5;21;01mmetrics\u001b[39;00m \u001b[38;5;28;01mimport\u001b[39;00m confusion_matrix\n\u001b[1;32m----> 2\u001b[0m cm \u001b[38;5;241m=\u001b[39m \u001b[43mconfusion_matrix\u001b[49m\u001b[43m(\u001b[49m\u001b[43mtestY\u001b[49m\u001b[43m,\u001b[49m\u001b[43m \u001b[49m\u001b[43mpredictions\u001b[49m\u001b[43m)\u001b[49m\n",
      "File \u001b[1;32m~\\.conda\\envs\\py2\\lib\\site-packages\\sklearn\\metrics\\_classification.py:307\u001b[0m, in \u001b[0;36mconfusion_matrix\u001b[1;34m(y_true, y_pred, labels, sample_weight, normalize)\u001b[0m\n\u001b[0;32m    222\u001b[0m \u001b[38;5;28;01mdef\u001b[39;00m \u001b[38;5;21mconfusion_matrix\u001b[39m(\n\u001b[0;32m    223\u001b[0m     y_true, y_pred, \u001b[38;5;241m*\u001b[39m, labels\u001b[38;5;241m=\u001b[39m\u001b[38;5;28;01mNone\u001b[39;00m, sample_weight\u001b[38;5;241m=\u001b[39m\u001b[38;5;28;01mNone\u001b[39;00m, normalize\u001b[38;5;241m=\u001b[39m\u001b[38;5;28;01mNone\u001b[39;00m\n\u001b[0;32m    224\u001b[0m ):\n\u001b[0;32m    225\u001b[0m     \u001b[38;5;124;03m\"\"\"Compute confusion matrix to evaluate the accuracy of a classification.\u001b[39;00m\n\u001b[0;32m    226\u001b[0m \n\u001b[0;32m    227\u001b[0m \u001b[38;5;124;03m    By definition a confusion matrix :math:`C` is such that :math:`C_{i, j}`\u001b[39;00m\n\u001b[1;32m   (...)\u001b[0m\n\u001b[0;32m    305\u001b[0m \u001b[38;5;124;03m    (0, 2, 1, 1)\u001b[39;00m\n\u001b[0;32m    306\u001b[0m \u001b[38;5;124;03m    \"\"\"\u001b[39;00m\n\u001b[1;32m--> 307\u001b[0m     y_type, y_true, y_pred \u001b[38;5;241m=\u001b[39m \u001b[43m_check_targets\u001b[49m\u001b[43m(\u001b[49m\u001b[43my_true\u001b[49m\u001b[43m,\u001b[49m\u001b[43m \u001b[49m\u001b[43my_pred\u001b[49m\u001b[43m)\u001b[49m\n\u001b[0;32m    308\u001b[0m     \u001b[38;5;28;01mif\u001b[39;00m y_type \u001b[38;5;129;01mnot\u001b[39;00m \u001b[38;5;129;01min\u001b[39;00m (\u001b[38;5;124m\"\u001b[39m\u001b[38;5;124mbinary\u001b[39m\u001b[38;5;124m\"\u001b[39m, \u001b[38;5;124m\"\u001b[39m\u001b[38;5;124mmulticlass\u001b[39m\u001b[38;5;124m\"\u001b[39m):\n\u001b[0;32m    309\u001b[0m         \u001b[38;5;28;01mraise\u001b[39;00m \u001b[38;5;167;01mValueError\u001b[39;00m(\u001b[38;5;124m\"\u001b[39m\u001b[38;5;132;01m%s\u001b[39;00m\u001b[38;5;124m is not supported\u001b[39m\u001b[38;5;124m\"\u001b[39m \u001b[38;5;241m%\u001b[39m y_type)\n",
      "File \u001b[1;32m~\\.conda\\envs\\py2\\lib\\site-packages\\sklearn\\metrics\\_classification.py:93\u001b[0m, in \u001b[0;36m_check_targets\u001b[1;34m(y_true, y_pred)\u001b[0m\n\u001b[0;32m     90\u001b[0m     y_type \u001b[38;5;241m=\u001b[39m {\u001b[38;5;124m\"\u001b[39m\u001b[38;5;124mmulticlass\u001b[39m\u001b[38;5;124m\"\u001b[39m}\n\u001b[0;32m     92\u001b[0m \u001b[38;5;28;01mif\u001b[39;00m \u001b[38;5;28mlen\u001b[39m(y_type) \u001b[38;5;241m>\u001b[39m \u001b[38;5;241m1\u001b[39m:\n\u001b[1;32m---> 93\u001b[0m     \u001b[38;5;28;01mraise\u001b[39;00m \u001b[38;5;167;01mValueError\u001b[39;00m(\n\u001b[0;32m     94\u001b[0m         \u001b[38;5;124m\"\u001b[39m\u001b[38;5;124mClassification metrics can\u001b[39m\u001b[38;5;124m'\u001b[39m\u001b[38;5;124mt handle a mix of \u001b[39m\u001b[38;5;132;01m{0}\u001b[39;00m\u001b[38;5;124m and \u001b[39m\u001b[38;5;132;01m{1}\u001b[39;00m\u001b[38;5;124m targets\u001b[39m\u001b[38;5;124m\"\u001b[39m\u001b[38;5;241m.\u001b[39mformat(\n\u001b[0;32m     95\u001b[0m             type_true, type_pred\n\u001b[0;32m     96\u001b[0m         )\n\u001b[0;32m     97\u001b[0m     )\n\u001b[0;32m     99\u001b[0m \u001b[38;5;66;03m# We can't have more than one value on y_type => The set is no more needed\u001b[39;00m\n\u001b[0;32m    100\u001b[0m y_type \u001b[38;5;241m=\u001b[39m y_type\u001b[38;5;241m.\u001b[39mpop()\n",
      "\u001b[1;31mValueError\u001b[0m: Classification metrics can't handle a mix of multilabel-indicator and continuous-multioutput targets"
     ]
    }
   ],
   "source": [
    "from sklearn.metrics import confusion_matrix\n",
    "cm = confusion_matrix(testY, predictions)\n",
    "\n",
    "# # Print confusion matrix heatmap for SmallVGGNet_CNN_model\n",
    "# knn_confusion = confusion_matrix(testY, predictions)\n",
    "# plt.figure(dpi=150)\n",
    "# sns.heatmap(knn_confusion, cmap=plt.cm.Blues, annot=True, square=True,\n",
    "#            xticklabels=['Cat', 'Dog', 'Panda'],\n",
    "#            yticklabels=['Cat', 'Dog', 'Panda'] )\n",
    "# plt.xlabel('Predicted')\n",
    "# plt.ylabel('Actual')\n",
    "# plt.title('SmallVGGNet_CNN confusion matrix');"
   ]
  },
  {
   "cell_type": "code",
   "execution_count": 14,
   "metadata": {
    "id": "Wlv42JHboSlj"
   },
   "outputs": [
    {
     "ename": "NameError",
     "evalue": "name 'cm' is not defined",
     "output_type": "error",
     "traceback": [
      "\u001b[1;31m---------------------------------------------------------------------------\u001b[0m",
      "\u001b[1;31mNameError\u001b[0m                                 Traceback (most recent call last)",
      "Input \u001b[1;32mIn [14]\u001b[0m, in \u001b[0;36m<cell line: 2>\u001b[1;34m()\u001b[0m\n\u001b[0;32m      1\u001b[0m \u001b[38;5;66;03m# visualize confusion matrix\u001b[39;00m\n\u001b[1;32m----> 2\u001b[0m plt\u001b[38;5;241m.\u001b[39mimshow(\u001b[43mcm\u001b[49m, interpolation\u001b[38;5;241m=\u001b[39m\u001b[38;5;124m'\u001b[39m\u001b[38;5;124mnearest\u001b[39m\u001b[38;5;124m'\u001b[39m, cmap\u001b[38;5;241m=\u001b[39mplt\u001b[38;5;241m.\u001b[39mcm\u001b[38;5;241m.\u001b[39mBlues)\n\u001b[0;32m      3\u001b[0m plt\u001b[38;5;241m.\u001b[39mylabel(\u001b[38;5;124m'\u001b[39m\u001b[38;5;124mActual label\u001b[39m\u001b[38;5;124m'\u001b[39m, weight\u001b[38;5;241m=\u001b[39m\u001b[38;5;124m'\u001b[39m\u001b[38;5;124mbold\u001b[39m\u001b[38;5;124m'\u001b[39m)\n\u001b[0;32m      4\u001b[0m plt\u001b[38;5;241m.\u001b[39mxlabel(\u001b[38;5;124m'\u001b[39m\u001b[38;5;124mPredicted label\u001b[39m\u001b[38;5;124m'\u001b[39m, weight\u001b[38;5;241m=\u001b[39m\u001b[38;5;124m'\u001b[39m\u001b[38;5;124mbold\u001b[39m\u001b[38;5;124m'\u001b[39m)\n",
      "\u001b[1;31mNameError\u001b[0m: name 'cm' is not defined"
     ]
    }
   ],
   "source": [
    "# visualize confusion matrix\n",
    "plt.imshow(cm, interpolation='nearest', cmap=plt.cm.Blues)\n",
    "plt.ylabel('Actual label', weight='bold')\n",
    "plt.xlabel('Predicted label', weight='bold')\n",
    "\n",
    "thresh = cm.max() / 2.\n",
    "\n",
    "for i, j in itertools.product(range(cm.shape[0]), range(cm.shape[1])):\n",
    "        plt.text(j, i, format(cm[i, j], 'd'),\n",
    "                 horizontalalignment=\"center\",\n",
    "                 color=\"white\" if cm[i, j] > thresh else \"black\")\n",
    "\n",
    "tick_marks = np.arange(len(iris.target_names))\n",
    "plt.xticks(tick_marks, iris.target_names, rotation=0)\n",
    "plt.yticks(tick_marks, iris.target_names)\n",
    "\n",
    "plt.show()"
   ]
  },
  {
   "cell_type": "code",
   "execution_count": 15,
   "metadata": {
    "id": "vOrwW5h4oajD"
   },
   "outputs": [
    {
     "data": {
      "text/plain": [
       "<matplotlib.legend.Legend at 0x2b145cdcbe0>"
      ]
     },
     "execution_count": 15,
     "metadata": {},
     "output_type": "execute_result"
    },
    {
     "data": {
      "image/png": "[encoded data removed]",
      "text/plain": [
       "<Figure size 576x432 with 1 Axes>"
      ]
     },
     "metadata": {},
     "output_type": "display_data"
    }
   ],
   "source": [
    "# plot the training/validation loss\n",
    "N = np.arange(0, EPOCHS)\n",
    "plt.style.use(\"ggplot\")\n",
    "plt.figure(figsize = [8,6])\n",
    "plt.plot(N, H.history[\"loss\"], label=\"train_loss\")\n",
    "plt.plot(N, H.history[\"val_loss\"], label=\"val_loss\")\n",
    "plt.title(\"Training and Validation Loss (first_CNN_model)\")\n",
    "plt.xlabel(\"Epoch #\", weight='bold')\n",
    "plt.ylabel(\"Loss\", weight='bold')\n",
    "plt.legend()"
   ]
  },
  {
   "cell_type": "code",
   "execution_count": 16,
   "metadata": {
    "id": "C0tYpFN1ofKY"
   },
   "outputs": [
    {
     "data": {
      "text/plain": [
       "<matplotlib.legend.Legend at 0x2b147658880>"
      ]
     },
     "execution_count": 16,
     "metadata": {},
     "output_type": "execute_result"
    },
    {
     "data": {
      "image/png": "[encoded data removed]",
      "text/plain": [
       "<Figure size 576x432 with 1 Axes>"
      ]
     },
     "metadata": {},
     "output_type": "display_data"
    }
   ],
   "source": [
    "# plot the training/validation accuracy\n",
    "N = np.arange(0, EPOCHS)\n",
    "plt.style.use(\"ggplot\")\n",
    "plt.figure(figsize = [8,6])\n",
    "plt.plot(N, H.history[\"accuracy\"], label=\"train_acc\")\n",
    "plt.plot(N, H.history[\"val_accuracy\"], label=\"val_acc\")\n",
    "plt.title(\"Training and Validation Accuracy (first_CNN_model)\")\n",
    "plt.xlabel(\"Epoch #\", weight='bold')\n",
    "plt.ylabel(\"Accuracy\", weight='bold')\n",
    "plt.legend()"
   ]
  },
  {
   "cell_type": "code",
   "execution_count": 17,
   "metadata": {
    "id": "8mcbVfhdohN3"
   },
   "outputs": [
    {
     "name": "stdout",
     "output_type": "stream",
     "text": [
      "[INFO] serializing network and label binarizer...\n",
      "INFO:tensorflow:Assets written to: first_CNN_model\\assets\n"
     ]
    }
   ],
   "source": [
    "# save the model and label binarizer to disk\n",
    "print(\"[INFO] serializing network and label binarizer...\")\n",
    "model.save(\"first_CNN_model\")\n",
    "f = open(\"first_CNN_model_label_bin\", \"wb\")\n",
    "f.write(pickle.dumps(lb))\n",
    "f.close()"
   ]
  },
  {
   "cell_type": "markdown",
   "metadata": {
    "id": "Bdp0TWKOo5nF"
   },
   "source": [
    "#TEST"
   ]
  },
  {
   "cell_type": "code",
   "execution_count": null,
   "metadata": {
    "id": "ReocXjZOolP8"
   },
   "outputs": [],
   "source": [
    "# make prediction\n",
    "# import the necessary packages\n",
    "from keras.models import load_model\n",
    "# import argparse\n",
    "import pickle\n",
    "import cv2\n",
    "\n",
    "# load the input image and resize it to the target spatial dimensions\n",
    "width = 64\n",
    "height = 64\n",
    "image = cv2.imread(\"/content/drive/MyDrive/Colab Notebooks/images2/happy/Aaron_Guiel_0001.jpg\")\n",
    "output = image.copy()\n",
    "image = cv2.resize(image, (width, height))\n",
    "\n",
    "# scale the pixel values to [0, 1]\n",
    "image = image.astype(\"float\") / 255.0\n",
    "\n",
    "# when working with a CNN: don't flatten the image, simply add the batch dimension\n",
    "image = image.reshape((1, image.shape[0], image.shape[1], image.shape[2]))\n",
    "\n",
    "# # load the model and label binarizer\n",
    "# print(\"[INFO] loading network and label binarizer...\")\n",
    "# model = load_model('first_CNN_model')\n",
    "# lb = pickle.loads(open(\"first_CNN_model_label_bin\", \"rb\").read())\n",
    "\n",
    "# make a prediction on the image\n",
    "preds = model.predict(image)\n",
    "\n",
    "# find the class label index with the largest corresponding probability\n",
    "i = preds.argmax(axis=1)[0]\n",
    "label = lb.classes_[i]\n",
    "\n",
    "# draw the class label + probability on the output image\n",
    "text = \"{}: {:.1f}%\".format(label, preds[0][i] * 100)\n",
    "cv2.putText(output, text, (10, 30), cv2.FONT_HERSHEY_SIMPLEX, 0.7, (0, 255, 255), 2)\n",
    "\n",
    "# show the output image\n",
    "cv2.imshow(\"Image\", output)\n",
    "cv2.waitKey(0)   # Delay in milliseconds. 0 is the special value that means “forever”, until you close the image window"
   ]
  },
  {
   "cell_type": "code",
   "execution_count": null,
   "metadata": {
    "id": "l_rIOerPo9yr"
   },
   "outputs": [],
   "source": [
    "# plot the prediction probability for each category\n",
    "import matplotlib.pyplot as plt\n",
    "import numpy as np\n",
    "plt.style.use(\"ggplot\")\n",
    "plt.figure(figsize = [10,5])   # [width, height]\n",
    "\n",
    "x = [ lb.classes_[0], lb.classes_[1], lb.classes_[2], lb.classes_[3], lb.classes_[4], lb.classes_[5], lb.classes_[6] ]\n",
    "y = [ preds[0][0], preds[0][1], preds[0][2], preds[0][3], preds[0][4], preds[0][5], preds[0][6] ]\n",
    "plt.barh(x, y, color='violet')\n",
    "\n",
    "ticks_x = np.linspace(0, 1, 11)   # (start, end, number of ticks)\n",
    "plt.xticks(ticks_x, fontsize=10, family='fantasy', color='black')\n",
    "plt.yticks( size=15, color='navy' )\n",
    "for i, v in enumerate(y):\n",
    "    plt.text(v, i, \"  \"+str((v*100).round(1))+\"%\", color='blue', va='center', fontweight=None)\n",
    "\n",
    "plt.title('Prediction Probability', family='serif', fontsize=15, style='italic', weight='bold', color='olive', loc='center', rotation=0)\n",
    "plt.xlabel('Probability', fontsize=12, weight='bold', color='blue')\n",
    "plt.ylabel('Category', fontsize=12, weight='bold', color='indigo')"
   ]
  },
  {
   "cell_type": "markdown",
   "metadata": {
    "id": "_YV5qe2FvzFj"
   },
   "source": [
    "#Test set"
   ]
  },
  {
   "cell_type": "code",
   "execution_count": null,
   "metadata": {
    "id": "bdqtHYtRvrI7"
   },
   "outputs": [],
   "source": [
    "# initialize the data and labels\n",
    "print(\"[INFO] loading images...\")\n",
    "images = []\n",
    "labels = []\n",
    "\n",
    "# grab the image paths and randomly shuffle them\n",
    "imagePaths = sorted(list(paths.list_images('test set')))\n",
    "random.seed(42)\n",
    "random.shuffle(imagePaths)\n",
    "\n",
    "# loop over the input images\n",
    "for imagePath in imagePaths:\n",
    "    # load the image, resize it to 64x64 pixels (the required input spatial dimensions of SmallVGGNet), \n",
    "    # and store the image in the data list\n",
    "    image = cv2.imread(imagePath)\n",
    "    image = cv2.resize(image, (64, 64))   # we are not flattening our data for neural network, because it is convolutional\n",
    "    images.append(image)\n",
    "\n",
    "    # extract the class label from the image path and update the labels list\n",
    "    label = imagePath.split(os.path.sep)[-2]\n",
    "    labels.append(label)\n",
    "\n",
    "# scale the raw pixel intensities to the range [0, 1]\n",
    "images = np.array(images, dtype=\"float\") / 255.0\n",
    "labels = np.array(labels)\n",
    "\n",
    "print('done')"
   ]
  },
  {
   "cell_type": "code",
   "execution_count": null,
   "metadata": {
    "id": "CRNUKDBAwIsW"
   },
   "outputs": [],
   "source": [
    "X = images\n",
    "y = labels"
   ]
  },
  {
   "cell_type": "code",
   "execution_count": null,
   "metadata": {
    "id": "EecVUclYwdJO"
   },
   "outputs": [],
   "source": [
    "# convert the labels from integers to vectors \n",
    "# (for 2-class, binary classification you should use Keras' to_categorical function)\n",
    "lb = LabelBinarizer()\n",
    "y = lb.transform(y)\n"
   ]
  },
  {
   "cell_type": "code",
   "execution_count": null,
   "metadata": {
    "id": "4-NiuoQlo9so"
   },
   "outputs": [],
   "source": [
    "score = model.evaluate(X, y, verbose=0)\n",
    "print(\"Loss is\", score[0])\n",
    "print(\"Accuracy score is\", score[1])"
   ]
  }
 ],
 "metadata": {
  "accelerator": "GPU",
  "colab": {
   "name": "Cnn_Ver2.ipynb",
   "provenance": []
  },
  "kernelspec": {
   "display_name": "Python 3 (ipykernel)",
   "language": "python",
   "name": "python3"
  },
  "language_info": {
   "codemirror_mode": {
    "name": "ipython",
    "version": 3
   },
   "file_extension": ".py",
   "mimetype": "text/x-python",
   "name": "python",
   "nbconvert_exporter": "python",
   "pygments_lexer": "ipython3",
   "version": "3.9.7"
  }
 },
 "nbformat": 4,
 "nbformat_minor": 1
}
