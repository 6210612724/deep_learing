{
 "cells": [
  {
   "cell_type": "code",
   "execution_count": 2,
   "metadata": {},
   "outputs": [
    {
     "name": "stdout",
     "output_type": "stream",
     "text": [
      "[PhysicalDevice(name='/physical_device:CPU:0', device_type='CPU'), PhysicalDevice(name='/physical_device:GPU:0', device_type='GPU')]\n"
     ]
    },
    {
     "data": {
      "text/plain": [
       "[PhysicalDevice(name='/physical_device:CPU:0', device_type='CPU'),\n",
       " PhysicalDevice(name='/physical_device:GPU:0', device_type='GPU')]"
      ]
     },
     "execution_count": 2,
     "metadata": {},
     "output_type": "execute_result"
    }
   ],
   "source": [
    "import tensorflow as tf\n",
    "print(tf.config.list_physical_devices())\n",
    "tf.config.experimental.list_physical_devices()"
   ]
  },
  {
   "cell_type": "code",
   "execution_count": 3,
   "metadata": {
    "id": "rG6yD4udbR8i"
   },
   "outputs": [],
   "source": [
    "import numpy as np\n",
    "import pandas as pd\n",
    "\n",
    "import keras as k"
   ]
  },
  {
   "cell_type": "code",
   "execution_count": null,
   "metadata": {
    "id": "Lz0bJERwbbrG"
   },
   "outputs": [],
   "source": [
    "train_set = pd.read_csv('C:/Users/thanawin/Desktop/Deep/pixel_trainset2.csv')\n",
    "val_set = pd.read_csv('C:/Users/thanawin/Desktop/Deep/pixel_trainset2.csv')\n",
    "#test_set = pd.read_csv('C:/Users/ROG/Downloads/pixel_testset2.csv')"
   ]
  },
  {
   "cell_type": "code",
   "execution_count": null,
   "metadata": {
    "id": "dC2Y92JEbaEe"
   },
   "outputs": [],
   "source": [
    "y_train=train_set['label']"
   ]
  },
  {
   "cell_type": "code",
   "execution_count": null,
   "metadata": {
    "id": "3gTjns27b9HK"
   },
   "outputs": [],
   "source": [
    "X_train = np.array(list(map(str.split, train_set.pixel)), np.float32)\n",
    "\n",
    "X_val = np.array(list(map(str.split, val_set.pixel)), np.float32)\n",
    "#X_test = np.array(list(map(str.split, test_set.pixel)), np.float32) \n",
    "Y_val=val_set['label']\n",
    "#_test=test_set['label']"
   ]
  },
  {
   "cell_type": "code",
   "execution_count": null,
   "metadata": {},
   "outputs": [],
   "source": []
  },
  {
   "cell_type": "code",
   "execution_count": null,
   "metadata": {
    "id": "qB9dtB5FcDPl"
   },
   "outputs": [],
   "source": [
    "X_train = X_train.reshape(X_train.shape[0], 128, 128, 1) \n",
    "X_val = X_val.reshape(X_val.shape[0], 128, 128, 1)\n",
    "#X_test = X_test.reshape(X_test.shape[0], 128, 128, 1)"
   ]
  },
  {
   "cell_type": "code",
   "execution_count": null,
   "metadata": {
    "id": "2tnm3ynlcK4B"
   },
   "outputs": [],
   "source": [
    "from keras.utils import np_utils\n",
    "from tensorflow.keras.utils import to_categorical\n",
    "from keras.models import Sequential\n",
    "from keras.layers import Dense, Dropout, Flatten, Conv2D, MaxPooling2D, BatchNormalization\n",
    "from keras.callbacks import EarlyStopping, ModelCheckpoint\n",
    "from sklearn.model_selection import train_test_split"
   ]
  },
  {
   "cell_type": "code",
   "execution_count": null,
   "metadata": {
    "id": "IUN4zrg8cMKh"
   },
   "outputs": [],
   "source": [
    "Y_val.shape"
   ]
  },
  {
   "cell_type": "code",
   "execution_count": null,
   "metadata": {
    "id": "0VpsX9tgcOMg"
   },
   "outputs": [],
   "source": [
    "y_train = to_categorical(y_train, 7)\n",
    "Y_val = to_categorical(Y_val, 7)"
   ]
  },
  {
   "cell_type": "code",
   "execution_count": null,
   "metadata": {
    "id": "-90mA3hqcQmn"
   },
   "outputs": [],
   "source": [
    "#CNN\n",
    "cnn4 = Sequential() #Sequential model allows to build a model layer by layer\n",
    "\n",
    "#--------------------------------Input layer------------------------------------------# \n",
    "#COnvolution layer parametrs:\n",
    "#No of output filters: 32\n",
    "#kernel_size: specifying the height and width of the 2D convolution window : (3,3)\n",
    "#activation function : relu\n",
    "#input_shape : shape of image matrix : 48x48x1 : (Gray Scale Image)\n",
    "cnn4.add(Conv2D(8, kernel_size=(3, 3), activation='relu', input_shape=(128,128,1))) \n",
    "#Batch Normalization : It is used to normalize the output of the previous layers. The activations scale the input layer in normalization.\n",
    "#Using batch normalization learning becomes efficient also it can be used as regularization to avoid overfitting of the model.  \n",
    "cnn4.add(BatchNormalization())\n",
    "\n",
    "#--------------------------------Second layer------------------------------------------# \n",
    "cnn4.add(Conv2D(8, kernel_size=(3, 3), activation='relu')) \n",
    "cnn4.add(BatchNormalization())\n",
    "cnn4.add(MaxPooling2D(pool_size=(2, 2))) #Down-sampling opertaion to reduce dimensionality of feature map\n",
    "cnn4.add(Dropout(0.25)) #regularization technique to reduce overfitting: dropouts randomly switches off some neurons in the network which forces the data to find new paths\n",
    "\n",
    "#--------------------------------Third layer------------------------------------------# \n",
    "cnn4.add(Conv2D(32, kernel_size=(3, 3), activation='relu'))\n",
    "cnn4.add(BatchNormalization())\n",
    "cnn4.add(Dropout(0.25))\n",
    "\n",
    "#--------------------------------Fourth layer------------------------------------------# \n",
    "cnn4.add(Conv2D(64, kernel_size=(3, 3), activation='relu'))\n",
    "cnn4.add(BatchNormalization())\n",
    "cnn4.add(MaxPooling2D(pool_size=(2, 2)))\n",
    "cnn4.add(Dropout(0.25))\n",
    "\n",
    "#--------------------------------five layer------------------------------------------# \n",
    "cnn4.add(Conv2D(128, kernel_size=(3, 3), activation='relu'))\n",
    "cnn4.add(BatchNormalization())\n",
    "cnn4.add(Dropout(0.25))\n",
    "\n",
    "#--------------------------------six layer------------------------------------------# \n",
    "cnn4.add(Conv2D(256, kernel_size=(3, 3), activation='relu'))\n",
    "cnn4.add(BatchNormalization())\n",
    "cnn4.add(MaxPooling2D(pool_size=(2, 2)))\n",
    "cnn4.add(Dropout(0.25))\n",
    "\n",
    "cnn4.add(Flatten()) #converts 3d vector to 1 d vector : Flatten serves as a connection between the convolution and dense layers.\n",
    "\n",
    "#--------------------------------Output layers------------------------------------------# \n",
    "#‘Dense’ is the layer type we will use in for our output layer. \n",
    "cnn4.add(Dense(256, activation='relu')) #Dense layer predict labels\n",
    "cnn4.add(BatchNormalization())\n",
    "cnn4.add(Dropout(0.5))\n",
    "\n",
    "cnn4.add(Dense(256, activation='relu'))\n",
    "cnn4.add(BatchNormalization())\n",
    "cnn4.add(Dropout(0.5))\n",
    "\n",
    "cnn4.add(Dense(7, activation='softmax'))        #FINAL PREDICTION\n",
    "#Softmax makes the output sum up to 1 so the output can be interpreted as probabilities."
   ]
  },
  {
   "cell_type": "code",
   "execution_count": null,
   "metadata": {
    "id": "z61LSCOadTke"
   },
   "outputs": [],
   "source": [
    "#Parameters:\n",
    "#1) The optimizer controls the learning rate. Optmizerused : 'adam'. The adam optimizer adjusts the learning rate throughout training.\n",
    "#2) Loss function used: ‘categorical_crossentropy\". A lower score indicates that the model is performing better.\n",
    "#3) To make things even easier to interpret, ‘accuracy’ metric is used to see the accuracy score on the validation set when we train the model.\n",
    "cnn4.compile(loss='categorical_crossentropy',\n",
    "             optimizer='adam',\n",
    "             metrics=['accuracy'])"
   ]
  },
  {
   "cell_type": "code",
   "execution_count": null,
   "metadata": {
    "id": "dGRWDcz1dXJe"
   },
   "outputs": [],
   "source": [
    "#The batch size defines the number of samples that will be propagated through the network.(at a time)\n",
    "cnn4.fit(X_train,\n",
    "         y_train,\n",
    "         batch_size=32,\n",
    "         epochs=30,\n",
    "         verbose=1,\n",
    "         validation_data=(X_val, Y_val)\n",
    "         )"
   ]
  },
  {
   "cell_type": "code",
   "execution_count": null,
   "metadata": {
    "id": "mShMEoZRdYsP"
   },
   "outputs": [],
   "source": [
    "import matplotlib.pyplot as plt\n",
    "plt.figure(figsize=(9,6))\n",
    "plt.plot(cnn4.history.history['accuracy'], label='Train accuracy')\n",
    "plt.plot(cnn4.history.history['val_accuracy'], label='Validation accuracy')\n",
    "plt.ylabel('Value')\n",
    "plt.xlabel('No. epoch')\n",
    "plt.legend()\n",
    "plt.show()"
   ]
  },
  {
   "cell_type": "code",
   "execution_count": null,
   "metadata": {},
   "outputs": [],
   "source": [
    "cnn4.summary()"
   ]
  },
  {
   "cell_type": "code",
   "execution_count": null,
   "metadata": {},
   "outputs": [],
   "source": [
    "from keras.utils.vis_utils import plot_model\n",
    "plot_model(cnn4, to_file='model.png')"
   ]
  },
  {
   "cell_type": "code",
   "execution_count": null,
   "metadata": {},
   "outputs": [],
   "source": [
    "pip install pydot"
   ]
  },
  {
   "cell_type": "code",
   "execution_count": null,
   "metadata": {},
   "outputs": [],
   "source": []
  }
 ],
 "metadata": {
  "colab": {
   "collapsed_sections": [],
   "name": "cnn_trainmodel.ipynb",
   "provenance": []
  },
  "kernelspec": {
   "display_name": "Python 3 (ipykernel)",
   "language": "python",
   "name": "python3"
  },
  "language_info": {
   "codemirror_mode": {
    "name": "ipython",
    "version": 3
   },
   "file_extension": ".py",
   "mimetype": "text/x-python",
   "name": "python",
   "nbconvert_exporter": "python",
   "pygments_lexer": "ipython3",
   "version": "3.9.7"
  }
 },
 "nbformat": 4,
 "nbformat_minor": 1
}
